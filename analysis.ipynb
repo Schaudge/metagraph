{
 "cells": [
  {
   "cell_type": "code",
   "execution_count": 1,
   "metadata": {
    "ExecuteTime": {
     "end_time": "2018-05-16T12:49:08.910020Z",
     "start_time": "2018-05-16T12:49:08.259706Z"
    }
   },
   "outputs": [],
   "source": [
    "import glob\n",
    "import os\n",
    "import pandas as pd\n",
    "from io import StringIO\n",
    "from matplotlib import pyplot as plt\n",
    "from IPython.display import set_matplotlib_formats\n",
    "set_matplotlib_formats('png', 'pdf')\n",
    "import numpy as np\n",
    "\n",
    "%matplotlib inline\n",
    "%load_ext autoreload\n",
    "%autoreload 2"
   ]
  },
  {
   "cell_type": "markdown",
   "metadata": {},
   "source": [
    "### RNA-seq short-read sequencing data"
   ]
  },
  {
   "cell_type": "code",
   "execution_count": 2,
   "metadata": {
    "ExecuteTime": {
     "end_time": "2018-05-16T12:49:09.174652Z",
     "start_time": "2018-05-16T12:49:09.162324Z"
    }
   },
   "outputs": [],
   "source": [
    "dataset = '/cluster/work/grlab/projects/metagenome/benchmark_kingsford/data_fasta/SRR*.fasta.gz'"
   ]
  },
  {
   "cell_type": "code",
   "execution_count": 3,
   "metadata": {
    "ExecuteTime": {
     "end_time": "2018-05-16T12:49:09.513841Z",
     "start_time": "2018-05-16T12:49:09.445377Z"
    },
    "scrolled": true
   },
   "outputs": [
    {
     "data": {
      "text/plain": [
       "['/cluster/work/grlab/projects/metagenome/benchmark_kingsford/data_fasta/SRR1035700.fasta.gz',\n",
       " '/cluster/work/grlab/projects/metagenome/benchmark_kingsford/data_fasta/SRR654041.fasta.gz',\n",
       " '/cluster/work/grlab/projects/metagenome/benchmark_kingsford/data_fasta/SRR191536.fasta.gz',\n",
       " '/cluster/work/grlab/projects/metagenome/benchmark_kingsford/data_fasta/SRR343348.fasta.gz',\n",
       " '/cluster/work/grlab/projects/metagenome/benchmark_kingsford/data_fasta/SRR805884.fasta.gz',\n",
       " '/cluster/work/grlab/projects/metagenome/benchmark_kingsford/data_fasta/SRR403016.fasta.gz',\n",
       " '/cluster/work/grlab/projects/metagenome/benchmark_kingsford/data_fasta/SRR846956.fasta.gz',\n",
       " '/cluster/work/grlab/projects/metagenome/benchmark_kingsford/data_fasta/SRR1002075.fasta.gz',\n",
       " '/cluster/work/grlab/projects/metagenome/benchmark_kingsford/data_fasta/SRR567154.fasta.gz',\n",
       " '/cluster/work/grlab/projects/metagenome/benchmark_kingsford/data_fasta/SRR1066641.fasta.gz']"
      ]
     },
     "execution_count": 3,
     "metadata": {},
     "output_type": "execute_result"
    }
   ],
   "source": [
    "files = glob.glob(dataset)\n",
    "files[:10]"
   ]
  },
  {
   "cell_type": "code",
   "execution_count": 4,
   "metadata": {
    "ExecuteTime": {
     "end_time": "2018-05-16T12:49:12.587759Z",
     "start_time": "2018-05-16T12:49:10.190504Z"
    }
   },
   "outputs": [
    {
     "name": "stdout",
     "output_type": "stream",
     "text": [
      "Files in the dataset: 2652\n",
      "Size of the dataset: 2948.94 Gib\n"
     ]
    }
   ],
   "source": [
    "print('Files in the dataset: {}'.format(len(files)))\n",
    "print('Size of the dataset: {:.2f} Gib'.format(sum([os.path.getsize(x) for x in files]) / 2**30))"
   ]
  },
  {
   "cell_type": "code",
   "execution_count": 5,
   "metadata": {
    "ExecuteTime": {
     "end_time": "2018-05-16T12:49:12.732103Z",
     "start_time": "2018-05-16T12:49:12.590009Z"
    }
   },
   "outputs": [
    {
     "data": {
      "text/plain": [
       "SRR1035700    1.269203\n",
       "SRR654041     0.349531\n",
       "SRR191536     0.000381\n",
       "SRR343348     0.112754\n",
       "SRR805884     2.364810\n",
       "dtype: float64"
      ]
     },
     "execution_count": 5,
     "metadata": {},
     "output_type": "execute_result"
    }
   ],
   "source": [
    "data_size = pd.Series(data=[os.path.getsize(x) / 2**30 for x in files], index=[x.split('/')[-1][:-len('.fasta.gz')] for x in files])\n",
    "data_size.head()"
   ]
  },
  {
   "cell_type": "code",
   "execution_count": 6,
   "metadata": {
    "ExecuteTime": {
     "end_time": "2018-05-16T12:49:12.756400Z",
     "start_time": "2018-05-16T12:49:12.733393Z"
    }
   },
   "outputs": [
    {
     "data": {
      "text/plain": [
       "['/cluster/home/mikhaika/big_graph/graph_SRR_k20_2/annotation/SRR101424.color.annodbg',\n",
       " '/cluster/home/mikhaika/big_graph/graph_SRR_k20_2/annotation/SRR1047839.color.annodbg',\n",
       " '/cluster/home/mikhaika/big_graph/graph_SRR_k20_2/annotation/SRR543516.color.annodbg',\n",
       " '/cluster/home/mikhaika/big_graph/graph_SRR_k20_2/annotation/SRR066463.color.annodbg',\n",
       " '/cluster/home/mikhaika/big_graph/graph_SRR_k20_2/annotation/SRR306839.color.annodbg',\n",
       " '/cluster/home/mikhaika/big_graph/graph_SRR_k20_2/annotation/SRR448330.color.annodbg',\n",
       " '/cluster/home/mikhaika/big_graph/graph_SRR_k20_2/annotation/SRR353645.color.annodbg',\n",
       " '/cluster/home/mikhaika/big_graph/graph_SRR_k20_2/annotation/SRR934636.color.annodbg',\n",
       " '/cluster/home/mikhaika/big_graph/graph_SRR_k20_2/annotation/SRR343345.color.annodbg',\n",
       " '/cluster/home/mikhaika/big_graph/graph_SRR_k20_2/annotation/SRR567136.color.annodbg']"
      ]
     },
     "execution_count": 6,
     "metadata": {},
     "output_type": "execute_result"
    }
   ],
   "source": [
    "annotation = '/cluster/home/mikhaika/big_graph/graph_SRR_k20_2/annotation/*.color.annodbg'\n",
    "anno_files = glob.glob(annotation)\n",
    "anno_files[:10]"
   ]
  },
  {
   "cell_type": "code",
   "execution_count": 7,
   "metadata": {
    "ExecuteTime": {
     "end_time": "2018-05-16T12:49:16.067299Z",
     "start_time": "2018-05-16T12:49:13.766170Z"
    }
   },
   "outputs": [
    {
     "name": "stdout",
     "output_type": "stream",
     "text": [
      "Size of annotation: 24.40 Gib\n"
     ]
    }
   ],
   "source": [
    "print('Size of annotation: {:.2f} Gib'.format(sum([os.path.getsize(x) for x in anno_files]) / 2**30))"
   ]
  },
  {
   "cell_type": "code",
   "execution_count": 8,
   "metadata": {
    "ExecuteTime": {
     "end_time": "2018-05-16T12:49:20.392688Z",
     "start_time": "2018-05-16T12:49:20.096184Z"
    }
   },
   "outputs": [
    {
     "data": {
      "text/plain": [
       "SRR101424     0.002247\n",
       "SRR1047839    0.007285\n",
       "SRR543516     0.003775\n",
       "SRR066463     0.004361\n",
       "SRR306839     0.009361\n",
       "dtype: float64"
      ]
     },
     "execution_count": 8,
     "metadata": {},
     "output_type": "execute_result"
    }
   ],
   "source": [
    "column_size = pd.Series(data=[os.path.getsize(x) / 2**30 for x in anno_files], index=[x.split('/')[-1][:-len('.color.annodbg')] for x in anno_files])\n",
    "column_size.head()"
   ]
  },
  {
   "cell_type": "code",
   "execution_count": 9,
   "metadata": {
    "ExecuteTime": {
     "end_time": "2018-05-16T12:49:21.354577Z",
     "start_time": "2018-05-16T12:49:21.219341Z"
    }
   },
   "outputs": [
    {
     "data": {
      "text/html": [
       "<div>\n",
       "<style scoped>\n",
       "    .dataframe tbody tr th:only-of-type {\n",
       "        vertical-align: middle;\n",
       "    }\n",
       "\n",
       "    .dataframe tbody tr th {\n",
       "        vertical-align: top;\n",
       "    }\n",
       "\n",
       "    .dataframe thead th {\n",
       "        text-align: right;\n",
       "    }\n",
       "</style>\n",
       "<table border=\"1\" class=\"dataframe\">\n",
       "  <thead>\n",
       "    <tr style=\"text-align: right;\">\n",
       "      <th></th>\n",
       "      <th>ComprData</th>\n",
       "      <th>Annotation</th>\n",
       "    </tr>\n",
       "  </thead>\n",
       "  <tbody>\n",
       "    <tr>\n",
       "      <th>SRR1035700</th>\n",
       "      <td>1.269203</td>\n",
       "      <td>1.385124e-02</td>\n",
       "    </tr>\n",
       "    <tr>\n",
       "      <th>SRR654041</th>\n",
       "      <td>0.349531</td>\n",
       "      <td>3.799959e-03</td>\n",
       "    </tr>\n",
       "    <tr>\n",
       "      <th>SRR191536</th>\n",
       "      <td>0.000381</td>\n",
       "      <td>2.695192e-04</td>\n",
       "    </tr>\n",
       "    <tr>\n",
       "      <th>SRR343348</th>\n",
       "      <td>0.112754</td>\n",
       "      <td>2.235174e-08</td>\n",
       "    </tr>\n",
       "    <tr>\n",
       "      <th>SRR805884</th>\n",
       "      <td>2.364810</td>\n",
       "      <td>1.031428e-02</td>\n",
       "    </tr>\n",
       "  </tbody>\n",
       "</table>\n",
       "</div>"
      ],
      "text/plain": [
       "            ComprData    Annotation\n",
       "SRR1035700   1.269203  1.385124e-02\n",
       "SRR654041    0.349531  3.799959e-03\n",
       "SRR191536    0.000381  2.695192e-04\n",
       "SRR343348    0.112754  2.235174e-08\n",
       "SRR805884    2.364810  1.031428e-02"
      ]
     },
     "execution_count": 9,
     "metadata": {},
     "output_type": "execute_result"
    }
   ],
   "source": [
    "stats = pd.DataFrame(data_size, columns=['ComprData'])\n",
    "stats['Annotation'] = column_size\n",
    "stats.head()"
   ]
  },
  {
   "cell_type": "code",
   "execution_count": 10,
   "metadata": {
    "ExecuteTime": {
     "end_time": "2018-05-16T12:49:28.483648Z",
     "start_time": "2018-05-16T12:49:22.144366Z"
    }
   },
   "outputs": [],
   "source": [
    "!./metagraph/build/metagengraph stats -a /cluster/work/grlab/projects/metagenome/benchmark_kingsford_results/graph_SRR_k20_2/merged_annotation.color.annodbg"
   ]
  },
  {
   "cell_type": "code",
   "execution_count": 11,
   "metadata": {
    "ExecuteTime": {
     "end_time": "2018-05-16T12:49:46.191299Z",
     "start_time": "2018-05-16T12:49:41.197142Z"
    }
   },
   "outputs": [],
   "source": [
    "%%bash --out output --err error\n",
    "\n",
    "./metagraph/build/metagengraph stats -v -a /cluster/work/grlab/projects/metagenome/benchmark_kingsford_results/graph_SRR_k20_2/merged_annotation.color.annodbg"
   ]
  },
  {
   "cell_type": "code",
   "execution_count": 12,
   "metadata": {
    "ExecuteTime": {
     "end_time": "2018-05-16T12:49:47.836962Z",
     "start_time": "2018-05-16T12:49:47.818067Z"
    }
   },
   "outputs": [
    {
     "name": "stdout",
     "output_type": "stream",
     "text": [
      "bash: line 2: 19425 Killed                  ./metagraph/build/metagengraph stats -v -a /cluster/work/grlab/projects/metagenome/benchmark_kingsford_results/graph_SRR_k20_2/merged_annotation.color.annodbg\n",
      "\n"
     ]
    }
   ],
   "source": [
    "print(error)"
   ]
  },
  {
   "cell_type": "code",
   "execution_count": 13,
   "metadata": {
    "ExecuteTime": {
     "end_time": "2018-05-16T12:42:41.122188Z",
     "start_time": "2018-05-16T12:42:41.095322Z"
    }
   },
   "outputs": [
    {
     "data": {
      "text/html": [
       "<div>\n",
       "<style scoped>\n",
       "    .dataframe tbody tr th:only-of-type {\n",
       "        vertical-align: middle;\n",
       "    }\n",
       "\n",
       "    .dataframe tbody tr th {\n",
       "        vertical-align: top;\n",
       "    }\n",
       "\n",
       "    .dataframe thead th {\n",
       "        text-align: right;\n",
       "    }\n",
       "</style>\n",
       "<table border=\"1\" class=\"dataframe\">\n",
       "  <thead>\n",
       "    <tr style=\"text-align: right;\">\n",
       "      <th></th>\n",
       "      <th>File</th>\n",
       "      <th>Density</th>\n",
       "      <th>SetBits</th>\n",
       "      <th>Initial_order</th>\n",
       "    </tr>\n",
       "  </thead>\n",
       "  <tbody>\n",
       "    <tr>\n",
       "      <th>186</th>\n",
       "      <td>&lt;/cluster/work/grlab/projects/metagenome/bench...</td>\n",
       "      <td>0.000242</td>\n",
       "      <td>1607556</td>\n",
       "      <td>186</td>\n",
       "    </tr>\n",
       "    <tr>\n",
       "      <th>187</th>\n",
       "      <td>&lt;/cluster/work/grlab/projects/metagenome/bench...</td>\n",
       "      <td>0.000367</td>\n",
       "      <td>2434261</td>\n",
       "      <td>187</td>\n",
       "    </tr>\n",
       "    <tr>\n",
       "      <th>188</th>\n",
       "      <td>&lt;/cluster/work/grlab/projects/metagenome/bench...</td>\n",
       "      <td>0.000200</td>\n",
       "      <td>1326993</td>\n",
       "      <td>188</td>\n",
       "    </tr>\n",
       "    <tr>\n",
       "      <th>189</th>\n",
       "      <td>&lt;/cluster/work/grlab/projects/metagenome/bench...</td>\n",
       "      <td>0.000778</td>\n",
       "      <td>5160451</td>\n",
       "      <td>189</td>\n",
       "    </tr>\n",
       "    <tr>\n",
       "      <th>190</th>\n",
       "      <td>&lt;/cluster/work/grlab/projects/metagenome/bench...</td>\n",
       "      <td>0.001620</td>\n",
       "      <td>10750842</td>\n",
       "      <td>190</td>\n",
       "    </tr>\n",
       "  </tbody>\n",
       "</table>\n",
       "</div>"
      ],
      "text/plain": [
       "                                                  File   Density   SetBits  \\\n",
       "186  </cluster/work/grlab/projects/metagenome/bench...  0.000242   1607556   \n",
       "187  </cluster/work/grlab/projects/metagenome/bench...  0.000367   2434261   \n",
       "188  </cluster/work/grlab/projects/metagenome/bench...  0.000200   1326993   \n",
       "189  </cluster/work/grlab/projects/metagenome/bench...  0.000778   5160451   \n",
       "190  </cluster/work/grlab/projects/metagenome/bench...  0.001620  10750842   \n",
       "\n",
       "     Initial_order  \n",
       "186            186  \n",
       "187            187  \n",
       "188            188  \n",
       "189            189  \n",
       "190            190  "
      ]
     },
     "execution_count": 13,
     "metadata": {},
     "output_type": "execute_result"
    }
   ],
   "source": [
    "string_io = StringIO('\\n'.join(output.split('\\n')[5:-95]))\n",
    "annotation_stats = pd.read_csv(string_io, delimiter=' ', header=None, usecols=[1, 3, 6], names=['File', 'Density', 'SetBits'])\n",
    "annotation_stats['Density'] = annotation_stats['Density'].apply(lambda x: float(x[:-1]) if x.endswith(',') else float(x))\n",
    "annotation_stats['Initial_order'] = np.arange(annotation_stats.shape[0])\n",
    "annotation_stats.tail()"
   ]
  },
  {
   "cell_type": "code",
   "execution_count": 14,
   "metadata": {
    "ExecuteTime": {
     "end_time": "2018-05-16T12:42:41.142310Z",
     "start_time": "2018-05-16T12:42:41.123999Z"
    }
   },
   "outputs": [
    {
     "data": {
      "text/html": [
       "<div>\n",
       "<style scoped>\n",
       "    .dataframe tbody tr th:only-of-type {\n",
       "        vertical-align: middle;\n",
       "    }\n",
       "\n",
       "    .dataframe tbody tr th {\n",
       "        vertical-align: top;\n",
       "    }\n",
       "\n",
       "    .dataframe thead th {\n",
       "        text-align: right;\n",
       "    }\n",
       "</style>\n",
       "<table border=\"1\" class=\"dataframe\">\n",
       "  <thead>\n",
       "    <tr style=\"text-align: right;\">\n",
       "      <th></th>\n",
       "      <th>Density</th>\n",
       "      <th>SetBits</th>\n",
       "      <th>Initial_order</th>\n",
       "    </tr>\n",
       "    <tr>\n",
       "      <th>File</th>\n",
       "      <th></th>\n",
       "      <th></th>\n",
       "      <th></th>\n",
       "    </tr>\n",
       "  </thead>\n",
       "  <tbody>\n",
       "    <tr>\n",
       "      <th>SRR014494</th>\n",
       "      <td>0.000144</td>\n",
       "      <td>958367</td>\n",
       "      <td>0</td>\n",
       "    </tr>\n",
       "    <tr>\n",
       "      <th>SRR014495</th>\n",
       "      <td>0.000156</td>\n",
       "      <td>1032433</td>\n",
       "      <td>1</td>\n",
       "    </tr>\n",
       "    <tr>\n",
       "      <th>SRR029131</th>\n",
       "      <td>0.000153</td>\n",
       "      <td>1012116</td>\n",
       "      <td>2</td>\n",
       "    </tr>\n",
       "    <tr>\n",
       "      <th>SRR032273</th>\n",
       "      <td>0.001222</td>\n",
       "      <td>8107049</td>\n",
       "      <td>3</td>\n",
       "    </tr>\n",
       "    <tr>\n",
       "      <th>SRR032276</th>\n",
       "      <td>0.001227</td>\n",
       "      <td>8139884</td>\n",
       "      <td>4</td>\n",
       "    </tr>\n",
       "  </tbody>\n",
       "</table>\n",
       "</div>"
      ],
      "text/plain": [
       "            Density  SetBits  Initial_order\n",
       "File                                       \n",
       "SRR014494  0.000144   958367              0\n",
       "SRR014495  0.000156  1032433              1\n",
       "SRR029131  0.000153  1012116              2\n",
       "SRR032273  0.001222  8107049              3\n",
       "SRR032276  0.001227  8139884              4"
      ]
     },
     "execution_count": 14,
     "metadata": {},
     "output_type": "execute_result"
    }
   ],
   "source": [
    "annotation_stats.index = annotation_stats['File'].apply(lambda x: x.split('/')[-1].split('.')[0])\n",
    "del annotation_stats['File']\n",
    "annotation_stats.head()"
   ]
  },
  {
   "cell_type": "code",
   "execution_count": 15,
   "metadata": {
    "ExecuteTime": {
     "end_time": "2018-05-16T12:42:41.163639Z",
     "start_time": "2018-05-16T12:42:41.144198Z"
    },
    "scrolled": true
   },
   "outputs": [
    {
     "data": {
      "text/html": [
       "<div>\n",
       "<style scoped>\n",
       "    .dataframe tbody tr th:only-of-type {\n",
       "        vertical-align: middle;\n",
       "    }\n",
       "\n",
       "    .dataframe tbody tr th {\n",
       "        vertical-align: top;\n",
       "    }\n",
       "\n",
       "    .dataframe thead th {\n",
       "        text-align: right;\n",
       "    }\n",
       "</style>\n",
       "<table border=\"1\" class=\"dataframe\">\n",
       "  <thead>\n",
       "    <tr style=\"text-align: right;\">\n",
       "      <th></th>\n",
       "      <th>ComprData</th>\n",
       "      <th>Annotation</th>\n",
       "      <th>Density</th>\n",
       "      <th>SetBits</th>\n",
       "    </tr>\n",
       "  </thead>\n",
       "  <tbody>\n",
       "    <tr>\n",
       "      <th>SRR1035700</th>\n",
       "      <td>1.269203</td>\n",
       "      <td>1.385124e-02</td>\n",
       "      <td>NaN</td>\n",
       "      <td>NaN</td>\n",
       "    </tr>\n",
       "    <tr>\n",
       "      <th>SRR654041</th>\n",
       "      <td>0.349531</td>\n",
       "      <td>3.799959e-03</td>\n",
       "      <td>NaN</td>\n",
       "      <td>NaN</td>\n",
       "    </tr>\n",
       "    <tr>\n",
       "      <th>SRR191536</th>\n",
       "      <td>0.000381</td>\n",
       "      <td>2.695192e-04</td>\n",
       "      <td>NaN</td>\n",
       "      <td>NaN</td>\n",
       "    </tr>\n",
       "    <tr>\n",
       "      <th>SRR343348</th>\n",
       "      <td>0.112754</td>\n",
       "      <td>2.235174e-08</td>\n",
       "      <td>NaN</td>\n",
       "      <td>NaN</td>\n",
       "    </tr>\n",
       "    <tr>\n",
       "      <th>SRR805884</th>\n",
       "      <td>2.364810</td>\n",
       "      <td>1.031428e-02</td>\n",
       "      <td>NaN</td>\n",
       "      <td>NaN</td>\n",
       "    </tr>\n",
       "  </tbody>\n",
       "</table>\n",
       "</div>"
      ],
      "text/plain": [
       "            ComprData    Annotation  Density  SetBits\n",
       "SRR1035700   1.269203  1.385124e-02      NaN      NaN\n",
       "SRR654041    0.349531  3.799959e-03      NaN      NaN\n",
       "SRR191536    0.000381  2.695192e-04      NaN      NaN\n",
       "SRR343348    0.112754  2.235174e-08      NaN      NaN\n",
       "SRR805884    2.364810  1.031428e-02      NaN      NaN"
      ]
     },
     "execution_count": 15,
     "metadata": {},
     "output_type": "execute_result"
    }
   ],
   "source": [
    "stats['Density'] = annotation_stats['Density']\n",
    "stats['SetBits'] = annotation_stats['SetBits']\n",
    "\n",
    "stats.head()"
   ]
  },
  {
   "cell_type": "code",
   "execution_count": 16,
   "metadata": {
    "ExecuteTime": {
     "end_time": "2018-05-16T12:42:41.185116Z",
     "start_time": "2018-05-16T12:42:41.165363Z"
    }
   },
   "outputs": [
    {
     "data": {
      "text/html": [
       "<div>\n",
       "<style scoped>\n",
       "    .dataframe tbody tr th:only-of-type {\n",
       "        vertical-align: middle;\n",
       "    }\n",
       "\n",
       "    .dataframe tbody tr th {\n",
       "        vertical-align: top;\n",
       "    }\n",
       "\n",
       "    .dataframe thead th {\n",
       "        text-align: right;\n",
       "    }\n",
       "</style>\n",
       "<table border=\"1\" class=\"dataframe\">\n",
       "  <thead>\n",
       "    <tr style=\"text-align: right;\">\n",
       "      <th></th>\n",
       "      <th>ComprData</th>\n",
       "      <th>Annotation</th>\n",
       "      <th>Density</th>\n",
       "      <th>SetBits</th>\n",
       "    </tr>\n",
       "  </thead>\n",
       "  <tbody>\n",
       "    <tr>\n",
       "      <th>SRR1292583</th>\n",
       "      <td>0.857033</td>\n",
       "      <td>0.060838</td>\n",
       "      <td>NaN</td>\n",
       "      <td>NaN</td>\n",
       "    </tr>\n",
       "    <tr>\n",
       "      <th>SRR1292584</th>\n",
       "      <td>0.909083</td>\n",
       "      <td>0.060888</td>\n",
       "      <td>NaN</td>\n",
       "      <td>NaN</td>\n",
       "    </tr>\n",
       "    <tr>\n",
       "      <th>SRR1292582</th>\n",
       "      <td>0.961369</td>\n",
       "      <td>0.070980</td>\n",
       "      <td>NaN</td>\n",
       "      <td>NaN</td>\n",
       "    </tr>\n",
       "    <tr>\n",
       "      <th>SRR1047874</th>\n",
       "      <td>6.974367</td>\n",
       "      <td>0.397054</td>\n",
       "      <td>NaN</td>\n",
       "      <td>NaN</td>\n",
       "    </tr>\n",
       "    <tr>\n",
       "      <th>SRR1047873</th>\n",
       "      <td>6.675645</td>\n",
       "      <td>0.431632</td>\n",
       "      <td>NaN</td>\n",
       "      <td>NaN</td>\n",
       "    </tr>\n",
       "    <tr>\n",
       "      <th>SRR1047864</th>\n",
       "      <td>6.918407</td>\n",
       "      <td>0.453624</td>\n",
       "      <td>NaN</td>\n",
       "      <td>NaN</td>\n",
       "    </tr>\n",
       "    <tr>\n",
       "      <th>SRR1047872</th>\n",
       "      <td>7.521031</td>\n",
       "      <td>0.476588</td>\n",
       "      <td>NaN</td>\n",
       "      <td>NaN</td>\n",
       "    </tr>\n",
       "    <tr>\n",
       "      <th>SRR1047865</th>\n",
       "      <td>7.842816</td>\n",
       "      <td>0.487695</td>\n",
       "      <td>NaN</td>\n",
       "      <td>NaN</td>\n",
       "    </tr>\n",
       "    <tr>\n",
       "      <th>SRR1047871</th>\n",
       "      <td>7.562531</td>\n",
       "      <td>0.504444</td>\n",
       "      <td>NaN</td>\n",
       "      <td>NaN</td>\n",
       "    </tr>\n",
       "    <tr>\n",
       "      <th>SRR1047869</th>\n",
       "      <td>8.024444</td>\n",
       "      <td>0.512705</td>\n",
       "      <td>NaN</td>\n",
       "      <td>NaN</td>\n",
       "    </tr>\n",
       "    <tr>\n",
       "      <th>SRR1047866</th>\n",
       "      <td>7.624874</td>\n",
       "      <td>0.521475</td>\n",
       "      <td>NaN</td>\n",
       "      <td>NaN</td>\n",
       "    </tr>\n",
       "    <tr>\n",
       "      <th>SRR1047863</th>\n",
       "      <td>10.658170</td>\n",
       "      <td>0.525813</td>\n",
       "      <td>NaN</td>\n",
       "      <td>NaN</td>\n",
       "    </tr>\n",
       "    <tr>\n",
       "      <th>SRR1047867</th>\n",
       "      <td>8.485607</td>\n",
       "      <td>0.555417</td>\n",
       "      <td>NaN</td>\n",
       "      <td>NaN</td>\n",
       "    </tr>\n",
       "    <tr>\n",
       "      <th>SRR1047868</th>\n",
       "      <td>8.583612</td>\n",
       "      <td>0.558689</td>\n",
       "      <td>NaN</td>\n",
       "      <td>NaN</td>\n",
       "    </tr>\n",
       "    <tr>\n",
       "      <th>SRR1047870</th>\n",
       "      <td>8.182771</td>\n",
       "      <td>0.593715</td>\n",
       "      <td>NaN</td>\n",
       "      <td>NaN</td>\n",
       "    </tr>\n",
       "  </tbody>\n",
       "</table>\n",
       "</div>"
      ],
      "text/plain": [
       "            ComprData  Annotation  Density  SetBits\n",
       "SRR1292583   0.857033    0.060838      NaN      NaN\n",
       "SRR1292584   0.909083    0.060888      NaN      NaN\n",
       "SRR1292582   0.961369    0.070980      NaN      NaN\n",
       "SRR1047874   6.974367    0.397054      NaN      NaN\n",
       "SRR1047873   6.675645    0.431632      NaN      NaN\n",
       "SRR1047864   6.918407    0.453624      NaN      NaN\n",
       "SRR1047872   7.521031    0.476588      NaN      NaN\n",
       "SRR1047865   7.842816    0.487695      NaN      NaN\n",
       "SRR1047871   7.562531    0.504444      NaN      NaN\n",
       "SRR1047869   8.024444    0.512705      NaN      NaN\n",
       "SRR1047866   7.624874    0.521475      NaN      NaN\n",
       "SRR1047863  10.658170    0.525813      NaN      NaN\n",
       "SRR1047867   8.485607    0.555417      NaN      NaN\n",
       "SRR1047868   8.583612    0.558689      NaN      NaN\n",
       "SRR1047870   8.182771    0.593715      NaN      NaN"
      ]
     },
     "execution_count": 16,
     "metadata": {},
     "output_type": "execute_result"
    }
   ],
   "source": [
    "stats.sort_values('Annotation', inplace=True)\n",
    "stats.iloc[-15:]"
   ]
  },
  {
   "cell_type": "code",
   "execution_count": 17,
   "metadata": {
    "ExecuteTime": {
     "end_time": "2018-05-16T12:42:41.206639Z",
     "start_time": "2018-05-16T12:42:41.186800Z"
    }
   },
   "outputs": [
    {
     "data": {
      "text/html": [
       "<div>\n",
       "<style scoped>\n",
       "    .dataframe tbody tr th:only-of-type {\n",
       "        vertical-align: middle;\n",
       "    }\n",
       "\n",
       "    .dataframe tbody tr th {\n",
       "        vertical-align: top;\n",
       "    }\n",
       "\n",
       "    .dataframe thead th {\n",
       "        text-align: right;\n",
       "    }\n",
       "</style>\n",
       "<table border=\"1\" class=\"dataframe\">\n",
       "  <thead>\n",
       "    <tr style=\"text-align: right;\">\n",
       "      <th></th>\n",
       "      <th>ComprData</th>\n",
       "      <th>Annotation</th>\n",
       "      <th>Density</th>\n",
       "      <th>SetBits</th>\n",
       "    </tr>\n",
       "  </thead>\n",
       "  <tbody>\n",
       "    <tr>\n",
       "      <th>SRR1047867</th>\n",
       "      <td>8.485607</td>\n",
       "      <td>0.555417</td>\n",
       "      <td>NaN</td>\n",
       "      <td>NaN</td>\n",
       "    </tr>\n",
       "    <tr>\n",
       "      <th>SRR950081</th>\n",
       "      <td>8.515743</td>\n",
       "      <td>0.014493</td>\n",
       "      <td>NaN</td>\n",
       "      <td>NaN</td>\n",
       "    </tr>\n",
       "    <tr>\n",
       "      <th>SRR950083</th>\n",
       "      <td>8.555241</td>\n",
       "      <td>0.013832</td>\n",
       "      <td>NaN</td>\n",
       "      <td>NaN</td>\n",
       "    </tr>\n",
       "    <tr>\n",
       "      <th>SRR1047868</th>\n",
       "      <td>8.583612</td>\n",
       "      <td>0.558689</td>\n",
       "      <td>NaN</td>\n",
       "      <td>NaN</td>\n",
       "    </tr>\n",
       "    <tr>\n",
       "      <th>SRR950084</th>\n",
       "      <td>9.414674</td>\n",
       "      <td>0.019828</td>\n",
       "      <td>NaN</td>\n",
       "      <td>NaN</td>\n",
       "    </tr>\n",
       "    <tr>\n",
       "      <th>SRR972716</th>\n",
       "      <td>9.675661</td>\n",
       "      <td>0.005011</td>\n",
       "      <td>NaN</td>\n",
       "      <td>NaN</td>\n",
       "    </tr>\n",
       "    <tr>\n",
       "      <th>SRR972713</th>\n",
       "      <td>10.327738</td>\n",
       "      <td>0.009215</td>\n",
       "      <td>NaN</td>\n",
       "      <td>NaN</td>\n",
       "    </tr>\n",
       "    <tr>\n",
       "      <th>SRR972717</th>\n",
       "      <td>10.408531</td>\n",
       "      <td>0.007865</td>\n",
       "      <td>NaN</td>\n",
       "      <td>NaN</td>\n",
       "    </tr>\n",
       "    <tr>\n",
       "      <th>SRR972715</th>\n",
       "      <td>10.619117</td>\n",
       "      <td>0.005458</td>\n",
       "      <td>NaN</td>\n",
       "      <td>NaN</td>\n",
       "    </tr>\n",
       "    <tr>\n",
       "      <th>SRR1047863</th>\n",
       "      <td>10.658170</td>\n",
       "      <td>0.525813</td>\n",
       "      <td>NaN</td>\n",
       "      <td>NaN</td>\n",
       "    </tr>\n",
       "    <tr>\n",
       "      <th>SRR972708</th>\n",
       "      <td>13.190337</td>\n",
       "      <td>0.009314</td>\n",
       "      <td>NaN</td>\n",
       "      <td>NaN</td>\n",
       "    </tr>\n",
       "    <tr>\n",
       "      <th>SRR644513</th>\n",
       "      <td>14.021129</td>\n",
       "      <td>0.012959</td>\n",
       "      <td>NaN</td>\n",
       "      <td>NaN</td>\n",
       "    </tr>\n",
       "    <tr>\n",
       "      <th>SRR972707</th>\n",
       "      <td>14.753977</td>\n",
       "      <td>0.010807</td>\n",
       "      <td>NaN</td>\n",
       "      <td>NaN</td>\n",
       "    </tr>\n",
       "    <tr>\n",
       "      <th>SRR972709</th>\n",
       "      <td>14.801982</td>\n",
       "      <td>0.008935</td>\n",
       "      <td>NaN</td>\n",
       "      <td>NaN</td>\n",
       "    </tr>\n",
       "    <tr>\n",
       "      <th>SRR972711</th>\n",
       "      <td>16.103120</td>\n",
       "      <td>0.008460</td>\n",
       "      <td>NaN</td>\n",
       "      <td>NaN</td>\n",
       "    </tr>\n",
       "  </tbody>\n",
       "</table>\n",
       "</div>"
      ],
      "text/plain": [
       "            ComprData  Annotation  Density  SetBits\n",
       "SRR1047867   8.485607    0.555417      NaN      NaN\n",
       "SRR950081    8.515743    0.014493      NaN      NaN\n",
       "SRR950083    8.555241    0.013832      NaN      NaN\n",
       "SRR1047868   8.583612    0.558689      NaN      NaN\n",
       "SRR950084    9.414674    0.019828      NaN      NaN\n",
       "SRR972716    9.675661    0.005011      NaN      NaN\n",
       "SRR972713   10.327738    0.009215      NaN      NaN\n",
       "SRR972717   10.408531    0.007865      NaN      NaN\n",
       "SRR972715   10.619117    0.005458      NaN      NaN\n",
       "SRR1047863  10.658170    0.525813      NaN      NaN\n",
       "SRR972708   13.190337    0.009314      NaN      NaN\n",
       "SRR644513   14.021129    0.012959      NaN      NaN\n",
       "SRR972707   14.753977    0.010807      NaN      NaN\n",
       "SRR972709   14.801982    0.008935      NaN      NaN\n",
       "SRR972711   16.103120    0.008460      NaN      NaN"
      ]
     },
     "execution_count": 17,
     "metadata": {},
     "output_type": "execute_result"
    }
   ],
   "source": [
    "stats.sort_values('ComprData', inplace=True)\n",
    "stats.iloc[-15:]"
   ]
  },
  {
   "cell_type": "code",
   "execution_count": 18,
   "metadata": {
    "ExecuteTime": {
     "end_time": "2018-05-16T12:42:41.915000Z",
     "start_time": "2018-05-16T12:42:41.208814Z"
    }
   },
   "outputs": [
    {
     "data": {
      "image/png": "[encoded data removed]",
      "text/plain": [
       "<Figure size 1728x576 with 4 Axes>"
      ]
     },
     "metadata": {},
     "output_type": "display_data"
    }
   ],
   "source": [
    "fig, axes = plt.subplots(1, 2, figsize=(24, 8))\n",
    "\n",
    "stats.sort_values('ComprData', inplace=True)\n",
    "ax = axes[0]\n",
    "ax.plot(stats['ComprData'].values, label='Data, Gib')\n",
    "ax.plot(stats['Annotation'].values, label='Annotation, Gib')\n",
    "ax.legend(loc='upper left', fontsize=14)\n",
    "ax.set_yscale('log')\n",
    "right_ax = ax.twinx()\n",
    "right_ax._get_lines.prop_cycler = ax._get_lines.prop_cycler\n",
    "right_ax.plot(stats['SetBits'].values, label='SetBits')\n",
    "right_ax.legend(loc='lower right', fontsize=14)\n",
    "right_ax.set_yscale('log')\n",
    "\n",
    "stats.sort_values('Annotation', inplace=True)\n",
    "ax = axes[1]\n",
    "ax.plot(stats['ComprData'].values, label='Data, Gib')\n",
    "ax.plot(stats['Annotation'].values, label='Annotation, Gib')\n",
    "ax.legend(loc='upper left', fontsize=14)\n",
    "ax.set_yscale('log')\n",
    "right_ax = ax.twinx()\n",
    "right_ax._get_lines.prop_cycler = ax._get_lines.prop_cycler\n",
    "right_ax.plot(stats['SetBits'].values, label='SetBits')\n",
    "right_ax.legend(loc='lower right', fontsize=14)\n",
    "right_ax.set_yscale('log')\n",
    "\n",
    "plt.show()"
   ]
  },
  {
   "cell_type": "code",
   "execution_count": 19,
   "metadata": {
    "ExecuteTime": {
     "end_time": "2018-05-16T12:42:41.939805Z",
     "start_time": "2018-05-16T12:42:41.918589Z"
    }
   },
   "outputs": [],
   "source": [
    "import matplotlib as mpl\n",
    "mpl.rcParams.update(mpl.rcParamsDefault)\n",
    "\n",
    "plt.rc('font', family='serif')#, serif='Times')\n",
    "plt.rc('xtick', labelsize=10)\n",
    "plt.rc('ytick', labelsize=10)\n",
    "plt.rc('axes', labelsize=12)\n",
    "plt.rc('legend', fontsize=10)\n",
    "#plt.rcParams['mathtext.fontset'] = 'stix'\n",
    "#plt.rcParams['font.family'] = 'STIXGeneral'\n",
    "params = {\n",
    "#'text.usetex': True,\n",
    "#'font.size': 15,\n",
    "#'text.latex.unicode': True\n",
    "}\n",
    "plt.rcParams.update(params)"
   ]
  },
  {
   "cell_type": "code",
   "execution_count": 20,
   "metadata": {
    "ExecuteTime": {
     "end_time": "2018-05-16T12:42:42.788123Z",
     "start_time": "2018-05-16T12:42:41.942057Z"
    }
   },
   "outputs": [
    {
     "data": {
      "image/png": "[encoded data removed]",
      "text/plain": [
       "<Figure size 2400x800 with 4 Axes>"
      ]
     },
     "metadata": {},
     "output_type": "display_data"
    }
   ],
   "source": [
    "fig, axes = plt.subplots(1, 2, figsize=(24, 8))\n",
    "\n",
    "stats.sort_values('ComprData', inplace=True)\n",
    "ax = axes[0]\n",
    "ax.plot(stats['ComprData'].values, label='Data, Gib')\n",
    "ax.plot(stats['Annotation'].values, label='Annotation, Gib')\n",
    "ax.legend(loc='upper left')\n",
    "ax.set_yscale('log')\n",
    "right_ax = ax.twinx()\n",
    "right_ax._get_lines.prop_cycler = ax._get_lines.prop_cycler\n",
    "right_ax.plot(stats['SetBits'].values, label='SetBits')\n",
    "right_ax.legend(loc='lower right')\n",
    "right_ax.set_yscale('log')\n",
    "ax.grid(linewidth=0.5)\n",
    "#ax.tick_params(reset=True, direction='in', which='both', bottom=True, top=True, left=True, right=True, width=0.5)\n",
    "#right_ax.tick_params(reset=True, direction='in', which='both', bottom=True, top=True, left=True, right=True, width=0.5)\n",
    "#lg = ax.legend(frameon=False, loc=(0.03, 0.05))\n",
    "#lg.get_frame().set_linewidth(0.5)\n",
    "\n",
    "stats.sort_values('Annotation', inplace=True)\n",
    "ax = axes[1]\n",
    "ax.plot(stats['ComprData'].values, label='Data, Gib')\n",
    "ax.plot(stats['Annotation'].values, label='Annotation, Gib')\n",
    "ax.legend(loc='upper left')\n",
    "ax.set_yscale('log')\n",
    "right_ax = ax.twinx()\n",
    "right_ax._get_lines.prop_cycler = ax._get_lines.prop_cycler\n",
    "right_ax.plot(stats['SetBits'].values, label='SetBits')\n",
    "right_ax.legend(loc='lower right')\n",
    "right_ax.set_yscale('log')\n",
    "ax.grid(linewidth=0.5)\n",
    "\n",
    "plt.show()"
   ]
  },
  {
   "cell_type": "markdown",
   "metadata": {},
   "source": [
    "# Simulation"
   ]
  },
  {
   "cell_type": "code",
   "execution_count": 21,
   "metadata": {
    "ExecuteTime": {
     "end_time": "2018-05-16T12:42:42.808874Z",
     "start_time": "2018-05-16T12:42:42.790407Z"
    },
    "scrolled": true
   },
   "outputs": [
    {
     "data": {
      "text/plain": [
       "array([nan, nan, nan, ..., nan, nan, nan])"
      ]
     },
     "execution_count": 21,
     "metadata": {},
     "output_type": "execute_result"
    }
   ],
   "source": [
    "stats['Density'].values"
   ]
  },
  {
   "cell_type": "code",
   "execution_count": 22,
   "metadata": {
    "ExecuteTime": {
     "end_time": "2018-05-16T12:42:42.854694Z",
     "start_time": "2018-05-16T12:42:42.811476Z"
    }
   },
   "outputs": [],
   "source": [
    "stats.sort_values('Density', inplace=True)\n",
    "densities = stats['Density'].values[stats['Density'] >= 0]\n",
    "\n",
    "num_rows = 10000\n",
    "\n",
    "cols = np.random.random((num_rows, len(densities))) <= densities"
   ]
  },
  {
   "cell_type": "code",
   "execution_count": 23,
   "metadata": {
    "ExecuteTime": {
     "end_time": "2018-05-16T12:42:43.130705Z",
     "start_time": "2018-05-16T12:42:42.856247Z"
    }
   },
   "outputs": [
    {
     "data": {
      "image/png": "[encoded data removed]",
      "text/plain": [
       "<Figure size 600x400 with 1 Axes>"
      ]
     },
     "metadata": {},
     "output_type": "display_data"
    }
   ],
   "source": [
    "plt.subplots(1, 1, figsize=(6, 4))\n",
    "plt.hist(sorted(densities), bins=50)\n",
    "plt.title('Column density')\n",
    "plt.yscale('log')\n",
    "plt.grid()\n",
    "plt.show()"
   ]
  },
  {
   "cell_type": "code",
   "execution_count": 24,
   "metadata": {
    "ExecuteTime": {
     "end_time": "2018-05-16T12:35:12.558801Z",
     "start_time": "2018-05-16T12:35:12.313776Z"
    }
   },
   "outputs": [
    {
     "data": {
      "image/png": "[encoded data removed]",
      "text/plain": [
       "<Figure size 600x400 with 1 Axes>"
      ]
     },
     "metadata": {},
     "output_type": "display_data"
    }
   ],
   "source": [
    "densities = sorted(cols.mean(0))\n",
    "\n",
    "plt.subplots(1, 1, figsize=(6, 4))\n",
    "plt.hist(sorted(densities), bins=50)\n",
    "plt.title('Column density')\n",
    "plt.yscale('log')\n",
    "plt.grid()\n",
    "plt.show()"
   ]
  },
  {
   "cell_type": "code",
   "execution_count": 25,
   "metadata": {
    "ExecuteTime": {
     "end_time": "2018-05-16T12:35:12.953609Z",
     "start_time": "2018-05-16T12:35:12.560489Z"
    },
    "scrolled": false
   },
   "outputs": [
    {
     "data": {
      "image/png": "[encoded data removed]",
      "text/plain": [
       "<Figure size 1200x800 with 1 Axes>"
      ]
     },
     "metadata": {},
     "output_type": "display_data"
    }
   ],
   "source": [
    "plt.subplots(1, 1, figsize=(12, 8))\n",
    "unique_densities = np.unique(densities)\n",
    "x = np.arange(len(unique_densities))\n",
    "counts = [sum(densities == d) for d in unique_densities]\n",
    "plt.bar(x, unique_densities)\n",
    "plt.xticks(x, counts, rotation=70)\n",
    "plt.title('Column density')\n",
    "plt.yscale('log')\n",
    "plt.grid()\n",
    "plt.show()"
   ]
  },
  {
   "cell_type": "code",
   "execution_count": 26,
   "metadata": {
    "ExecuteTime": {
     "end_time": "2018-05-16T12:35:12.968067Z",
     "start_time": "2018-05-16T12:35:12.954982Z"
    }
   },
   "outputs": [
    {
     "data": {
      "text/plain": [
       "array([[False, False, False, ..., False, False, False],\n",
       "       [False, False, False, ..., False, False, False],\n",
       "       [False, False, False, ..., False, False, False],\n",
       "       ...,\n",
       "       [False, False, False, ..., False, False, False],\n",
       "       [False, False, False, ..., False, False, False],\n",
       "       [False, False, False, ..., False, False, False]])"
      ]
     },
     "execution_count": 26,
     "metadata": {},
     "output_type": "execute_result"
    }
   ],
   "source": [
    "cols"
   ]
  },
  {
   "cell_type": "markdown",
   "metadata": {},
   "source": [
    "## Cost function"
   ]
  },
  {
   "cell_type": "code",
   "execution_count": 27,
   "metadata": {
    "ExecuteTime": {
     "end_time": "2018-05-16T12:35:12.981984Z",
     "start_time": "2018-05-16T12:35:12.969520Z"
    }
   },
   "outputs": [],
   "source": [
    "from itertools import groupby\n",
    "\n",
    "def group_cost_(group_size, index_col):\n",
    "    if group_size == 0:\n",
    "        return 0\n",
    "    elif group_size == 1:\n",
    "        return 1\n",
    "    else:\n",
    "        return 1 + index_col.mean() * group_size\n",
    "\n",
    "def group_cost(cols):\n",
    "    return group_cost_(len(cols), np.sum(cols, 0) > 0)\n",
    "\n",
    "def cost(cols, partition):\n",
    "    d = {g: [] for g in partition}\n",
    "    for c, g in zip(cols.T, partition):\n",
    "        assert c.size == cols.shape[0]\n",
    "        d[g].append(c)\n",
    "\n",
    "    return sum([group_cost(cols) for cols in d.values()])"
   ]
  },
  {
   "cell_type": "markdown",
   "metadata": {},
   "source": [
    "## No column index\n",
    "$\\{1,\\dots,n\\}\\to\\underbrace{\\{1\\}}_{G_1},\\dots,\\underbrace{\\{n\\}}_{G_n}$"
   ]
  },
  {
   "cell_type": "code",
   "execution_count": 28,
   "metadata": {
    "ExecuteTime": {
     "end_time": "2018-05-16T12:35:12.995112Z",
     "start_time": "2018-05-16T12:35:12.983808Z"
    }
   },
   "outputs": [
    {
     "data": {
      "text/plain": [
       "array([  0,   1,   2,   3,   4,   5,   6,   7,   8,   9,  10,  11,  12,\n",
       "        13,  14,  15,  16,  17,  18,  19,  20,  21,  22,  23,  24,  25,\n",
       "        26,  27,  28,  29,  30,  31,  32,  33,  34,  35,  36,  37,  38,\n",
       "        39,  40,  41,  42,  43,  44,  45,  46,  47,  48,  49,  50,  51,\n",
       "        52,  53,  54,  55,  56,  57,  58,  59,  60,  61,  62,  63,  64,\n",
       "        65,  66,  67,  68,  69,  70,  71,  72,  73,  74,  75,  76,  77,\n",
       "        78,  79,  80,  81,  82,  83,  84,  85,  86,  87,  88,  89,  90,\n",
       "        91,  92,  93,  94,  95,  96,  97,  98,  99, 100, 101, 102, 103,\n",
       "       104, 105, 106, 107, 108, 109, 110, 111, 112, 113, 114, 115, 116,\n",
       "       117, 118, 119, 120, 121, 122, 123, 124, 125, 126, 127, 128, 129,\n",
       "       130, 131, 132, 133, 134, 135, 136, 137, 138, 139, 140, 141, 142,\n",
       "       143, 144, 145, 146, 147, 148, 149, 150, 151, 152, 153, 154, 155,\n",
       "       156, 157, 158, 159, 160, 161, 162, 163, 164, 165, 166, 167, 168,\n",
       "       169, 170, 171, 172, 173, 174, 175, 176, 177, 178, 179, 180, 181,\n",
       "       182, 183, 184, 185, 186, 187, 188, 189, 190])"
      ]
     },
     "execution_count": 28,
     "metadata": {},
     "output_type": "execute_result"
    }
   ],
   "source": [
    "grouping = np.arange(cols.shape[1])\n",
    "grouping"
   ]
  },
  {
   "cell_type": "code",
   "execution_count": 29,
   "metadata": {
    "ExecuteTime": {
     "end_time": "2018-05-16T12:35:13.018543Z",
     "start_time": "2018-05-16T12:35:12.996454Z"
    }
   },
   "outputs": [
    {
     "data": {
      "text/plain": [
       "191"
      ]
     },
     "execution_count": 29,
     "metadata": {},
     "output_type": "execute_result"
    }
   ],
   "source": [
    "cost(cols, grouping)"
   ]
  },
  {
   "cell_type": "markdown",
   "metadata": {},
   "source": [
    "## Simple affine partitioning\n",
    "$\\{1,\\dots,n\\}\\to\\underbrace{\\{1,\\dots,s\\}}_{G_1},\\underbrace{\\{s+1,\\dots,2 s\\}}_{G_2},\\dots,\\underbrace{\\{(t-1)s+1,\\dots,n\\}}_{G_t}$"
   ]
  },
  {
   "cell_type": "markdown",
   "metadata": {},
   "source": [
    "### Initial guess"
   ]
  },
  {
   "cell_type": "code",
   "execution_count": 30,
   "metadata": {
    "ExecuteTime": {
     "end_time": "2018-05-16T12:35:13.031082Z",
     "start_time": "2018-05-16T12:35:13.020049Z"
    }
   },
   "outputs": [
    {
     "data": {
      "text/plain": [
       "array([0, 0, 0, 0, 0, 0, 0, 0, 0, 0, 0, 0, 0, 0, 0, 0, 0, 0, 0, 0, 0, 0,\n",
       "       0, 0, 0, 0, 0, 0, 1, 1, 1, 1, 1, 1, 1, 1, 1, 1, 1, 1, 1, 1, 1, 1,\n",
       "       1, 1, 1, 1, 1, 1, 1, 1, 1, 1, 1, 1, 2, 2, 2, 2, 2, 2, 2, 2, 2, 2,\n",
       "       2, 2, 2, 2, 2, 2, 2, 2, 2, 2, 2, 2, 2, 2, 2, 2, 2, 2, 3, 3, 3, 3,\n",
       "       3, 3, 3, 3, 3, 3, 3, 3, 3, 3, 3, 3, 3, 3, 3, 3, 3, 3, 3, 3, 3, 3,\n",
       "       3, 3, 4, 4, 4, 4, 4, 4, 4, 4, 4, 4, 4, 4, 4, 4, 4, 4, 4, 4, 4, 4,\n",
       "       4, 4, 4, 4, 4, 4, 4, 4, 5, 5, 5, 5, 5, 5, 5, 5, 5, 5, 5, 5, 5, 5,\n",
       "       5, 5, 5, 5, 5, 5, 5, 5, 5, 5, 5, 5, 5, 5, 6, 6, 6, 6, 6, 6, 6, 6,\n",
       "       6, 6, 6, 6, 6, 6, 6, 6, 6, 6, 6, 6, 6, 6, 6])"
      ]
     },
     "execution_count": 30,
     "metadata": {},
     "output_type": "execute_result"
    }
   ],
   "source": [
    "grouping = np.arange(cols.shape[1]) // 28\n",
    "grouping"
   ]
  },
  {
   "cell_type": "code",
   "execution_count": 31,
   "metadata": {
    "ExecuteTime": {
     "end_time": "2018-05-16T12:35:13.050098Z",
     "start_time": "2018-05-16T12:35:13.033078Z"
    },
    "scrolled": true
   },
   "outputs": [
    {
     "data": {
      "text/plain": [
       "10.4118"
      ]
     },
     "execution_count": 31,
     "metadata": {},
     "output_type": "execute_result"
    }
   ],
   "source": [
    "cost(cols, grouping)"
   ]
  },
  {
   "cell_type": "markdown",
   "metadata": {},
   "source": [
    "### Exhaustive search"
   ]
  },
  {
   "cell_type": "code",
   "execution_count": 32,
   "metadata": {
    "ExecuteTime": {
     "end_time": "2018-05-16T12:35:13.720907Z",
     "start_time": "2018-05-16T12:35:13.052469Z"
    }
   },
   "outputs": [],
   "source": [
    "group_size = np.arange(1, 100)\n",
    "costs = []\n",
    "\n",
    "for x in group_size:\n",
    "    grouping = np.arange(cols.shape[1]) // x\n",
    "    costs.append(cost(cols, grouping))"
   ]
  },
  {
   "cell_type": "code",
   "execution_count": 33,
   "metadata": {
    "ExecuteTime": {
     "end_time": "2018-05-16T12:35:13.954086Z",
     "start_time": "2018-05-16T12:35:13.722471Z"
    },
    "scrolled": false
   },
   "outputs": [
    {
     "data": {
      "image/png": "[encoded data removed]",
      "text/plain": [
       "<Figure size 1200x800 with 1 Axes>"
      ]
     },
     "metadata": {},
     "output_type": "display_data"
    }
   ],
   "source": [
    "fig, axes = plt.subplots(1, 1, figsize=(12, 8))\n",
    "plt.plot(group_size, costs)\n",
    "plt.ylabel('Cost')\n",
    "plt.xlabel('Group size')\n",
    "plt.title('Affine partitioning')\n",
    "\n",
    "xopt = group_size[np.argmin(costs)]\n",
    "yopt = costs[xopt]\n",
    "axes.annotate('Optimal: {}\\nCost: {:.2f}'.format(xopt, yopt), xy=(xopt, yopt), xytext=(xopt, yopt + 300), arrowprops=dict(facecolor='black', shrink=0.05))\n",
    "\n",
    "xopt = group_size[28]\n",
    "yopt = costs[xopt]\n",
    "axes.annotate('Initial guess: {}\\nCost: {:.2f}'.format(xopt, yopt), xy=(xopt, yopt), xytext=(xopt, yopt + 500), arrowprops=dict(facecolor='black', shrink=0.05))\n",
    "\n",
    "plt.grid()\n",
    "plt.show()"
   ]
  },
  {
   "cell_type": "markdown",
   "metadata": {},
   "source": [
    "## Greedy strategy"
   ]
  },
  {
   "cell_type": "code",
   "execution_count": 34,
   "metadata": {
    "ExecuteTime": {
     "end_time": "2018-05-16T12:35:13.970962Z",
     "start_time": "2018-05-16T12:35:13.955344Z"
    }
   },
   "outputs": [],
   "source": [
    "def partition_greedy(cols):\n",
    "    assignment = []\n",
    "    index_cols = np.zeros(cols.shape)\n",
    "    partition_sizes = [0 for t in range(index_cols.shape[1])]\n",
    "\n",
    "    print(\"{}\\t{}\\t{}\\t{}\".format('Column', 'Opt. part.', 'Delta cost', 'Total cost', end='\\n'))\n",
    "\n",
    "    total_cost = 0\n",
    "\n",
    "    for i, c in enumerate(cols.T):\n",
    "        updated_index = (index_cols + c.reshape(-1, 1)) > 0\n",
    "\n",
    "        cost_deltas = [group_cost_(partition_sizes[t] + 1, updated_index[:, t]) -\n",
    "                           group_cost_(partition_sizes[t], index_cols[:, t]) for t in range(index_cols.shape[1])]\n",
    "\n",
    "        t_opt = np.argmin(np.array(cost_deltas))\n",
    "\n",
    "        partition_sizes[t_opt] += 1\n",
    "        index_cols[:, t_opt] = updated_index[:, t_opt]\n",
    "        assignment.append(t_opt)\n",
    "        total_cost += cost_deltas[t_opt]\n",
    "\n",
    "        print(\"{}\\t{}\\t\\t{:.5f}\\t\\t{:.5f}\".format(i, t_opt, cost_deltas[t_opt], total_cost), end='\\n')\n",
    "\n",
    "    return assignment"
   ]
  },
  {
   "cell_type": "code",
   "execution_count": 35,
   "metadata": {
    "ExecuteTime": {
     "end_time": "2018-05-16T12:35:14.754473Z",
     "start_time": "2018-05-16T12:35:13.973387Z"
    },
    "scrolled": true
   },
   "outputs": [
    {
     "name": "stdout",
     "output_type": "stream",
     "text": [
      "Column\tOpt. part.\tDelta cost\tTotal cost\n",
      "0\t0\t\t1.00000\t\t1.00000\n",
      "1\t0\t\t0.00000\t\t1.00000\n",
      "2\t0\t\t0.00000\t\t1.00000\n",
      "3\t0\t\t0.00000\t\t1.00000\n",
      "4\t0\t\t0.00050\t\t1.00050\n",
      "5\t0\t\t0.00010\t\t1.00060\n",
      "6\t0\t\t0.00010\t\t1.00070\n",
      "7\t0\t\t0.00010\t\t1.00080\n",
      "8\t0\t\t0.00100\t\t1.00180\n",
      "9\t0\t\t0.00020\t\t1.00200\n",
      "10\t0\t\t0.00130\t\t1.00330\n",
      "11\t0\t\t0.00030\t\t1.00360\n",
      "12\t0\t\t0.00030\t\t1.00390\n",
      "13\t0\t\t0.00030\t\t1.00420\n",
      "14\t0\t\t0.00180\t\t1.00600\n",
      "15\t0\t\t0.00040\t\t1.00640\n",
      "16\t0\t\t0.00210\t\t1.00850\n",
      "17\t0\t\t0.00230\t\t1.01080\n",
      "18\t0\t\t0.00440\t\t1.01520\n",
      "19\t0\t\t0.00280\t\t1.01800\n",
      "20\t0\t\t0.00510\t\t1.02310\n",
      "21\t0\t\t0.00330\t\t1.02640\n",
      "22\t0\t\t0.00120\t\t1.02760\n",
      "23\t0\t\t0.00600\t\t1.03360\n",
      "24\t0\t\t0.00390\t\t1.03750\n",
      "25\t0\t\t0.00410\t\t1.04160\n",
      "26\t0\t\t0.00160\t\t1.04320\n",
      "27\t0\t\t0.00160\t\t1.04480\n",
      "28\t0\t\t0.00740\t\t1.05220\n",
      "29\t0\t\t0.00780\t\t1.06000\n",
      "30\t0\t\t0.00820\t\t1.06820\n",
      "31\t0\t\t0.00860\t\t1.07680\n",
      "32\t0\t\t0.01560\t\t1.09240\n",
      "33\t0\t\t0.00620\t\t1.09860\n",
      "34\t0\t\t0.00640\t\t1.10500\n",
      "35\t0\t\t0.01380\t\t1.11880\n",
      "36\t0\t\t0.00330\t\t1.12210\n",
      "37\t0\t\t0.00330\t\t1.12540\n",
      "38\t0\t\t0.01110\t\t1.13650\n",
      "39\t0\t\t0.00750\t\t1.14400\n",
      "40\t0\t\t0.01180\t\t1.15580\n",
      "41\t0\t\t0.00800\t\t1.16380\n",
      "42\t0\t\t0.00820\t\t1.17200\n",
      "43\t0\t\t0.01720\t\t1.18920\n",
      "44\t0\t\t0.00430\t\t1.19350\n",
      "45\t0\t\t0.02270\t\t1.21620\n",
      "46\t0\t\t0.00940\t\t1.22560\n",
      "47\t0\t\t0.00960\t\t1.23520\n",
      "48\t0\t\t0.00980\t\t1.24500\n",
      "49\t0\t\t0.01000\t\t1.25500\n",
      "50\t0\t\t0.00510\t\t1.26010\n",
      "51\t0\t\t0.00510\t\t1.26520\n",
      "52\t0\t\t0.01040\t\t1.27560\n",
      "53\t0\t\t0.01600\t\t1.29160\n",
      "54\t0\t\t0.01640\t\t1.30800\n",
      "55\t0\t\t0.01680\t\t1.32480\n",
      "56\t0\t\t0.01150\t\t1.33630\n",
      "57\t0\t\t0.02910\t\t1.36540\n",
      "58\t0\t\t0.01810\t\t1.38350\n",
      "59\t0\t\t0.01850\t\t1.40200\n",
      "60\t0\t\t0.00670\t\t1.40870\n",
      "61\t0\t\t0.02530\t\t1.43400\n",
      "62\t0\t\t0.02590\t\t1.45990\n",
      "63\t0\t\t0.00730\t\t1.46720\n",
      "64\t0\t\t0.01380\t\t1.48100\n",
      "65\t0\t\t0.02060\t\t1.50160\n",
      "66\t0\t\t0.02770\t\t1.52930\n",
      "67\t0\t\t0.00790\t\t1.53720\n",
      "68\t0\t\t0.02860\t\t1.56580\n",
      "69\t0\t\t0.02920\t\t1.59500\n",
      "70\t0\t\t0.04400\t\t1.63900\n",
      "71\t0\t\t0.03060\t\t1.66960\n",
      "72\t0\t\t0.01660\t\t1.68620\n",
      "73\t0\t\t0.03160\t\t1.71780\n",
      "74\t0\t\t0.03970\t\t1.75750\n",
      "75\t0\t\t0.06330\t\t1.82080\n",
      "76\t0\t\t0.05700\t\t1.87780\n",
      "77\t0\t\t0.03480\t\t1.91260\n",
      "78\t0\t\t0.04330\t\t1.95590\n",
      "79\t0\t\t0.05210\t\t2.00800\n",
      "80\t0\t\t0.03690\t\t2.04490\n",
      "81\t0\t\t0.02930\t\t2.07420\n",
      "82\t0\t\t0.02970\t\t2.10390\n",
      "83\t0\t\t0.05530\t\t2.15920\n",
      "84\t0\t\t0.05630\t\t2.21550\n",
      "85\t0\t\t0.08310\t\t2.29860\n",
      "86\t0\t\t0.06730\t\t2.36590\n",
      "87\t0\t\t0.05970\t\t2.42560\n",
      "88\t0\t\t0.05180\t\t2.47740\n",
      "89\t0\t\t0.02560\t\t2.50300\n",
      "90\t0\t\t0.06220\t\t2.56520\n",
      "91\t0\t\t0.04480\t\t2.61000\n",
      "92\t0\t\t0.02680\t\t2.63680\n",
      "93\t0\t\t0.08340\t\t2.72020\n",
      "94\t0\t\t0.04680\t\t2.76700\n",
      "95\t0\t\t0.03780\t\t2.80480\n",
      "96\t0\t\t0.05760\t\t2.86240\n",
      "97\t0\t\t0.11720\t\t2.97960\n",
      "98\t0\t\t0.14890\t\t3.12850\n",
      "99\t0\t\t0.05150\t\t3.18000\n",
      "100\t0\t\t0.06220\t\t3.24220\n",
      "101\t0\t\t0.05280\t\t3.29500\n",
      "102\t0\t\t0.08430\t\t3.37930\n",
      "103\t0\t\t0.12710\t\t3.50640\n",
      "104\t0\t\t0.08710\t\t3.59350\n",
      "105\t0\t\t0.07770\t\t3.67120\n",
      "106\t0\t\t0.11080\t\t3.78200\n",
      "107\t0\t\t0.09080\t\t3.87280\n",
      "108\t0\t\t0.10290\t\t3.97570\n",
      "109\t0\t\t0.06030\t\t4.03600\n",
      "110\t0\t\t0.08310\t\t4.11910\n",
      "111\t0\t\t0.10650\t\t4.22560\n",
      "112\t0\t\t0.08530\t\t4.31090\n",
      "113\t0\t\t0.16610\t\t4.47700\n",
      "114\t0\t\t0.16850\t\t4.64550\n",
      "115\t0\t\t0.12450\t\t4.77000\n",
      "116\t0\t\t0.14950\t\t4.91950\n",
      "117\t0\t\t0.16330\t\t5.08280\n",
      "118\t0\t\t0.12980\t\t5.21260\n",
      "119\t0\t\t0.10740\t\t5.32000\n",
      "120\t0\t\t0.13280\t\t5.45280\n",
      "121\t0\t\t0.13440\t\t5.58720\n",
      "122\t0\t\t0.17290\t\t5.76010\n",
      "123\t0\t\t0.18750\t\t5.94760\n",
      "124\t0\t\t0.22740\t\t6.17500\n",
      "125\t0\t\t0.20520\t\t6.38020\n",
      "126\t0\t\t0.18240\t\t6.56260\n",
      "127\t0\t\t0.17180\t\t6.73440\n",
      "128\t0\t\t0.17380\t\t6.90820\n",
      "129\t0\t\t0.17580\t\t7.08400\n",
      "130\t0\t\t0.16470\t\t7.24870\n",
      "131\t0\t\t0.19290\t\t7.44160\n",
      "132\t0\t\t0.10200\t\t7.54360\n",
      "133\t0\t\t0.25020\t\t7.79380\n",
      "134\t0\t\t0.19920\t\t7.99300\n",
      "135\t0\t\t0.17420\t\t8.16720\n",
      "136\t0\t\t0.17600\t\t8.34320\n",
      "137\t0\t\t0.28820\t\t8.63140\n",
      "138\t0\t\t0.13870\t\t8.77010\n",
      "139\t0\t\t0.33590\t\t9.10600\n",
      "140\t0\t\t0.21300\t\t9.31900\n",
      "141\t0\t\t0.22940\t\t9.54840\n",
      "142\t0\t\t0.13170\t\t9.68010\n",
      "143\t0\t\t0.27670\t\t9.95680\n",
      "144\t0\t\t0.23620\t\t10.19300\n",
      "145\t0\t\t0.31160\t\t10.50460\n",
      "146\t0\t\t0.21210\t\t10.71670\n",
      "147\t0\t\t0.16970\t\t10.88640\n",
      "148\t0\t\t0.23070\t\t11.11710\n",
      "149\t0\t\t0.21790\t\t11.33500\n",
      "150\t0\t\t0.14440\t\t11.47940\n",
      "151\t0\t\t0.32780\t\t11.80720\n",
      "152\t0\t\t0.28530\t\t12.09250\n",
      "153\t0\t\t0.27270\t\t12.36520\n",
      "154\t0\t\t0.29080\t\t12.65600\n",
      "155\t0\t\t0.21560\t\t12.87160\n",
      "156\t0\t\t0.26450\t\t13.13610\n",
      "157\t0\t\t0.29850\t\t13.43460\n",
      "158\t0\t\t0.22180\t\t13.65640\n",
      "159\t0\t\t0.30360\t\t13.96000\n",
      "160\t0\t\t0.25810\t\t14.21810\n",
      "161\t0\t\t0.29270\t\t14.51080\n",
      "162\t0\t\t0.31160\t\t14.82240\n",
      "163\t0\t\t0.24880\t\t15.07120\n",
      "164\t0\t\t0.31680\t\t15.38800\n",
      "165\t0\t\t0.36940\t\t15.75740\n",
      "166\t0\t\t0.22250\t\t15.97990\n",
      "167\t0\t\t0.20730\t\t16.18720\n",
      "168\t0\t\t0.27630\t\t16.46350\n",
      "169\t0\t\t0.32950\t\t16.79300\n",
      "170\t0\t\t0.34940\t\t17.14240\n",
      "171\t0\t\t0.43840\t\t17.58080\n",
      "172\t0\t\t0.26940\t\t17.85020\n",
      "173\t0\t\t0.34100\t\t18.19120\n",
      "174\t0\t\t0.30880\t\t18.50000\n",
      "175\t0\t\t0.41680\t\t18.91680\n",
      "176\t0\t\t0.33190\t\t19.24870\n",
      "177\t0\t\t0.26330\t\t19.51200\n",
      "178\t0\t\t0.33670\t\t19.84870\n",
      "179\t0\t\t0.35730\t\t20.20600\n",
      "180\t0\t\t0.48680\t\t20.69280\n",
      "181\t0\t\t0.38180\t\t21.07460\n",
      "182\t0\t\t0.29330\t\t21.36790\n",
      "183\t0\t\t0.40570\t\t21.77360\n",
      "184\t0\t\t0.50140\t\t22.27500\n",
      "185\t0\t\t0.35680\t\t22.63180\n",
      "186\t0\t\t0.35940\t\t22.99120\n",
      "187\t0\t\t0.36200\t\t23.35320\n",
      "188\t0\t\t0.38350\t\t23.73670\n",
      "189\t0\t\t0.36730\t\t24.10400\n",
      "190\t0\t\t0.36990\t\t24.47390\n"
     ]
    }
   ],
   "source": [
    "partition = partition_greedy(cols)"
   ]
  },
  {
   "cell_type": "code",
   "execution_count": 36,
   "metadata": {
    "ExecuteTime": {
     "end_time": "2018-05-16T12:35:14.778766Z",
     "start_time": "2018-05-16T12:35:14.756307Z"
    }
   },
   "outputs": [
    {
     "data": {
      "text/plain": [
       "24.4739"
      ]
     },
     "execution_count": 36,
     "metadata": {},
     "output_type": "execute_result"
    }
   ],
   "source": [
    "cost(cols, partition)"
   ]
  },
  {
   "cell_type": "markdown",
   "metadata": {},
   "source": [
    "## Regularized greedy strategies"
   ]
  },
  {
   "cell_type": "markdown",
   "metadata": {},
   "source": [
    "### Linear regularization"
   ]
  },
  {
   "cell_type": "code",
   "execution_count": 37,
   "metadata": {
    "ExecuteTime": {
     "end_time": "2018-05-16T12:35:14.794469Z",
     "start_time": "2018-05-16T12:35:14.780247Z"
    }
   },
   "outputs": [],
   "source": [
    "def partition_greedy(cols):\n",
    "    assignment = []\n",
    "    index_cols = np.zeros(cols.shape)\n",
    "    partition_sizes = [0 for t in range(index_cols.shape[1])]\n",
    "\n",
    "    print(\"{}\\t{}\\t{}\\t{}\".format('Column', 'Opt. part.', 'Delta cost', 'Total cost', end='\\n'))\n",
    "\n",
    "    total_cost = 0\n",
    "\n",
    "    for i, c in enumerate(cols.T):\n",
    "        updated_index = (index_cols + c.reshape(-1, 1)) > 0\n",
    "\n",
    "        cost_deltas = [group_cost_(partition_sizes[t] + 1, updated_index[:, t]) -\n",
    "                           group_cost_(partition_sizes[t], index_cols[:, t]) for t in range(index_cols.shape[1])]\n",
    "\n",
    "        t_opt = np.argmin(np.array(cost_deltas) + 5e-3 * np.array(partition_sizes))\n",
    "\n",
    "        partition_sizes[t_opt] += 1\n",
    "        index_cols[:, t_opt] = updated_index[:, t_opt]\n",
    "        assignment.append(t_opt)\n",
    "        total_cost += cost_deltas[t_opt]\n",
    "\n",
    "        print(\"{}\\t{}\\t\\t{:.5f}\\t\\t{:.5f}\".format(i, t_opt, cost_deltas[t_opt], total_cost), end='\\n')\n",
    "\n",
    "    return assignment"
   ]
  },
  {
   "cell_type": "code",
   "execution_count": 38,
   "metadata": {
    "ExecuteTime": {
     "end_time": "2018-05-16T12:35:15.596137Z",
     "start_time": "2018-05-16T12:35:14.796372Z"
    },
    "scrolled": true
   },
   "outputs": [
    {
     "name": "stdout",
     "output_type": "stream",
     "text": [
      "Column\tOpt. part.\tDelta cost\tTotal cost\n",
      "0\t0\t\t1.00000\t\t1.00000\n",
      "1\t0\t\t0.00000\t\t1.00000\n",
      "2\t0\t\t0.00000\t\t1.00000\n",
      "3\t0\t\t0.00000\t\t1.00000\n",
      "4\t0\t\t0.00050\t\t1.00050\n",
      "5\t0\t\t0.00010\t\t1.00060\n",
      "6\t0\t\t0.00010\t\t1.00070\n",
      "7\t0\t\t0.00010\t\t1.00080\n",
      "8\t0\t\t0.00100\t\t1.00180\n",
      "9\t0\t\t0.00020\t\t1.00200\n",
      "10\t0\t\t0.00130\t\t1.00330\n",
      "11\t0\t\t0.00030\t\t1.00360\n",
      "12\t0\t\t0.00030\t\t1.00390\n",
      "13\t0\t\t0.00030\t\t1.00420\n",
      "14\t0\t\t0.00180\t\t1.00600\n",
      "15\t0\t\t0.00040\t\t1.00640\n",
      "16\t0\t\t0.00210\t\t1.00850\n",
      "17\t0\t\t0.00230\t\t1.01080\n",
      "18\t0\t\t0.00440\t\t1.01520\n",
      "19\t0\t\t0.00280\t\t1.01800\n",
      "20\t0\t\t0.00510\t\t1.02310\n",
      "21\t0\t\t0.00330\t\t1.02640\n",
      "22\t0\t\t0.00120\t\t1.02760\n",
      "23\t0\t\t0.00600\t\t1.03360\n",
      "24\t0\t\t0.00390\t\t1.03750\n",
      "25\t0\t\t0.00410\t\t1.04160\n",
      "26\t0\t\t0.00160\t\t1.04320\n",
      "27\t0\t\t0.00160\t\t1.04480\n",
      "28\t0\t\t0.00740\t\t1.05220\n",
      "29\t0\t\t0.00780\t\t1.06000\n",
      "30\t0\t\t0.00820\t\t1.06820\n",
      "31\t0\t\t0.00860\t\t1.07680\n",
      "32\t0\t\t0.01560\t\t1.09240\n",
      "33\t0\t\t0.00620\t\t1.09860\n",
      "34\t0\t\t0.00640\t\t1.10500\n",
      "35\t0\t\t0.01380\t\t1.11880\n",
      "36\t0\t\t0.00330\t\t1.12210\n",
      "37\t0\t\t0.00330\t\t1.12540\n",
      "38\t0\t\t0.01110\t\t1.13650\n",
      "39\t0\t\t0.00750\t\t1.14400\n",
      "40\t0\t\t0.01180\t\t1.15580\n",
      "41\t0\t\t0.00800\t\t1.16380\n",
      "42\t0\t\t0.00820\t\t1.17200\n",
      "43\t0\t\t0.01720\t\t1.18920\n",
      "44\t0\t\t0.00430\t\t1.19350\n",
      "45\t0\t\t0.02270\t\t1.21620\n",
      "46\t0\t\t0.00940\t\t1.22560\n",
      "47\t0\t\t0.00960\t\t1.23520\n",
      "48\t0\t\t0.00980\t\t1.24500\n",
      "49\t0\t\t0.01000\t\t1.25500\n",
      "50\t0\t\t0.00510\t\t1.26010\n",
      "51\t0\t\t0.00510\t\t1.26520\n",
      "52\t0\t\t0.01040\t\t1.27560\n",
      "53\t0\t\t0.01600\t\t1.29160\n",
      "54\t0\t\t0.01640\t\t1.30800\n",
      "55\t0\t\t0.01680\t\t1.32480\n",
      "56\t0\t\t0.01150\t\t1.33630\n",
      "57\t0\t\t0.02910\t\t1.36540\n",
      "58\t0\t\t0.01810\t\t1.38350\n",
      "59\t0\t\t0.01850\t\t1.40200\n",
      "60\t0\t\t0.00670\t\t1.40870\n",
      "61\t0\t\t0.02530\t\t1.43400\n",
      "62\t0\t\t0.02590\t\t1.45990\n",
      "63\t0\t\t0.00730\t\t1.46720\n",
      "64\t0\t\t0.01380\t\t1.48100\n",
      "65\t0\t\t0.02060\t\t1.50160\n",
      "66\t0\t\t0.02770\t\t1.52930\n",
      "67\t0\t\t0.00790\t\t1.53720\n",
      "68\t0\t\t0.02860\t\t1.56580\n",
      "69\t0\t\t0.02920\t\t1.59500\n",
      "70\t0\t\t0.04400\t\t1.63900\n",
      "71\t0\t\t0.03060\t\t1.66960\n",
      "72\t0\t\t0.01660\t\t1.68620\n",
      "73\t0\t\t0.03160\t\t1.71780\n",
      "74\t0\t\t0.03970\t\t1.75750\n",
      "75\t0\t\t0.06330\t\t1.82080\n",
      "76\t0\t\t0.05700\t\t1.87780\n",
      "77\t0\t\t0.03480\t\t1.91260\n",
      "78\t0\t\t0.04330\t\t1.95590\n",
      "79\t0\t\t0.05210\t\t2.00800\n",
      "80\t0\t\t0.03690\t\t2.04490\n",
      "81\t0\t\t0.02930\t\t2.07420\n",
      "82\t0\t\t0.02970\t\t2.10390\n",
      "83\t0\t\t0.05530\t\t2.15920\n",
      "84\t0\t\t0.05630\t\t2.21550\n",
      "85\t0\t\t0.08310\t\t2.29860\n",
      "86\t0\t\t0.06730\t\t2.36590\n",
      "87\t0\t\t0.05970\t\t2.42560\n",
      "88\t0\t\t0.05180\t\t2.47740\n",
      "89\t0\t\t0.02560\t\t2.50300\n",
      "90\t0\t\t0.06220\t\t2.56520\n",
      "91\t0\t\t0.04480\t\t2.61000\n",
      "92\t0\t\t0.02680\t\t2.63680\n",
      "93\t0\t\t0.08340\t\t2.72020\n",
      "94\t0\t\t0.04680\t\t2.76700\n",
      "95\t0\t\t0.03780\t\t2.80480\n",
      "96\t0\t\t0.05760\t\t2.86240\n",
      "97\t0\t\t0.11720\t\t2.97960\n",
      "98\t0\t\t0.14890\t\t3.12850\n",
      "99\t0\t\t0.05150\t\t3.18000\n",
      "100\t0\t\t0.06220\t\t3.24220\n",
      "101\t0\t\t0.05280\t\t3.29500\n",
      "102\t0\t\t0.08430\t\t3.37930\n",
      "103\t0\t\t0.12710\t\t3.50640\n",
      "104\t0\t\t0.08710\t\t3.59350\n",
      "105\t0\t\t0.07770\t\t3.67120\n",
      "106\t0\t\t0.11080\t\t3.78200\n",
      "107\t0\t\t0.09080\t\t3.87280\n",
      "108\t0\t\t0.10290\t\t3.97570\n",
      "109\t0\t\t0.06030\t\t4.03600\n",
      "110\t0\t\t0.08310\t\t4.11910\n",
      "111\t0\t\t0.10650\t\t4.22560\n",
      "112\t0\t\t0.08530\t\t4.31090\n",
      "113\t0\t\t0.16610\t\t4.47700\n",
      "114\t0\t\t0.16850\t\t4.64550\n",
      "115\t0\t\t0.12450\t\t4.77000\n",
      "116\t0\t\t0.14950\t\t4.91950\n",
      "117\t0\t\t0.16330\t\t5.08280\n",
      "118\t0\t\t0.12980\t\t5.21260\n",
      "119\t0\t\t0.10740\t\t5.32000\n",
      "120\t0\t\t0.13280\t\t5.45280\n",
      "121\t0\t\t0.13440\t\t5.58720\n",
      "122\t0\t\t0.17290\t\t5.76010\n",
      "123\t0\t\t0.18750\t\t5.94760\n",
      "124\t0\t\t0.22740\t\t6.17500\n",
      "125\t0\t\t0.20520\t\t6.38020\n",
      "126\t0\t\t0.18240\t\t6.56260\n",
      "127\t0\t\t0.17180\t\t6.73440\n",
      "128\t0\t\t0.17380\t\t6.90820\n",
      "129\t0\t\t0.17580\t\t7.08400\n",
      "130\t0\t\t0.16470\t\t7.24870\n",
      "131\t0\t\t0.19290\t\t7.44160\n",
      "132\t0\t\t0.10200\t\t7.54360\n",
      "133\t0\t\t0.25020\t\t7.79380\n",
      "134\t0\t\t0.19920\t\t7.99300\n",
      "135\t0\t\t0.17420\t\t8.16720\n",
      "136\t0\t\t0.17600\t\t8.34320\n",
      "137\t0\t\t0.28820\t\t8.63140\n",
      "138\t0\t\t0.13870\t\t8.77010\n",
      "139\t1\t\t1.00000\t\t9.77010\n",
      "140\t1\t\t0.00640\t\t9.77650\n",
      "141\t1\t\t0.00710\t\t9.78360\n",
      "142\t1\t\t0.00650\t\t9.79010\n",
      "143\t1\t\t0.01300\t\t9.80310\n",
      "144\t1\t\t0.01440\t\t9.81750\n",
      "145\t1\t\t0.02050\t\t9.83800\n",
      "146\t1\t\t0.01770\t\t9.85570\n",
      "147\t1\t\t0.01790\t\t9.87360\n",
      "148\t1\t\t0.02450\t\t9.89810\n",
      "149\t1\t\t0.02490\t\t9.92300\n",
      "150\t1\t\t0.01990\t\t9.94290\n",
      "151\t1\t\t0.03780\t\t9.98070\n",
      "152\t1\t\t0.03580\t\t10.01650\n",
      "153\t1\t\t0.04160\t\t10.05810\n",
      "154\t1\t\t0.04160\t\t10.09970\n",
      "155\t1\t\t0.03590\t\t10.13560\n",
      "156\t1\t\t0.04310\t\t10.17870\n",
      "157\t1\t\t0.04930\t\t10.22800\n",
      "158\t1\t\t0.04210\t\t10.27010\n",
      "159\t1\t\t0.05440\t\t10.32450\n",
      "160\t1\t\t0.05060\t\t10.37510\n",
      "161\t1\t\t0.06200\t\t10.43710\n",
      "162\t1\t\t0.06260\t\t10.49970\n",
      "163\t1\t\t0.05540\t\t10.55510\n",
      "164\t1\t\t0.06780\t\t10.62290\n",
      "165\t1\t\t0.08140\t\t10.70430\n",
      "166\t1\t\t0.05980\t\t10.76410\n",
      "167\t1\t\t0.05870\t\t10.82280\n",
      "168\t1\t\t0.06930\t\t10.89210\n",
      "169\t1\t\t0.08080\t\t10.97290\n",
      "170\t1\t\t0.08680\t\t11.05970\n",
      "171\t1\t\t0.10960\t\t11.16930\n",
      "172\t1\t\t0.07640\t\t11.24570\n",
      "173\t1\t\t0.09590\t\t11.34160\n",
      "174\t1\t\t0.08810\t\t11.42970\n",
      "175\t1\t\t0.11270\t\t11.54240\n",
      "176\t1\t\t0.10110\t\t11.64350\n",
      "177\t1\t\t0.08830\t\t11.73180\n",
      "178\t1\t\t0.11430\t\t11.84610\n",
      "179\t1\t\t0.10930\t\t11.95540\n",
      "180\t1\t\t0.14570\t\t12.10110\n",
      "181\t1\t\t0.12860\t\t12.22970\n",
      "182\t1\t\t0.10120\t\t12.33090\n",
      "183\t1\t\t0.13920\t\t12.47010\n",
      "184\t1\t\t0.16120\t\t12.63130\n",
      "185\t1\t\t0.12330\t\t12.75460\n",
      "186\t1\t\t0.12590\t\t12.88050\n",
      "187\t1\t\t0.14320\t\t13.02370\n",
      "188\t1\t\t0.13640\t\t13.16010\n",
      "189\t1\t\t0.13410\t\t13.29420\n",
      "190\t1\t\t0.14190\t\t13.43610\n"
     ]
    }
   ],
   "source": [
    "partition = partition_greedy(cols)"
   ]
  },
  {
   "cell_type": "code",
   "execution_count": 39,
   "metadata": {
    "ExecuteTime": {
     "end_time": "2018-05-16T12:35:15.620903Z",
     "start_time": "2018-05-16T12:35:15.597832Z"
    }
   },
   "outputs": [
    {
     "data": {
      "text/plain": [
       "13.4361"
      ]
     },
     "execution_count": 39,
     "metadata": {},
     "output_type": "execute_result"
    }
   ],
   "source": [
    "cost(cols, partition)"
   ]
  },
  {
   "cell_type": "markdown",
   "metadata": {},
   "source": [
    "### Log regularization"
   ]
  },
  {
   "cell_type": "code",
   "execution_count": 40,
   "metadata": {
    "ExecuteTime": {
     "end_time": "2018-05-16T12:35:15.633969Z",
     "start_time": "2018-05-16T12:35:15.622396Z"
    }
   },
   "outputs": [],
   "source": [
    "def regularize(size):\n",
    "    return np.array([np.min([np.log(1 + s) / np.log(1 + cols.shape[1]) * 2, 0.8]) for s in size])"
   ]
  },
  {
   "cell_type": "code",
   "execution_count": 41,
   "metadata": {
    "ExecuteTime": {
     "end_time": "2018-05-16T12:35:15.771910Z",
     "start_time": "2018-05-16T12:35:15.635772Z"
    }
   },
   "outputs": [
    {
     "data": {
      "image/png": "[encoded data removed]",
      "text/plain": [
       "<Figure size 640x480 with 1 Axes>"
      ]
     },
     "metadata": {},
     "output_type": "display_data"
    }
   ],
   "source": [
    "plt.plot(np.arange(1000), regularize(np.arange(1000)))\n",
    "plt.title('Weights')\n",
    "plt.xlabel('Partition size')\n",
    "plt.show()"
   ]
  },
  {
   "cell_type": "code",
   "execution_count": 42,
   "metadata": {
    "ExecuteTime": {
     "end_time": "2018-05-16T12:35:15.787655Z",
     "start_time": "2018-05-16T12:35:15.773543Z"
    }
   },
   "outputs": [],
   "source": [
    "def partition_greedy(cols):\n",
    "    assignment = []\n",
    "    index_cols = np.zeros(cols.shape)\n",
    "    partition_sizes = [0 for t in range(index_cols.shape[1])]\n",
    "\n",
    "    print(\"{}\\t{}\\t{}\\t{}\".format('Column', 'Opt. part.', 'Delta cost', 'Total cost', end='\\n'))\n",
    "\n",
    "    total_cost = 0\n",
    "\n",
    "    for i, c in enumerate(cols.T):\n",
    "        updated_index = (index_cols + c.reshape(-1, 1)) > 0\n",
    "\n",
    "        cost_deltas = [group_cost_(partition_sizes[t] + 1, updated_index[:, t]) -\n",
    "                           group_cost_(partition_sizes[t], index_cols[:, t]) for t in range(index_cols.shape[1])]\n",
    "\n",
    "        t_opt = np.argmin(np.array(cost_deltas) + (np.array(partition_sizes) == 0) * (-0.9 + c.mean()))\n",
    "\n",
    "        partition_sizes[t_opt] += 1\n",
    "        index_cols[:, t_opt] = updated_index[:, t_opt]\n",
    "        assignment.append(t_opt)\n",
    "        total_cost += cost_deltas[t_opt]\n",
    "\n",
    "        print(\"{}\\t{}\\t\\t{:.5f}\\t\\t{:.5f}\".format(i, t_opt, cost_deltas[t_opt], total_cost), end='\\n')\n",
    "\n",
    "    return assignment"
   ]
  },
  {
   "cell_type": "code",
   "execution_count": 43,
   "metadata": {
    "ExecuteTime": {
     "end_time": "2018-05-16T12:35:16.713954Z",
     "start_time": "2018-05-16T12:35:15.789179Z"
    },
    "scrolled": true
   },
   "outputs": [
    {
     "name": "stdout",
     "output_type": "stream",
     "text": [
      "Column\tOpt. part.\tDelta cost\tTotal cost\n",
      "0\t0\t\t1.00000\t\t1.00000\n",
      "1\t0\t\t0.00000\t\t1.00000\n",
      "2\t0\t\t0.00000\t\t1.00000\n",
      "3\t0\t\t0.00000\t\t1.00000\n",
      "4\t0\t\t0.00050\t\t1.00050\n",
      "5\t0\t\t0.00010\t\t1.00060\n",
      "6\t0\t\t0.00010\t\t1.00070\n",
      "7\t0\t\t0.00010\t\t1.00080\n",
      "8\t0\t\t0.00100\t\t1.00180\n",
      "9\t0\t\t0.00020\t\t1.00200\n",
      "10\t0\t\t0.00130\t\t1.00330\n",
      "11\t0\t\t0.00030\t\t1.00360\n",
      "12\t0\t\t0.00030\t\t1.00390\n",
      "13\t0\t\t0.00030\t\t1.00420\n",
      "14\t0\t\t0.00180\t\t1.00600\n",
      "15\t0\t\t0.00040\t\t1.00640\n",
      "16\t0\t\t0.00210\t\t1.00850\n",
      "17\t0\t\t0.00230\t\t1.01080\n",
      "18\t0\t\t0.00440\t\t1.01520\n",
      "19\t0\t\t0.00280\t\t1.01800\n",
      "20\t0\t\t0.00510\t\t1.02310\n",
      "21\t0\t\t0.00330\t\t1.02640\n",
      "22\t0\t\t0.00120\t\t1.02760\n",
      "23\t0\t\t0.00600\t\t1.03360\n",
      "24\t0\t\t0.00390\t\t1.03750\n",
      "25\t0\t\t0.00410\t\t1.04160\n",
      "26\t0\t\t0.00160\t\t1.04320\n",
      "27\t0\t\t0.00160\t\t1.04480\n",
      "28\t0\t\t0.00740\t\t1.05220\n",
      "29\t0\t\t0.00780\t\t1.06000\n",
      "30\t0\t\t0.00820\t\t1.06820\n",
      "31\t0\t\t0.00860\t\t1.07680\n",
      "32\t0\t\t0.01560\t\t1.09240\n",
      "33\t0\t\t0.00620\t\t1.09860\n",
      "34\t0\t\t0.00640\t\t1.10500\n",
      "35\t0\t\t0.01380\t\t1.11880\n",
      "36\t0\t\t0.00330\t\t1.12210\n",
      "37\t0\t\t0.00330\t\t1.12540\n",
      "38\t0\t\t0.01110\t\t1.13650\n",
      "39\t0\t\t0.00750\t\t1.14400\n",
      "40\t0\t\t0.01180\t\t1.15580\n",
      "41\t0\t\t0.00800\t\t1.16380\n",
      "42\t0\t\t0.00820\t\t1.17200\n",
      "43\t0\t\t0.01720\t\t1.18920\n",
      "44\t0\t\t0.00430\t\t1.19350\n",
      "45\t0\t\t0.02270\t\t1.21620\n",
      "46\t0\t\t0.00940\t\t1.22560\n",
      "47\t0\t\t0.00960\t\t1.23520\n",
      "48\t0\t\t0.00980\t\t1.24500\n",
      "49\t0\t\t0.01000\t\t1.25500\n",
      "50\t0\t\t0.00510\t\t1.26010\n",
      "51\t0\t\t0.00510\t\t1.26520\n",
      "52\t0\t\t0.01040\t\t1.27560\n",
      "53\t0\t\t0.01600\t\t1.29160\n",
      "54\t0\t\t0.01640\t\t1.30800\n",
      "55\t0\t\t0.01680\t\t1.32480\n",
      "56\t0\t\t0.01150\t\t1.33630\n",
      "57\t0\t\t0.02910\t\t1.36540\n",
      "58\t0\t\t0.01810\t\t1.38350\n",
      "59\t0\t\t0.01850\t\t1.40200\n",
      "60\t0\t\t0.00670\t\t1.40870\n",
      "61\t0\t\t0.02530\t\t1.43400\n",
      "62\t0\t\t0.02590\t\t1.45990\n",
      "63\t0\t\t0.00730\t\t1.46720\n",
      "64\t0\t\t0.01380\t\t1.48100\n",
      "65\t0\t\t0.02060\t\t1.50160\n",
      "66\t0\t\t0.02770\t\t1.52930\n",
      "67\t0\t\t0.00790\t\t1.53720\n",
      "68\t0\t\t0.02860\t\t1.56580\n",
      "69\t0\t\t0.02920\t\t1.59500\n",
      "70\t0\t\t0.04400\t\t1.63900\n",
      "71\t0\t\t0.03060\t\t1.66960\n",
      "72\t0\t\t0.01660\t\t1.68620\n",
      "73\t0\t\t0.03160\t\t1.71780\n",
      "74\t0\t\t0.03970\t\t1.75750\n",
      "75\t0\t\t0.06330\t\t1.82080\n",
      "76\t0\t\t0.05700\t\t1.87780\n",
      "77\t0\t\t0.03480\t\t1.91260\n",
      "78\t0\t\t0.04330\t\t1.95590\n",
      "79\t0\t\t0.05210\t\t2.00800\n",
      "80\t0\t\t0.03690\t\t2.04490\n",
      "81\t0\t\t0.02930\t\t2.07420\n",
      "82\t0\t\t0.02970\t\t2.10390\n",
      "83\t0\t\t0.05530\t\t2.15920\n",
      "84\t0\t\t0.05630\t\t2.21550\n",
      "85\t0\t\t0.08310\t\t2.29860\n",
      "86\t0\t\t0.06730\t\t2.36590\n",
      "87\t0\t\t0.05970\t\t2.42560\n",
      "88\t0\t\t0.05180\t\t2.47740\n",
      "89\t0\t\t0.02560\t\t2.50300\n",
      "90\t0\t\t0.06220\t\t2.56520\n",
      "91\t0\t\t0.04480\t\t2.61000\n",
      "92\t0\t\t0.02680\t\t2.63680\n",
      "93\t0\t\t0.08340\t\t2.72020\n",
      "94\t0\t\t0.04680\t\t2.76700\n",
      "95\t0\t\t0.03780\t\t2.80480\n",
      "96\t0\t\t0.05760\t\t2.86240\n",
      "97\t1\t\t1.00000\t\t3.86240\n",
      "98\t1\t\t0.00460\t\t3.86700\n",
      "99\t1\t\t0.00320\t\t3.87020\n",
      "100\t1\t\t0.00420\t\t3.87440\n",
      "101\t1\t\t0.00450\t\t3.87890\n",
      "102\t1\t\t0.00690\t\t3.88580\n",
      "103\t1\t\t0.01090\t\t3.89670\n",
      "104\t1\t\t0.00970\t\t3.90640\n",
      "105\t1\t\t0.01000\t\t3.91640\n",
      "106\t1\t\t0.01400\t\t3.93040\n",
      "107\t1\t\t0.01340\t\t3.94380\n",
      "108\t1\t\t0.01820\t\t3.96200\n",
      "109\t1\t\t0.01220\t\t3.97420\n",
      "110\t1\t\t0.01700\t\t3.99120\n",
      "111\t1\t\t0.01970\t\t4.01090\n",
      "112\t1\t\t0.01790\t\t4.02880\n",
      "113\t1\t\t0.03080\t\t4.05960\n",
      "114\t1\t\t0.03320\t\t4.09280\n",
      "115\t1\t\t0.02800\t\t4.12080\n",
      "116\t1\t\t0.03360\t\t4.15440\n",
      "117\t1\t\t0.03770\t\t4.19210\n",
      "118\t1\t\t0.03330\t\t4.22540\n",
      "119\t1\t\t0.03030\t\t4.25570\n",
      "120\t1\t\t0.03630\t\t4.29200\n",
      "121\t1\t\t0.03790\t\t4.32990\n",
      "122\t1\t\t0.04730\t\t4.37720\n",
      "123\t1\t\t0.05220\t\t4.42940\n",
      "124\t1\t\t0.06580\t\t4.49520\n",
      "125\t1\t\t0.06030\t\t4.55550\n",
      "126\t1\t\t0.05990\t\t4.61540\n",
      "127\t1\t\t0.05610\t\t4.67150\n",
      "128\t1\t\t0.05810\t\t4.72960\n",
      "129\t1\t\t0.06340\t\t4.79300\n",
      "130\t1\t\t0.05880\t\t4.85180\n",
      "131\t1\t\t0.07110\t\t4.92290\n",
      "132\t1\t\t0.04830\t\t4.97120\n",
      "133\t1\t\t0.08630\t\t5.05750\n",
      "134\t1\t\t0.07410\t\t5.13160\n",
      "135\t1\t\t0.07240\t\t5.20400\n",
      "136\t1\t\t0.07040\t\t5.27440\n",
      "137\t2\t\t1.00000\t\t6.27440\n",
      "138\t2\t\t0.00480\t\t6.27920\n",
      "139\t2\t\t0.00840\t\t6.28760\n",
      "140\t2\t\t0.00920\t\t6.29680\n",
      "141\t2\t\t0.01210\t\t6.30890\n",
      "142\t2\t\t0.00990\t\t6.31880\n",
      "143\t2\t\t0.01860\t\t6.33740\n",
      "144\t2\t\t0.01940\t\t6.35680\n",
      "145\t2\t\t0.02650\t\t6.38330\n",
      "146\t2\t\t0.02210\t\t6.40540\n",
      "147\t2\t\t0.02190\t\t6.42730\n",
      "148\t2\t\t0.02950\t\t6.45680\n",
      "149\t2\t\t0.02950\t\t6.48630\n",
      "150\t2\t\t0.02330\t\t6.50960\n",
      "151\t2\t\t0.04380\t\t6.55340\n",
      "152\t2\t\t0.04100\t\t6.59440\n",
      "153\t2\t\t0.04720\t\t6.64160\n",
      "154\t2\t\t0.04680\t\t6.68840\n",
      "155\t2\t\t0.04010\t\t6.72850\n",
      "156\t2\t\t0.04790\t\t6.77640\n",
      "157\t2\t\t0.05450\t\t6.83090\n",
      "158\t2\t\t0.04630\t\t6.87720\n",
      "159\t2\t\t0.05960\t\t6.93680\n",
      "160\t2\t\t0.05520\t\t6.99200\n",
      "161\t2\t\t0.06740\t\t7.05940\n",
      "162\t2\t\t0.06780\t\t7.12720\n",
      "163\t2\t\t0.05980\t\t7.18700\n",
      "164\t2\t\t0.07300\t\t7.26000\n",
      "165\t2\t\t0.08740\t\t7.34740\n",
      "166\t2\t\t0.06400\t\t7.41140\n",
      "167\t2\t\t0.06270\t\t7.47410\n",
      "168\t2\t\t0.07390\t\t7.54800\n",
      "169\t2\t\t0.08600\t\t7.63400\n",
      "170\t2\t\t0.09220\t\t7.72620\n",
      "171\t3\t\t1.00000\t\t8.72620\n",
      "172\t3\t\t0.00620\t\t8.73240\n",
      "173\t3\t\t0.00760\t\t8.74000\n",
      "174\t3\t\t0.00940\t\t8.74940\n",
      "175\t3\t\t0.01580\t\t8.76520\n",
      "176\t3\t\t0.01620\t\t8.78140\n",
      "177\t3\t\t0.01620\t\t8.79760\n",
      "178\t3\t\t0.02380\t\t8.82140\n",
      "179\t3\t\t0.02450\t\t8.84590\n",
      "180\t3\t\t0.03630\t\t8.88220\n",
      "181\t3\t\t0.03540\t\t8.91760\n",
      "182\t3\t\t0.02940\t\t8.94700\n",
      "183\t3\t\t0.04180\t\t8.98880\n",
      "184\t3\t\t0.05520\t\t9.04400\n",
      "185\t3\t\t0.04220\t\t9.08620\n",
      "186\t3\t\t0.04480\t\t9.13100\n",
      "187\t3\t\t0.05250\t\t9.18350\n",
      "188\t3\t\t0.05210\t\t9.23560\n",
      "189\t3\t\t0.05300\t\t9.28860\n",
      "190\t3\t\t0.05960\t\t9.34820\n"
     ]
    }
   ],
   "source": [
    "partition = partition_greedy(cols)"
   ]
  },
  {
   "cell_type": "code",
   "execution_count": 44,
   "metadata": {
    "ExecuteTime": {
     "end_time": "2018-05-16T12:35:16.739767Z",
     "start_time": "2018-05-16T12:35:16.715767Z"
    }
   },
   "outputs": [
    {
     "data": {
      "text/plain": [
       "9.3482"
      ]
     },
     "execution_count": 44,
     "metadata": {},
     "output_type": "execute_result"
    }
   ],
   "source": [
    "cost(cols, partition)"
   ]
  },
  {
   "cell_type": "markdown",
   "metadata": {},
   "source": [
    "## Clustering"
   ]
  },
  {
   "cell_type": "code",
   "execution_count": 45,
   "metadata": {
    "ExecuteTime": {
     "end_time": "2018-05-16T12:35:18.374769Z",
     "start_time": "2018-05-16T12:35:16.741447Z"
    }
   },
   "outputs": [
    {
     "data": {
      "text/plain": [
       "KMeans(algorithm='auto', copy_x=True, init='k-means++', max_iter=300,\n",
       "    n_clusters=30, n_init=10, n_jobs=1, precompute_distances='auto',\n",
       "    random_state=None, tol=0.0001, verbose=0)"
      ]
     },
     "execution_count": 45,
     "metadata": {},
     "output_type": "execute_result"
    }
   ],
   "source": [
    "from sklearn import cluster\n",
    "\n",
    "clustering = cluster.KMeans(n_clusters=30)\n",
    "clustering.fit(cols.T)"
   ]
  },
  {
   "cell_type": "code",
   "execution_count": 46,
   "metadata": {
    "ExecuteTime": {
     "end_time": "2018-05-16T12:35:18.682418Z",
     "start_time": "2018-05-16T12:35:18.376566Z"
    }
   },
   "outputs": [
    {
     "data": {
      "image/png": "[encoded data removed]",
      "text/plain": [
       "<Figure size 640x480 with 1 Axes>"
      ]
     },
     "metadata": {},
     "output_type": "display_data"
    }
   ],
   "source": [
    "plt.hist(clustering.predict(cols.T))\n",
    "plt.yscale('log')"
   ]
  },
  {
   "cell_type": "code",
   "execution_count": 47,
   "metadata": {
    "ExecuteTime": {
     "end_time": "2018-05-16T12:35:18.722269Z",
     "start_time": "2018-05-16T12:35:18.684303Z"
    }
   },
   "outputs": [
    {
     "data": {
      "text/plain": [
       "42.781800000000004"
      ]
     },
     "execution_count": 47,
     "metadata": {},
     "output_type": "execute_result"
    }
   ],
   "source": [
    "cost(cols, clustering.predict(cols.T))"
   ]
  },
  {
   "cell_type": "markdown",
   "metadata": {},
   "source": [
    "### Agglomerative clustering"
   ]
  },
  {
   "cell_type": "code",
   "execution_count": null,
   "metadata": {},
   "outputs": [],
   "source": [
    "def find_clusters(input):\n",
    "    clusters = {}\n",
    "\n",
    "    array = [n for n in range(input.shape[0])]\n",
    "\n",
    "    clusters[0] = array.copy()\n",
    "\n",
    "    for k in range(1, input.shape[0]):\n",
    "        min_val = sys.maxsize\n",
    "\n",
    "        for i in range(0, input.shape[0]):\n",
    "            for j in range(0, input.shape[1]):\n",
    "                if(input[i][j] <= min_val):\n",
    "                    min_val = input[i][j]\n",
    "                    row_index = i\n",
    "                    col_index = j\n",
    "\n",
    "        for i in range(0, input.shape[0]):\n",
    "            if(i != col_index and i != row_index):\n",
    "                dist_centroid = cal_dist_from_centroid(i, row_index, col_index)\n",
    "                input[col_index][i] = dist_centroid\n",
    "                input[i][col_index] = dist_centroid\n",
    "\n",
    "        #set the rows and columns for the cluster with higher index i.e. the row index to infinity\n",
    "        for i in range (0, input.shape[0]):\n",
    "            input[row_index][i] = sys.maxsize\n",
    "            input[i][row_index] = sys.maxsize\n",
    "\n",
    "        #Manipulating the dictionary to keep track of cluster formation in each step\n",
    "        #if k=0,then all datapoints are clusters\n",
    "\n",
    "        minimum = min(row_index, col_index)\n",
    "        maximum = max(row_index, col_index)\n",
    "\n",
    "        for n in range(len(array)):\n",
    "            if(array[n]==maximum):\n",
    "                array[n] = minimum\n",
    "        clusters[k] = array.copy()\n",
    "\n",
    "    return clusters"
   ]
  },
  {
   "cell_type": "code",
   "execution_count": 117,
   "metadata": {
    "ExecuteTime": {
     "end_time": "2018-05-15T17:38:51.671117Z",
     "start_time": "2018-05-15T17:38:51.406298Z"
    }
   },
   "outputs": [],
   "source": [
    "import sys\n",
    "import math\n",
    "import os\n",
    "import heapq\n",
    "import itertools\n",
    "\n",
    "class Hierarchical_Clustering:\n",
    "    def __init__(self, ipt_data, ipt_k):\n",
    "        self.input_file_name = ipt_data\n",
    "        self.k = ipt_k\n",
    "        self.dataset = None\n",
    "        self.dataset_size = 0\n",
    "        self.dimension = 0\n",
    "        self.heap = []\n",
    "        self.clusters = []\n",
    "        self.gold_standard = {}\n",
    "\n",
    "    def initialize(self):\n",
    "        \"\"\"\n",
    "        Initialize and check parameters\n",
    "        \"\"\"\n",
    "        # check file exist and if it's a file or dir\n",
    "        if not os.path.isfile(self.input_file_name):\n",
    "            self.quit(\"Input file doesn't exist or it's not a file\")\n",
    "\n",
    "        self.dataset, self.clusters, self.gold_standard = self.load_data(self.input_file_name)\n",
    "        self.dataset_size = len(self.dataset)\n",
    "\n",
    "        if self.dataset_size == 0:\n",
    "            self.quit(\"Input file doesn't include any data\")\n",
    "\n",
    "        if self.k == 0:\n",
    "            self.quit(\"k = 0, no cluster will be generated\")\n",
    "\n",
    "        if self.k > self.dataset_size:\n",
    "            self.quit(\"k is larger than the number of existing clusters\")\n",
    "\n",
    "        self.dimension = len(self.dataset[0][\"data\"])\n",
    "\n",
    "        if self.dimension == 0:\n",
    "            self.quit(\"dimension for dataset cannot be zero\")\n",
    "\n",
    "    \"\"\"\"\"\"\"\"\"\"\"\"\"\"\"\"\"\"\"\"\"\"\"\"\"\"\"\"\"\"\"\"\"\"\"\"\"\"\"\"\"\"\"\"\"\"\"\"\"\"\"\"\"\"\"\"\"\"\"\"\"\"\"\"\"\"\"\"\"\"\"\"\"\"\"\"\"\"\"\"\"\"\"\"\n",
    "    \"\"\"                      Hierarchical Clustering Functions                       \"\"\"\n",
    "    \"\"\"                                                                              \"\"\"    \n",
    "    \"\"\"\"\"\"\"\"\"\"\"\"\"\"\"\"\"\"\"\"\"\"\"\"\"\"\"\"\"\"\"\"\"\"\"\"\"\"\"\"\"\"\"\"\"\"\"\"\"\"\"\"\"\"\"\"\"\"\"\"\"\"\"\"\"\"\"\"\"\"\"\"\"\"\"\"\"\"\"\"\"\"\"\"\n",
    "\n",
    "    def euclidean_distance(self, data_point_one, data_point_two):\n",
    "        \"\"\"\n",
    "        euclidean distance: https://en.wikipedia.org/wiki/Euclidean_distance\n",
    "        assume that two data points have same dimension\n",
    "        \"\"\"\n",
    "        size = len(data_point_one)\n",
    "        result = 0.0\n",
    "        for i in range(size):\n",
    "            f1 = float(data_point_one[i])   # feature for data one\n",
    "            f2 = float(data_point_two[i])   # feature for data two\n",
    "            tmp = f1 - f2\n",
    "            result += pow(tmp, 2)\n",
    "        result = math.sqrt(result)\n",
    "        return result\n",
    "\n",
    "    def compute_pairwise_distance(self, dataset):\n",
    "        result = []\n",
    "        dataset_size = len(dataset)\n",
    "        for i in range(dataset_size-1):    # ignore last i\n",
    "            for j in range(i+1, dataset_size):     # ignore duplication\n",
    "                dist = self.euclidean_distance(dataset[i][\"data\"], dataset[j][\"data\"])\n",
    "\n",
    "                # duplicate dist, need to be remove, and there is no difference to use tuple only\n",
    "                # leave second dist here is to take up a position for tie selection\n",
    "                result.append( (dist, [dist, [[i], [j]]]) )\n",
    "\n",
    "        return result\n",
    "                \n",
    "    def build_priority_queue(self, distance_list):\n",
    "        heapq.heapify(distance_list)\n",
    "        self.heap = distance_list\n",
    "        return self.heap\n",
    "\n",
    "    def compute_centroid_two_clusters(self, current_clusters, data_points_index):\n",
    "        size = len(data_points_index)\n",
    "        dim = self.dimension\n",
    "        centroid = [0.0]*dim\n",
    "        for index in data_points_index:\n",
    "            dim_data = current_clusters[str(index)][\"centroid\"]\n",
    "            for i in range(dim):\n",
    "                centroid[i] += float(dim_data[i])\n",
    "        for i in range(dim):\n",
    "            centroid[i] /= size\n",
    "        return centroid\n",
    "\n",
    "    def compute_centroid(self, dataset, data_points_index):\n",
    "        size = len(data_points_index)\n",
    "        dim = self.dimension\n",
    "        centroid = [0.0]*dim\n",
    "        for idx in data_points_index:\n",
    "            dim_data = dataset[idx][\"data\"]\n",
    "            for i in range(dim):\n",
    "                centroid[i] += float(dim_data[i])\n",
    "        for i in range(dim):\n",
    "            centroid[i] /= size\n",
    "        return centroid\n",
    "\n",
    "    def hierarchical_clustering(self):\n",
    "        \"\"\"\n",
    "        Main Process for hierarchical clustering\n",
    "        \"\"\"\n",
    "        dataset = self.dataset\n",
    "        current_clusters = self.clusters\n",
    "        old_clusters = []\n",
    "        heap = hc.compute_pairwise_distance(dataset)\n",
    "        heap = hc.build_priority_queue(heap)\n",
    "\n",
    "        while len(current_clusters) > self.k:\n",
    "            dist, min_item = heapq.heappop(heap)\n",
    "            # pair_dist = min_item[0]\n",
    "            pair_data = min_item[1]\n",
    "\n",
    "            # judge if include old cluster\n",
    "            if not self.valid_heap_node(min_item, old_clusters):\n",
    "                continue\n",
    "\n",
    "            new_cluster = {}\n",
    "            new_cluster_elements = sum(pair_data, [])\n",
    "            new_cluster_cendroid = self.compute_centroid(dataset, new_cluster_elements)\n",
    "            new_cluster_elements.sort()\n",
    "            new_cluster.setdefault(\"centroid\", new_cluster_cendroid)\n",
    "            new_cluster.setdefault(\"elements\", new_cluster_elements)\n",
    "            for pair_item in pair_data:\n",
    "                old_clusters.append(pair_item)\n",
    "                del current_clusters[str(pair_item)]\n",
    "            self.add_heap_entry(heap, new_cluster, current_clusters)\n",
    "            current_clusters[str(new_cluster_elements)] = new_cluster\n",
    "        current_clusters.sort()\n",
    "        return current_clusters\n",
    "            \n",
    "    def valid_heap_node(self, heap_node, old_clusters):\n",
    "        pair_dist = heap_node[0]\n",
    "        pair_data = heap_node[1]\n",
    "        for old_cluster in old_clusters:\n",
    "            if old_cluster in pair_data:\n",
    "                return False\n",
    "        return True\n",
    "            \n",
    "    def add_heap_entry(self, heap, new_cluster, current_clusters):\n",
    "        for ex_cluster in current_clusters.values():\n",
    "            new_heap_entry = []\n",
    "            dist = self.euclidean_distance(ex_cluster[\"centroid\"], new_cluster[\"centroid\"])\n",
    "            new_heap_entry.append(dist)\n",
    "            new_heap_entry.append([new_cluster[\"elements\"], ex_cluster[\"elements\"]])\n",
    "            heapq.heappush(heap, (dist, new_heap_entry))\n",
    "\n",
    "    def evaluate(self, current_clusters):\n",
    "        gold_standard = self.gold_standard\n",
    "        current_clustes_pairs = []\n",
    "\n",
    "        for (current_cluster_key, current_cluster_value) in current_clusters.items():\n",
    "            tmp = list(itertools.combinations(current_cluster_value[\"elements\"], 2))\n",
    "            current_clustes_pairs.extend(tmp)\n",
    "        tp_fp = len(current_clustes_pairs)\n",
    "\n",
    "        gold_standard_pairs = []\n",
    "        for (gold_standard_key, gold_standard_value) in gold_standard.items():\n",
    "            tmp = list(itertools.combinations(gold_standard_value, 2))\n",
    "            gold_standard_pairs.extend(tmp)\n",
    "        tp_fn = len(gold_standard_pairs)\n",
    "\n",
    "        tp = 0.0\n",
    "        for ccp in current_clustes_pairs:\n",
    "            if ccp in gold_standard_pairs:\n",
    "                tp += 1\n",
    "\n",
    "        if tp_fp == 0:\n",
    "            precision = 0.0\n",
    "        else:\n",
    "            precision = tp/tp_fp\n",
    "        if tp_fn == 0:\n",
    "            precision = 0.0\n",
    "        else:\n",
    "            recall = tp/tp_fn\n",
    "\n",
    "        return precision, recall\n",
    "\n",
    "    \"\"\"\"\"\"\"\"\"\"\"\"\"\"\"\"\"\"\"\"\"\"\"\"\"\"\"\"\"\"\"\"\"\"\"\"\"\"\"\"\"\"\"\"\"\"\"\"\"\"\"\"\"\"\"\"\"\"\"\"\"\"\"\"\"\"\"\"\"\"\"\"\"\"\"\"\"\"\"\"\"\"\"\"\n",
    "    \"\"\"                             Helper Functions                                 \"\"\"\n",
    "    \"\"\"                                                                              \"\"\"    \n",
    "    \"\"\"\"\"\"\"\"\"\"\"\"\"\"\"\"\"\"\"\"\"\"\"\"\"\"\"\"\"\"\"\"\"\"\"\"\"\"\"\"\"\"\"\"\"\"\"\"\"\"\"\"\"\"\"\"\"\"\"\"\"\"\"\"\"\"\"\"\"\"\"\"\"\"\"\"\"\"\"\"\"\"\"\"\n",
    "    def load_data(self, input_file_name):\n",
    "        \"\"\"\n",
    "        load data and do some preparations\n",
    "        \"\"\"\n",
    "        input_file = open(input_file_name, 'rU')\n",
    "        dataset = []\n",
    "        clusters = {}\n",
    "        gold_standard = {}\n",
    "        id = 0\n",
    "        for line in input_file:\n",
    "            line = line.strip('\\n')\n",
    "            row = str(line)\n",
    "            row = row.split(\",\")\n",
    "            iris_class = row[-1]\n",
    "\n",
    "            data = {}\n",
    "            data.setdefault(\"id\", id)   # duplicate\n",
    "            data.setdefault(\"data\", row[:-1])\n",
    "            data.setdefault(\"class\", row[-1])\n",
    "            dataset.append(data)\n",
    "\n",
    "            clusters_key = str([id])\n",
    "            clusters.setdefault(clusters_key, {})\n",
    "            clusters[clusters_key].setdefault(\"centroid\", row[:-1])\n",
    "            clusters[clusters_key].setdefault(\"elements\", [id])\n",
    "\n",
    "            gold_standard.setdefault(iris_class, [])\n",
    "            gold_standard[iris_class].append(id)\n",
    "\n",
    "            id += 1\n",
    "        return dataset, clusters, gold_standard\n",
    "\n",
    "    def quit(self, err_desc):\n",
    "        raise SystemExit('\\n'+ \"PROGRAM EXIT: \" + err_desc + ', please check your input' + '\\n')\n",
    "\n",
    "    def loaded_dataset(self):\n",
    "        \"\"\"\n",
    "        use for test only\n",
    "        \"\"\"\n",
    "        return self.dataset\n",
    "\n",
    "    def display(self, current_clusters, precision, recall):\n",
    "        print precision\n",
    "        print recall\n",
    "        clusters = current_clusters.values()\n",
    "        for cluster in clusters:\n",
    "            cluster[\"elements\"].sort()\n",
    "            print cluster[\"elements\"]\n"
   ]
  },
  {
   "cell_type": "code",
   "execution_count": 118,
   "metadata": {
    "ExecuteTime": {
     "end_time": "2018-05-15T17:39:19.926043Z",
     "start_time": "2018-05-15T17:38:56.091920Z"
    }
   },
   "outputs": [],
   "source": [
    "assignment = cluster.AgglomerativeClustering(n_clusters=30, pooling_func=pooling).fit_predict(cols.T)"
   ]
  },
  {
   "cell_type": "code",
   "execution_count": 119,
   "metadata": {
    "ExecuteTime": {
     "end_time": "2018-05-15T17:39:20.064615Z",
     "start_time": "2018-05-15T17:39:19.928148Z"
    }
   },
   "outputs": [
    {
     "data": {
      "text/plain": [
       "2063.5481"
      ]
     },
     "execution_count": 119,
     "metadata": {},
     "output_type": "execute_result"
    }
   ],
   "source": [
    "cost(cols, assignment)"
   ]
  }
 ],
 "metadata": {
  "kernelspec": {
   "display_name": "Python 3",
   "language": "python",
   "name": "python3"
  },
  "language_info": {
   "codemirror_mode": {
    "name": "ipython",
    "version": 3
   },
   "file_extension": ".py",
   "mimetype": "text/x-python",
   "name": "python",
   "nbconvert_exporter": "python",
   "pygments_lexer": "ipython3",
   "version": "3.6.5"
  },
  "toc": {
   "nav_menu": {},
   "number_sections": true,
   "sideBar": true,
   "skip_h1_title": true,
   "toc_cell": false,
   "toc_position": {},
   "toc_section_display": "block",
   "toc_window_display": false
  }
 },
 "nbformat": 4,
 "nbformat_minor": 2
}
