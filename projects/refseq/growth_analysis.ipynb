{
 "cells": [
  {
   "cell_type": "code",
   "execution_count": 10,
   "metadata": {
    "ExecuteTime": {
     "end_time": "2018-09-26T16:05:54.581678Z",
     "start_time": "2018-09-26T16:05:54.552852Z"
    }
   },
   "outputs": [
    {
     "name": "stdout",
     "output_type": "stream",
     "text": [
      "The autoreload extension is already loaded. To reload it, use:\n",
      "  %reload_ext autoreload\n"
     ]
    }
   ],
   "source": [
    "import glob\n",
    "import os\n",
    "import pandas as pd\n",
    "from io import StringIO\n",
    "from matplotlib import pyplot as plt\n",
    "from IPython.display import set_matplotlib_formats\n",
    "set_matplotlib_formats('png', 'pdf')\n",
    "import numpy as np\n",
    "\n",
    "%matplotlib inline\n",
    "%load_ext autoreload\n",
    "%autoreload 2\n",
    "\n",
    "import matplotlib as mpl\n",
    "mpl.rcParams.update(mpl.rcParamsDefault)\n",
    "\n",
    "plt.rc('font', family='sans-serif')#, serif='Times')\n",
    "plt.rc('xtick', labelsize=11)\n",
    "plt.rc('ytick', labelsize=11)\n",
    "plt.rc('axes', labelsize=12)\n",
    "plt.rc('legend', fontsize=11)\n",
    "#plt.rcParams['mathtext.fontset'] = 'stix'\n",
    "#plt.rcParams['font.family'] = 'STIXGeneral'\n",
    "params = {\n",
    "'text.usetex': True,\n",
    "#'font.size': 15,\n",
    "'text.latex.unicode': True\n",
    "}\n",
    "plt.rcParams.update(params)"
   ]
  },
  {
   "cell_type": "markdown",
   "metadata": {},
   "source": [
    "## Variable $k$"
   ]
  },
  {
   "cell_type": "markdown",
   "metadata": {},
   "source": [
    "### Ref-Seq assembly data"
   ]
  },
  {
   "cell_type": "code",
   "execution_count": 2,
   "metadata": {
    "ExecuteTime": {
     "end_time": "2018-09-21T09:24:12.766712Z",
     "start_time": "2018-09-21T09:24:12.752737Z"
    }
   },
   "outputs": [],
   "source": [
    "k_array = np.arange(10, 24)"
   ]
  },
  {
   "cell_type": "code",
   "execution_count": 3,
   "metadata": {
    "ExecuteTime": {
     "end_time": "2018-09-21T09:24:13.415020Z",
     "start_time": "2018-09-21T09:24:13.277419Z"
    }
   },
   "outputs": [
    {
     "name": "stdout",
     "output_type": "stream",
     "text": [
      "/cluster/home/mikhaika/big_graph/refseq/refseq_k10/graph_refseq_k10.dbg\r\n"
     ]
    }
   ],
   "source": [
    "!ls ~/big_graph/refseq/refseq_k10/graph_refseq_k10.dbg"
   ]
  },
  {
   "cell_type": "code",
   "execution_count": 4,
   "metadata": {
    "ExecuteTime": {
     "end_time": "2018-09-21T09:24:13.651978Z",
     "start_time": "2018-09-21T09:24:13.606865Z"
    },
    "scrolled": true
   },
   "outputs": [
    {
     "data": {
      "text/plain": [
       "[5017397,\n",
       " 19957085,\n",
       " 79716413,\n",
       " 318783677,\n",
       " 1275200189,\n",
       " 5100406198,\n",
       " 20193422370,\n",
       " 70555357553,\n",
       " 180029209052,\n",
       " 320880966947,\n",
       " 424795775328,\n",
       " 470859116657,\n",
       " 490467611111,\n",
       " 503062440506]"
      ]
     },
     "execution_count": 4,
     "metadata": {},
     "output_type": "execute_result"
    }
   ],
   "source": [
    "sizes = [os.path.getsize('../big_graph/refseq/refseq_k{}/graph_refseq_k{}.dbg'.format(x, x)) for x in k_array]\n",
    "sizes"
   ]
  },
  {
   "cell_type": "code",
   "execution_count": 5,
   "metadata": {
    "ExecuteTime": {
     "end_time": "2018-09-21T09:24:13.969724Z",
     "start_time": "2018-09-21T09:24:13.954641Z"
    }
   },
   "outputs": [],
   "source": [
    "num_edges = [4194305,\n",
    "16777217,\n",
    "67108865,\n",
    "268435457,\n",
    "1073741825,\n",
    "4294807964,\n",
    "17004180213,\n",
    "58827897766,\n",
    "147478598494,\n",
    "261992234631,\n",
    "355110450523,\n",
    "411025684461,\n",
    "441788978532,\n",
    "459869414309,\n",
    "]"
   ]
  },
  {
   "cell_type": "code",
   "execution_count": 6,
   "metadata": {
    "ExecuteTime": {
     "end_time": "2018-09-21T09:24:17.731664Z",
     "start_time": "2018-09-21T09:24:14.184833Z"
    },
    "scrolled": true
   },
   "outputs": [
    {
     "data": {
      "image/png": "[encoded data removed]",
      "text/plain": [
       "<Figure size 313.83x232.754 with 2 Axes>"
      ]
     },
     "metadata": {
      "needs_background": "light"
     },
     "output_type": "display_data"
    }
   ],
   "source": [
    "width = 3.487 * 1.5\n",
    "height = width / 1.618\n",
    "\n",
    "fig, ax = plt.subplots(1, 1, figsize=(width / 1.2, height))\n",
    "#ax.set_title('RefSeq graph, with replaced \\'N\\'s')\n",
    "#ax.set_title('RefSeq assembly graph')\n",
    "\n",
    "ax.plot(np.array(k_array), np.array(sizes) / 2**20, marker='o', label='size', c='b')\n",
    "ax.set_yscale('log')\n",
    "ax.set_ylabel('Graph size (fast), Mb')\n",
    "ax.set_xlabel('k, the BOSS node size')\n",
    "ax.set_xticks(np.array(k_array))\n",
    "ax.grid(True)\n",
    "ax.legend(loc='center left')\n",
    "\n",
    "ax2 = ax.twinx()\n",
    "ax2.plot(np.array(k_array), num_edges / 4 ** (np.array(k_array) + 1), marker='x', label='density', c='g')\n",
    "#ax2.set_yscale('log')\n",
    "ax2.set_ylabel('Graph density')\n",
    "ax2.legend(loc='center right')\n",
    "\n",
    "plt.tight_layout()\n",
    "plt.savefig('refseq_scalability.pdf', format='pdf', bbox_inches='tight')\n",
    "plt.show()"
   ]
  },
  {
   "cell_type": "markdown",
   "metadata": {},
   "source": [
    "### Kingsford data"
   ]
  },
  {
   "cell_type": "code",
   "execution_count": 7,
   "metadata": {
    "ExecuteTime": {
     "end_time": "2018-09-21T09:24:17.750651Z",
     "start_time": "2018-09-21T09:24:17.734552Z"
    }
   },
   "outputs": [],
   "source": [
    "k_array = np.concatenate((np.arange(5, 21), np.arange(22, 34, 2)))"
   ]
  },
  {
   "cell_type": "code",
   "execution_count": 8,
   "metadata": {
    "ExecuteTime": {
     "end_time": "2018-09-21T09:24:17.882575Z",
     "start_time": "2018-09-21T09:24:17.753285Z"
    }
   },
   "outputs": [
    {
     "name": "stdout",
     "output_type": "stream",
     "text": [
      "ls: cannot access '/cluster/home/mikhaika/big_graph/kingsford/var_k/graph_kingsford_k*.dbg': No such file or directory\r\n"
     ]
    }
   ],
   "source": [
    "!ls ~/big_graph/kingsford/var_k/graph_kingsford_k*.dbg"
   ]
  },
  {
   "cell_type": "code",
   "execution_count": 9,
   "metadata": {
    "ExecuteTime": {
     "end_time": "2018-09-21T09:24:17.985807Z",
     "start_time": "2018-09-21T09:24:17.885154Z"
    },
    "scrolled": true
   },
   "outputs": [
    {
     "ename": "FileNotFoundError",
     "evalue": "[Errno 2] No such file or directory: '../big_graph/kingsford/var_k/graph_kingsford_k5.dbg'",
     "output_type": "error",
     "traceback": [
      "\u001b[0;31m---------------------------------------------------------------------------\u001b[0m",
      "\u001b[0;31mFileNotFoundError\u001b[0m                         Traceback (most recent call last)",
      "\u001b[0;32m<ipython-input-9-c6457c9ca123>\u001b[0m in \u001b[0;36m<module>\u001b[0;34m()\u001b[0m\n\u001b[0;32m----> 1\u001b[0;31m \u001b[0msizes\u001b[0m \u001b[0;34m=\u001b[0m \u001b[0;34m[\u001b[0m\u001b[0mos\u001b[0m\u001b[0;34m.\u001b[0m\u001b[0mpath\u001b[0m\u001b[0;34m.\u001b[0m\u001b[0mgetsize\u001b[0m\u001b[0;34m(\u001b[0m\u001b[0;34m'../big_graph/kingsford/var_k/graph_kingsford_k{}.dbg'\u001b[0m\u001b[0;34m.\u001b[0m\u001b[0mformat\u001b[0m\u001b[0;34m(\u001b[0m\u001b[0mx\u001b[0m\u001b[0;34m,\u001b[0m \u001b[0mx\u001b[0m\u001b[0;34m)\u001b[0m\u001b[0;34m)\u001b[0m \u001b[0;32mfor\u001b[0m \u001b[0mx\u001b[0m \u001b[0;32min\u001b[0m \u001b[0mk_array\u001b[0m\u001b[0;34m]\u001b[0m\u001b[0;34m\u001b[0m\u001b[0m\n\u001b[0m\u001b[1;32m      2\u001b[0m \u001b[0msizes\u001b[0m\u001b[0;34m\u001b[0m\u001b[0m\n",
      "\u001b[0;32m<ipython-input-9-c6457c9ca123>\u001b[0m in \u001b[0;36m<listcomp>\u001b[0;34m(.0)\u001b[0m\n\u001b[0;32m----> 1\u001b[0;31m \u001b[0msizes\u001b[0m \u001b[0;34m=\u001b[0m \u001b[0;34m[\u001b[0m\u001b[0mos\u001b[0m\u001b[0;34m.\u001b[0m\u001b[0mpath\u001b[0m\u001b[0;34m.\u001b[0m\u001b[0mgetsize\u001b[0m\u001b[0;34m(\u001b[0m\u001b[0;34m'../big_graph/kingsford/var_k/graph_kingsford_k{}.dbg'\u001b[0m\u001b[0;34m.\u001b[0m\u001b[0mformat\u001b[0m\u001b[0;34m(\u001b[0m\u001b[0mx\u001b[0m\u001b[0;34m,\u001b[0m \u001b[0mx\u001b[0m\u001b[0;34m)\u001b[0m\u001b[0;34m)\u001b[0m \u001b[0;32mfor\u001b[0m \u001b[0mx\u001b[0m \u001b[0;32min\u001b[0m \u001b[0mk_array\u001b[0m\u001b[0;34m]\u001b[0m\u001b[0;34m\u001b[0m\u001b[0m\n\u001b[0m\u001b[1;32m      2\u001b[0m \u001b[0msizes\u001b[0m\u001b[0;34m\u001b[0m\u001b[0m\n",
      "\u001b[0;32m~/anaconda3/lib/python3.6/genericpath.py\u001b[0m in \u001b[0;36mgetsize\u001b[0;34m(filename)\u001b[0m\n\u001b[1;32m     48\u001b[0m \u001b[0;32mdef\u001b[0m \u001b[0mgetsize\u001b[0m\u001b[0;34m(\u001b[0m\u001b[0mfilename\u001b[0m\u001b[0;34m)\u001b[0m\u001b[0;34m:\u001b[0m\u001b[0;34m\u001b[0m\u001b[0m\n\u001b[1;32m     49\u001b[0m     \u001b[0;34m\"\"\"Return the size of a file, reported by os.stat().\"\"\"\u001b[0m\u001b[0;34m\u001b[0m\u001b[0m\n\u001b[0;32m---> 50\u001b[0;31m     \u001b[0;32mreturn\u001b[0m \u001b[0mos\u001b[0m\u001b[0;34m.\u001b[0m\u001b[0mstat\u001b[0m\u001b[0;34m(\u001b[0m\u001b[0mfilename\u001b[0m\u001b[0;34m)\u001b[0m\u001b[0;34m.\u001b[0m\u001b[0mst_size\u001b[0m\u001b[0;34m\u001b[0m\u001b[0m\n\u001b[0m\u001b[1;32m     51\u001b[0m \u001b[0;34m\u001b[0m\u001b[0m\n\u001b[1;32m     52\u001b[0m \u001b[0;34m\u001b[0m\u001b[0m\n",
      "\u001b[0;31mFileNotFoundError\u001b[0m: [Errno 2] No such file or directory: '../big_graph/kingsford/var_k/graph_kingsford_k5.dbg'"
     ]
    }
   ],
   "source": [
    "sizes = [os.path.getsize('../big_graph/kingsford/var_k/graph_kingsford_k{}.dbg'.format(x, x)) for x in k_array]\n",
    "sizes"
   ]
  },
  {
   "cell_type": "code",
   "execution_count": null,
   "metadata": {
    "ExecuteTime": {
     "end_time": "2018-09-21T09:24:17.986518Z",
     "start_time": "2018-09-21T09:24:15.188Z"
    }
   },
   "outputs": [],
   "source": [
    "num_edges = [15626,\n",
    "78126,\n",
    "390617,\n",
    "1902278,\n",
    "7468325,\n",
    "24194804,\n",
    "72215346,\n",
    "197636600,\n",
    "512173368,\n",
    "1326508825,\n",
    "2934716087,\n",
    "4955736317,\n",
    "6790193411,\n",
    "8184346383,\n",
    "9226858039,\n",
    "10082499128,\n",
    "10868326297,\n",
    "11479986324,\n",
    "12901835746,\n",
    "14190173930,\n",
    "15700483703,\n",
    "17261067050,\n",
    "]"
   ]
  },
  {
   "cell_type": "code",
   "execution_count": null,
   "metadata": {
    "ExecuteTime": {
     "end_time": "2018-09-21T09:24:17.987435Z",
     "start_time": "2018-09-21T09:24:15.369Z"
    },
    "scrolled": true
   },
   "outputs": [],
   "source": [
    "width = 3.487 * 1.5\n",
    "height = width / 1.618\n",
    "\n",
    "fig, ax = plt.subplots(1, 1, figsize=(width / 1.2, height))\n",
    "#ax.set_title('Kingsford graph, with replaced \\'N\\'s')\n",
    "#ax.set_title('Kingsford assembly graph')\n",
    "\n",
    "ax.plot(np.array(k_array), np.array(sizes) / 2**20, marker='o', label='size', c='b')\n",
    "ax.set_yscale('log')\n",
    "ax.set_ylabel('Graph size (fast), Mb')\n",
    "ax.set_xlabel('k, the BOSS node size')\n",
    "#ax.set_xticks(np.array(k_array))\n",
    "ax.set_xticks([6, 8, 10, 12, 14, 16, 18, 20, 22, 24, 26, 28, 30, 32])\n",
    "ax.grid(True)\n",
    "ax.legend(loc=(0.7, 0.75))\n",
    "\n",
    "ax2 = ax.twinx()\n",
    "ax2.plot(np.array(k_array), num_edges / 5 ** (np.array(k_array) + 1), marker='x', label='density', c='g')\n",
    "#ax2.set_yscale('log')\n",
    "ax2.set_ylabel('Graph density')\n",
    "ax2.legend(loc=(0.6, 0.1))\n",
    "\n",
    "plt.tight_layout()\n",
    "plt.savefig('kingsford_scalability.pdf', format='pdf', bbox_inches='tight')\n",
    "plt.show()"
   ]
  },
  {
   "cell_type": "markdown",
   "metadata": {},
   "source": [
    "### Plots"
   ]
  },
  {
   "cell_type": "code",
   "execution_count": null,
   "metadata": {
    "ExecuteTime": {
     "end_time": "2018-09-21T09:24:17.988072Z",
     "start_time": "2018-09-21T09:24:15.951Z"
    }
   },
   "outputs": [],
   "source": [
    "k_array_refseq = np.arange(10, 24)\n",
    "sizes_refseq = [os.path.getsize('../big_graph/refseq/refseq_k{}/graph_refseq_k{}.dbg'.format(x, x)) for x in k_array_refseq]\n",
    "num_edges_refseq = [4194305,\n",
    "16777217,\n",
    "67108865,\n",
    "268435457,\n",
    "1073741825,\n",
    "4294807964,\n",
    "17004180213,\n",
    "58827897766,\n",
    "147478598494,\n",
    "261992234631,\n",
    "355110450523,\n",
    "411025684461,\n",
    "441788978532,\n",
    "459869414309,\n",
    "]"
   ]
  },
  {
   "cell_type": "code",
   "execution_count": null,
   "metadata": {
    "ExecuteTime": {
     "end_time": "2018-09-21T09:24:17.989716Z",
     "start_time": "2018-09-21T09:24:16.221Z"
    }
   },
   "outputs": [],
   "source": [
    "width = 3.487 * 1.5\n",
    "height = width / 1.618\n",
    "\n",
    "fig, ax = plt.subplots(1, 1, figsize=(width / 1.2, height))\n",
    "#ax.set_title('RefSeq graph, with replaced \\'N\\'s')\n",
    "#ax.set_title('RefSeq assembly graph')\n",
    "\n",
    "ax1_plot1 = ax.plot(np.array(k_array_refseq), np.array(sizes_refseq) / 2**20, marker='o', label='RS: size', c='b')\n",
    "ax1_plot2 = ax.plot(np.array(k_array), np.array(sizes) / 2**20, marker='o', label='KF: size', c='r')\n",
    "ax.set_yscale('log')\n",
    "ax.set_ylabel('Graph size (fast), Mb')\n",
    "ax.set_xlabel('$k$, the BOSS node size')\n",
    "#ax.set_xticks(np.array(k_array))\n",
    "ax.set_xticks([6, 8, 10, 12, 14, 16, 18, 20, 22, 24, 26, 28, 30, 32])\n",
    "ax.grid(True)\n",
    "\n",
    "ax2 = ax.twinx()\n",
    "ax2_plot1 = ax2.plot(np.array(k_array_refseq), num_edges_refseq / 4 ** (np.array(k_array_refseq) + 1), marker='x', label='RS: density', c='b')\n",
    "ax2_plot2 = ax2.plot(np.array(k_array), num_edges / 5 ** (np.array(k_array) + 1), marker='x', label='KF: density', c='r')\n",
    "#ax2.set_yscale('log')\n",
    "ax2.set_ylabel('Graph density')\n",
    "\n",
    "lns = ax1_plot1 + ax1_plot2 + ax2_plot1 + ax2_plot2\n",
    "labs = [l.get_label() for l in lns]\n",
    "ax.legend(lns, labs, loc='center right')\n",
    "\n",
    "plt.tight_layout()\n",
    "plt.savefig('graph_k_scalability.pdf', format='pdf', bbox_inches='tight')\n",
    "plt.show()"
   ]
  },
  {
   "cell_type": "markdown",
   "metadata": {},
   "source": [
    "## Variable size of the input data"
   ]
  },
  {
   "cell_type": "markdown",
   "metadata": {},
   "source": [
    "### Kingsford"
   ]
  },
  {
   "cell_type": "markdown",
   "metadata": {
    "ExecuteTime": {
     "end_time": "2018-09-25T09:15:32.155757Z",
     "start_time": "2018-09-25T09:15:31.985132Z"
    }
   },
   "source": [
    "files = pd.read_csv('~/projects2014-metagenome/scripts/kingsford/kingsford_filtered_list.txt', header=None)[0].values"
   ]
  },
  {
   "cell_type": "markdown",
   "metadata": {
    "ExecuteTime": {
     "end_time": "2018-09-25T09:15:33.647445Z",
     "start_time": "2018-09-25T09:15:33.627451Z"
    }
   },
   "source": [
    "np.random.seed(42)\n",
    "np.random.shuffle(files)"
   ]
  },
  {
   "cell_type": "markdown",
   "metadata": {
    "ExecuteTime": {
     "end_time": "2018-09-25T09:15:38.798860Z",
     "start_time": "2018-09-25T09:15:38.653124Z"
    }
   },
   "source": [
    "with open('kingsford_filtered_list_shuffled.txt', 'w') as f:\n",
    "    for fname in files:\n",
    "        f.write(fname)\n",
    "        f.write('\\n')\n",
    "!mv kingsford_filtered_list_shuffled.txt ~/projects2014-metagenome/scripts/kingsford/kingsford_filtered_list_shuffled.txt"
   ]
  },
  {
   "cell_type": "code",
   "execution_count": 11,
   "metadata": {
    "ExecuteTime": {
     "end_time": "2018-09-26T16:06:10.626087Z",
     "start_time": "2018-09-26T16:06:10.596618Z"
    }
   },
   "outputs": [],
   "source": [
    "files = pd.read_csv('~/projects2014-metagenome/scripts/kingsford/kingsford_filtered_list_shuffled.txt', header=None)[0].values"
   ]
  },
  {
   "cell_type": "code",
   "execution_count": 12,
   "metadata": {
    "ExecuteTime": {
     "end_time": "2018-09-26T16:06:12.214547Z",
     "start_time": "2018-09-26T16:06:12.050084Z"
    },
    "scrolled": true
   },
   "outputs": [
    {
     "name": "stdout",
     "output_type": "stream",
     "text": [
      "/cluster/home/mikhaika/big_graph/kingsford/input_size/graph_kingsford_k19_cols1032.dbg\r\n",
      "/cluster/home/mikhaika/big_graph/kingsford/input_size/graph_kingsford_k19_cols1204.dbg\r\n",
      "/cluster/home/mikhaika/big_graph/kingsford/input_size/graph_kingsford_k19_cols1376.dbg\r\n",
      "/cluster/home/mikhaika/big_graph/kingsford/input_size/graph_kingsford_k19_cols1548.dbg\r\n",
      "/cluster/home/mikhaika/big_graph/kingsford/input_size/graph_kingsford_k19_cols172.dbg\r\n",
      "/cluster/home/mikhaika/big_graph/kingsford/input_size/graph_kingsford_k19_cols1720.dbg\r\n",
      "/cluster/home/mikhaika/big_graph/kingsford/input_size/graph_kingsford_k19_cols1892.dbg\r\n",
      "/cluster/home/mikhaika/big_graph/kingsford/input_size/graph_kingsford_k19_cols2064.dbg\r\n",
      "/cluster/home/mikhaika/big_graph/kingsford/input_size/graph_kingsford_k19_cols2236.dbg\r\n",
      "/cluster/home/mikhaika/big_graph/kingsford/input_size/graph_kingsford_k19_cols2408.dbg\r\n",
      "/cluster/home/mikhaika/big_graph/kingsford/input_size/graph_kingsford_k19_cols2580.dbg\r\n",
      "/cluster/home/mikhaika/big_graph/kingsford/input_size/graph_kingsford_k19_cols344.dbg\r\n",
      "/cluster/home/mikhaika/big_graph/kingsford/input_size/graph_kingsford_k19_cols516.dbg\r\n",
      "/cluster/home/mikhaika/big_graph/kingsford/input_size/graph_kingsford_k19_cols688.dbg\r\n",
      "/cluster/home/mikhaika/big_graph/kingsford/input_size/graph_kingsford_k19_cols860.dbg\r\n"
     ]
    }
   ],
   "source": [
    "!ls ~/big_graph/kingsford/input_size/graph_kingsford_k19_cols*"
   ]
  },
  {
   "cell_type": "code",
   "execution_count": 13,
   "metadata": {
    "ExecuteTime": {
     "end_time": "2018-09-26T16:06:20.134839Z",
     "start_time": "2018-09-26T16:06:20.116101Z"
    }
   },
   "outputs": [],
   "source": [
    "step = 172\n",
    "num_cols = np.arange(0, len(files) + step - 1, step)[1:]"
   ]
  },
  {
   "cell_type": "code",
   "execution_count": 14,
   "metadata": {
    "ExecuteTime": {
     "end_time": "2018-09-26T16:06:23.881706Z",
     "start_time": "2018-09-26T16:06:21.076138Z"
    }
   },
   "outputs": [],
   "source": [
    "input_kingsford = [sum([os.path.getsize(x) for x in files[:x]]) for x in num_cols]"
   ]
  },
  {
   "cell_type": "code",
   "execution_count": 15,
   "metadata": {
    "ExecuteTime": {
     "end_time": "2018-09-26T16:06:23.908836Z",
     "start_time": "2018-09-26T16:06:23.883894Z"
    },
    "scrolled": true
   },
   "outputs": [
    {
     "data": {
      "text/plain": [
       "[707933385,\n",
       " 1022225551,\n",
       " 1435919673,\n",
       " 1626346341,\n",
       " 1801949880,\n",
       " 1945362379,\n",
       " 2104574497,\n",
       " 2266983801,\n",
       " 2395168201,\n",
       " 2570433687,\n",
       " 2718633575,\n",
       " 2993682300,\n",
       " 3090604989,\n",
       " 3194197988,\n",
       " 3365264248]"
      ]
     },
     "execution_count": 15,
     "metadata": {},
     "output_type": "execute_result"
    }
   ],
   "source": [
    "sizes_kingsford = [os.path.getsize('../big_graph/kingsford/input_size/graph_kingsford_k19_cols{}.dbg'.format(x))\n",
    "                    for x in num_cols]\n",
    "sizes_kingsford"
   ]
  },
  {
   "cell_type": "markdown",
   "metadata": {},
   "source": [
    "### Kingsford both strands"
   ]
  },
  {
   "cell_type": "code",
   "execution_count": 16,
   "metadata": {
    "ExecuteTime": {
     "end_time": "2018-09-26T16:06:30.938866Z",
     "start_time": "2018-09-26T16:06:30.913212Z"
    }
   },
   "outputs": [],
   "source": [
    "files = pd.read_csv('~/projects2014-metagenome/scripts/kingsford/kingsford_filtered_list_shuffled.txt', header=None)[0].values"
   ]
  },
  {
   "cell_type": "code",
   "execution_count": 17,
   "metadata": {
    "ExecuteTime": {
     "end_time": "2018-09-26T16:06:32.428699Z",
     "start_time": "2018-09-26T16:06:32.265910Z"
    },
    "scrolled": true
   },
   "outputs": [
    {
     "name": "stdout",
     "output_type": "stream",
     "text": [
      "/cluster/home/mikhaika/big_graph/kingsford/input_size/graph_kingsford_BS_k19_cols1032.dbg\r\n",
      "/cluster/home/mikhaika/big_graph/kingsford/input_size/graph_kingsford_BS_k19_cols1204.dbg\r\n",
      "/cluster/home/mikhaika/big_graph/kingsford/input_size/graph_kingsford_BS_k19_cols1376.dbg\r\n",
      "/cluster/home/mikhaika/big_graph/kingsford/input_size/graph_kingsford_BS_k19_cols1548.dbg\r\n",
      "/cluster/home/mikhaika/big_graph/kingsford/input_size/graph_kingsford_BS_k19_cols172.dbg\r\n",
      "/cluster/home/mikhaika/big_graph/kingsford/input_size/graph_kingsford_BS_k19_cols1720.dbg\r\n",
      "/cluster/home/mikhaika/big_graph/kingsford/input_size/graph_kingsford_BS_k19_cols1892.dbg\r\n",
      "/cluster/home/mikhaika/big_graph/kingsford/input_size/graph_kingsford_BS_k19_cols2064.dbg\r\n",
      "/cluster/home/mikhaika/big_graph/kingsford/input_size/graph_kingsford_BS_k19_cols2236.dbg\r\n",
      "/cluster/home/mikhaika/big_graph/kingsford/input_size/graph_kingsford_BS_k19_cols2408.dbg\r\n",
      "/cluster/home/mikhaika/big_graph/kingsford/input_size/graph_kingsford_BS_k19_cols2580.dbg\r\n",
      "/cluster/home/mikhaika/big_graph/kingsford/input_size/graph_kingsford_BS_k19_cols344.dbg\r\n",
      "/cluster/home/mikhaika/big_graph/kingsford/input_size/graph_kingsford_BS_k19_cols516.dbg\r\n",
      "/cluster/home/mikhaika/big_graph/kingsford/input_size/graph_kingsford_BS_k19_cols688.dbg\r\n",
      "/cluster/home/mikhaika/big_graph/kingsford/input_size/graph_kingsford_BS_k19_cols860.dbg\r\n"
     ]
    }
   ],
   "source": [
    "!ls ~/big_graph/kingsford/input_size/graph_kingsford_BS_k19_cols*"
   ]
  },
  {
   "cell_type": "code",
   "execution_count": 18,
   "metadata": {
    "ExecuteTime": {
     "end_time": "2018-09-26T16:06:34.151766Z",
     "start_time": "2018-09-26T16:06:34.132231Z"
    }
   },
   "outputs": [],
   "source": [
    "step = 172\n",
    "num_cols = np.arange(0, len(files) + step - 1, step)[1:]"
   ]
  },
  {
   "cell_type": "code",
   "execution_count": 19,
   "metadata": {
    "ExecuteTime": {
     "end_time": "2018-09-26T16:06:35.133466Z",
     "start_time": "2018-09-26T16:06:34.982684Z"
    }
   },
   "outputs": [],
   "source": [
    "input_kingsford = [sum([os.path.getsize(x) for x in files[:x]]) for x in num_cols]"
   ]
  },
  {
   "cell_type": "code",
   "execution_count": 20,
   "metadata": {
    "ExecuteTime": {
     "end_time": "2018-09-26T16:06:38.963648Z",
     "start_time": "2018-09-26T16:06:38.942774Z"
    },
    "scrolled": true
   },
   "outputs": [
    {
     "data": {
      "text/plain": [
       "[917405182,\n",
       " 1348195470,\n",
       " 1887655759,\n",
       " 2152077709,\n",
       " 2379204462,\n",
       " 2580591669,\n",
       " 2799495969,\n",
       " 3012507939,\n",
       " 3173596704,\n",
       " 3433930429,\n",
       " 3644262191,\n",
       " 4013426491,\n",
       " 4149606441,\n",
       " 4315480913,\n",
       " 4560443614]"
      ]
     },
     "execution_count": 20,
     "metadata": {},
     "output_type": "execute_result"
    }
   ],
   "source": [
    "sizes_kingsford_both = [os.path.getsize('../big_graph/kingsford/input_size/graph_kingsford_BS_k19_cols{}.dbg'.format(x))\n",
    "                            for x in num_cols]\n",
    "sizes_kingsford_both"
   ]
  },
  {
   "cell_type": "code",
   "execution_count": 21,
   "metadata": {
    "ExecuteTime": {
     "end_time": "2018-09-26T16:06:40.712514Z",
     "start_time": "2018-09-26T16:06:40.696232Z"
    }
   },
   "outputs": [],
   "source": [
    "# width = 3.487 * 1.5\n",
    "# height = width / 1.618\n",
    "\n",
    "# fig, ax = plt.subplots(1, 1, figsize=(width / 1.2, height))\n",
    "# #ax.set_title('RefSeq graph, with replaced \\'N\\'s')\n",
    "# #ax.set_title('RefSeq assembly graph')\n",
    "\n",
    "# #ax1_plot1 = ax.plot(np.array(k_array_refseq),\n",
    "# #                    np.array(sizes_refseq) / 2**20, marker='o', label='RS: size', c='b')\n",
    "# ax1_plot2 = ax.plot(np.array(input_kingsford) / 2**30,\n",
    "#                     np.array(sizes_kingsford) / 2**30, marker='o', label='KF: size', c='r')\n",
    "# #ax.set_yscale('log')\n",
    "# ax.set_ylabel('Graph size (fast), Gb')\n",
    "# ax.set_xlabel('Input data size, Gb')\n",
    "# #ax.set_xticks(np.array(k_array))\n",
    "# ax.grid(True)\n",
    "# ax.legend(loc='center right')\n",
    "\n",
    "# plt.title('Usual filtering')\n",
    "# plt.tight_layout()\n",
    "# plt.savefig('graph_input_scalability.pdf', format='pdf', bbox_inches='tight')\n",
    "# plt.show()"
   ]
  },
  {
   "cell_type": "markdown",
   "metadata": {},
   "source": [
    "### Kingsford with N"
   ]
  },
  {
   "cell_type": "markdown",
   "metadata": {
    "ExecuteTime": {
     "end_time": "2018-09-19T22:15:12.268856Z",
     "start_time": "2018-09-19T22:15:11.790516Z"
    }
   },
   "source": [
    "files = pd.read_csv('~/projects2014-metagenome/scripts/kingsford/kingsford_filtered_list.txt', header=None)[0].values"
   ]
  },
  {
   "cell_type": "markdown",
   "metadata": {
    "ExecuteTime": {
     "end_time": "2018-09-19T22:15:24.383589Z",
     "start_time": "2018-09-19T22:15:24.053840Z"
    }
   },
   "source": [
    "np.random.seed(42)\n",
    "np.random.shuffle(files)"
   ]
  },
  {
   "cell_type": "markdown",
   "metadata": {
    "ExecuteTime": {
     "end_time": "2018-09-19T22:15:48.799378Z",
     "start_time": "2018-09-19T22:15:48.302701Z"
    }
   },
   "source": [
    "with open('kingsford_filtered_list_shuffled.txt', 'w') as f:\n",
    "    for fname in files:\n",
    "        f.write(fname)\n",
    "        f.write('\\n')\n",
    "!mv kingsford_filtered_list_shuffled.txt ~/projects2014-metagenome/scripts/kingsford/kingsford_filtered_list_shuffled.txt"
   ]
  },
  {
   "cell_type": "code",
   "execution_count": 22,
   "metadata": {
    "ExecuteTime": {
     "end_time": "2018-09-26T16:06:44.380694Z",
     "start_time": "2018-09-26T16:06:44.351160Z"
    }
   },
   "outputs": [],
   "source": [
    "files = pd.read_csv('~/projects2014-metagenome/scripts/kingsford/with_N_kingsford_filtered_list_shuffled.txt', header=None)[0].values"
   ]
  },
  {
   "cell_type": "code",
   "execution_count": 23,
   "metadata": {
    "ExecuteTime": {
     "end_time": "2018-09-26T16:06:44.737613Z",
     "start_time": "2018-09-26T16:06:44.569496Z"
    }
   },
   "outputs": [
    {
     "name": "stdout",
     "output_type": "stream",
     "text": [
      "/cluster/home/mikhaika/big_graph/kingsford/with_N/partitions/graph_kingsford_k19_cols1050.dbg\r\n",
      "/cluster/home/mikhaika/big_graph/kingsford/with_N/partitions/graph_kingsford_k19_cols1225.dbg\r\n",
      "/cluster/home/mikhaika/big_graph/kingsford/with_N/partitions/graph_kingsford_k19_cols1400.dbg\r\n",
      "/cluster/home/mikhaika/big_graph/kingsford/with_N/partitions/graph_kingsford_k19_cols1575.dbg\r\n",
      "/cluster/home/mikhaika/big_graph/kingsford/with_N/partitions/graph_kingsford_k19_cols175.dbg\r\n",
      "/cluster/home/mikhaika/big_graph/kingsford/with_N/partitions/graph_kingsford_k19_cols1750.dbg\r\n",
      "/cluster/home/mikhaika/big_graph/kingsford/with_N/partitions/graph_kingsford_k19_cols1925.dbg\r\n",
      "/cluster/home/mikhaika/big_graph/kingsford/with_N/partitions/graph_kingsford_k19_cols2100.dbg\r\n",
      "/cluster/home/mikhaika/big_graph/kingsford/with_N/partitions/graph_kingsford_k19_cols2275.dbg\r\n",
      "/cluster/home/mikhaika/big_graph/kingsford/with_N/partitions/graph_kingsford_k19_cols2450.dbg\r\n",
      "/cluster/home/mikhaika/big_graph/kingsford/with_N/partitions/graph_kingsford_k19_cols2625.dbg\r\n",
      "/cluster/home/mikhaika/big_graph/kingsford/with_N/partitions/graph_kingsford_k19_cols350.dbg\r\n",
      "/cluster/home/mikhaika/big_graph/kingsford/with_N/partitions/graph_kingsford_k19_cols525.dbg\r\n",
      "/cluster/home/mikhaika/big_graph/kingsford/with_N/partitions/graph_kingsford_k19_cols700.dbg\r\n",
      "/cluster/home/mikhaika/big_graph/kingsford/with_N/partitions/graph_kingsford_k19_cols875.dbg\r\n",
      "/cluster/home/mikhaika/big_graph/kingsford/with_N/partitions/graph_kingsford_k19_cols_1050.color.annodbg\r\n",
      "/cluster/home/mikhaika/big_graph/kingsford/with_N/partitions/graph_kingsford_k19_cols_1225.color.annodbg\r\n",
      "/cluster/home/mikhaika/big_graph/kingsford/with_N/partitions/graph_kingsford_k19_cols_1400.color.annodbg\r\n",
      "/cluster/home/mikhaika/big_graph/kingsford/with_N/partitions/graph_kingsford_k19_cols_1575.color.annodbg\r\n",
      "/cluster/home/mikhaika/big_graph/kingsford/with_N/partitions/graph_kingsford_k19_cols_175.color.annodbg\r\n",
      "/cluster/home/mikhaika/big_graph/kingsford/with_N/partitions/graph_kingsford_k19_cols_350.color.annodbg\r\n",
      "/cluster/home/mikhaika/big_graph/kingsford/with_N/partitions/graph_kingsford_k19_cols_525.color.annodbg\r\n",
      "/cluster/home/mikhaika/big_graph/kingsford/with_N/partitions/graph_kingsford_k19_cols_700.color.annodbg\r\n",
      "/cluster/home/mikhaika/big_graph/kingsford/with_N/partitions/graph_kingsford_k19_cols_875.color.annodbg\r\n"
     ]
    }
   ],
   "source": [
    "!ls ~/big_graph/kingsford/with_N/partitions/graph_kingsford_k19_cols*"
   ]
  },
  {
   "cell_type": "code",
   "execution_count": 24,
   "metadata": {
    "ExecuteTime": {
     "end_time": "2018-09-26T16:06:45.698177Z",
     "start_time": "2018-09-26T16:06:45.680518Z"
    }
   },
   "outputs": [],
   "source": [
    "step = 175\n",
    "num_cols = np.arange(0, len(files) + step - 1, step)[1:]"
   ]
  },
  {
   "cell_type": "code",
   "execution_count": 25,
   "metadata": {
    "ExecuteTime": {
     "end_time": "2018-09-26T16:06:46.280487Z",
     "start_time": "2018-09-26T16:06:46.121114Z"
    }
   },
   "outputs": [
    {
     "ename": "FileNotFoundError",
     "evalue": "[Errno 2] No such file or directory: '/cluster/work/grlab/projects/metagenome/benchmark_kingsford/data_fasta/filtering__0_1__150_3__250_10__500_20__1500_50/SRR837466.filter_k19_s2_4.fastq.gz'",
     "output_type": "error",
     "traceback": [
      "\u001b[0;31m---------------------------------------------------------------------------\u001b[0m",
      "\u001b[0;31mFileNotFoundError\u001b[0m                         Traceback (most recent call last)",
      "\u001b[0;32m<ipython-input-25-7797a7b162cf>\u001b[0m in \u001b[0;36m<module>\u001b[0;34m()\u001b[0m\n\u001b[0;32m----> 1\u001b[0;31m \u001b[0minput_kingsford_with_N\u001b[0m \u001b[0;34m=\u001b[0m \u001b[0;34m[\u001b[0m\u001b[0msum\u001b[0m\u001b[0;34m(\u001b[0m\u001b[0;34m[\u001b[0m\u001b[0mos\u001b[0m\u001b[0;34m.\u001b[0m\u001b[0mpath\u001b[0m\u001b[0;34m.\u001b[0m\u001b[0mgetsize\u001b[0m\u001b[0;34m(\u001b[0m\u001b[0mx\u001b[0m\u001b[0;34m)\u001b[0m \u001b[0;32mfor\u001b[0m \u001b[0mx\u001b[0m \u001b[0;32min\u001b[0m \u001b[0mfiles\u001b[0m\u001b[0;34m[\u001b[0m\u001b[0;34m:\u001b[0m\u001b[0mx\u001b[0m\u001b[0;34m]\u001b[0m\u001b[0;34m]\u001b[0m\u001b[0;34m)\u001b[0m \u001b[0;32mfor\u001b[0m \u001b[0mx\u001b[0m \u001b[0;32min\u001b[0m \u001b[0mnum_cols\u001b[0m\u001b[0;34m]\u001b[0m\u001b[0;34m\u001b[0m\u001b[0m\n\u001b[0m",
      "\u001b[0;32m<ipython-input-25-7797a7b162cf>\u001b[0m in \u001b[0;36m<listcomp>\u001b[0;34m(.0)\u001b[0m\n\u001b[0;32m----> 1\u001b[0;31m \u001b[0minput_kingsford_with_N\u001b[0m \u001b[0;34m=\u001b[0m \u001b[0;34m[\u001b[0m\u001b[0msum\u001b[0m\u001b[0;34m(\u001b[0m\u001b[0;34m[\u001b[0m\u001b[0mos\u001b[0m\u001b[0;34m.\u001b[0m\u001b[0mpath\u001b[0m\u001b[0;34m.\u001b[0m\u001b[0mgetsize\u001b[0m\u001b[0;34m(\u001b[0m\u001b[0mx\u001b[0m\u001b[0;34m)\u001b[0m \u001b[0;32mfor\u001b[0m \u001b[0mx\u001b[0m \u001b[0;32min\u001b[0m \u001b[0mfiles\u001b[0m\u001b[0;34m[\u001b[0m\u001b[0;34m:\u001b[0m\u001b[0mx\u001b[0m\u001b[0;34m]\u001b[0m\u001b[0;34m]\u001b[0m\u001b[0;34m)\u001b[0m \u001b[0;32mfor\u001b[0m \u001b[0mx\u001b[0m \u001b[0;32min\u001b[0m \u001b[0mnum_cols\u001b[0m\u001b[0;34m]\u001b[0m\u001b[0;34m\u001b[0m\u001b[0m\n\u001b[0m",
      "\u001b[0;32m<ipython-input-25-7797a7b162cf>\u001b[0m in \u001b[0;36m<listcomp>\u001b[0;34m(.0)\u001b[0m\n\u001b[0;32m----> 1\u001b[0;31m \u001b[0minput_kingsford_with_N\u001b[0m \u001b[0;34m=\u001b[0m \u001b[0;34m[\u001b[0m\u001b[0msum\u001b[0m\u001b[0;34m(\u001b[0m\u001b[0;34m[\u001b[0m\u001b[0mos\u001b[0m\u001b[0;34m.\u001b[0m\u001b[0mpath\u001b[0m\u001b[0;34m.\u001b[0m\u001b[0mgetsize\u001b[0m\u001b[0;34m(\u001b[0m\u001b[0mx\u001b[0m\u001b[0;34m)\u001b[0m \u001b[0;32mfor\u001b[0m \u001b[0mx\u001b[0m \u001b[0;32min\u001b[0m \u001b[0mfiles\u001b[0m\u001b[0;34m[\u001b[0m\u001b[0;34m:\u001b[0m\u001b[0mx\u001b[0m\u001b[0;34m]\u001b[0m\u001b[0;34m]\u001b[0m\u001b[0;34m)\u001b[0m \u001b[0;32mfor\u001b[0m \u001b[0mx\u001b[0m \u001b[0;32min\u001b[0m \u001b[0mnum_cols\u001b[0m\u001b[0;34m]\u001b[0m\u001b[0;34m\u001b[0m\u001b[0m\n\u001b[0m",
      "\u001b[0;32m~/anaconda3/lib/python3.6/genericpath.py\u001b[0m in \u001b[0;36mgetsize\u001b[0;34m(filename)\u001b[0m\n\u001b[1;32m     48\u001b[0m \u001b[0;32mdef\u001b[0m \u001b[0mgetsize\u001b[0m\u001b[0;34m(\u001b[0m\u001b[0mfilename\u001b[0m\u001b[0;34m)\u001b[0m\u001b[0;34m:\u001b[0m\u001b[0;34m\u001b[0m\u001b[0m\n\u001b[1;32m     49\u001b[0m     \u001b[0;34m\"\"\"Return the size of a file, reported by os.stat().\"\"\"\u001b[0m\u001b[0;34m\u001b[0m\u001b[0m\n\u001b[0;32m---> 50\u001b[0;31m     \u001b[0;32mreturn\u001b[0m \u001b[0mos\u001b[0m\u001b[0;34m.\u001b[0m\u001b[0mstat\u001b[0m\u001b[0;34m(\u001b[0m\u001b[0mfilename\u001b[0m\u001b[0;34m)\u001b[0m\u001b[0;34m.\u001b[0m\u001b[0mst_size\u001b[0m\u001b[0;34m\u001b[0m\u001b[0m\n\u001b[0m\u001b[1;32m     51\u001b[0m \u001b[0;34m\u001b[0m\u001b[0m\n\u001b[1;32m     52\u001b[0m \u001b[0;34m\u001b[0m\u001b[0m\n",
      "\u001b[0;31mFileNotFoundError\u001b[0m: [Errno 2] No such file or directory: '/cluster/work/grlab/projects/metagenome/benchmark_kingsford/data_fasta/filtering__0_1__150_3__250_10__500_20__1500_50/SRR837466.filter_k19_s2_4.fastq.gz'"
     ]
    }
   ],
   "source": [
    "input_kingsford_with_N = [sum([os.path.getsize(x) for x in files[:x]]) for x in num_cols]"
   ]
  },
  {
   "cell_type": "code",
   "execution_count": 26,
   "metadata": {
    "ExecuteTime": {
     "end_time": "2018-09-26T16:06:46.529774Z",
     "start_time": "2018-09-26T16:06:46.509856Z"
    },
    "scrolled": true
   },
   "outputs": [
    {
     "data": {
      "text/plain": [
       "[1641841495,\n",
       " 2984646351,\n",
       " 3951455337,\n",
       " 4784982753,\n",
       " 5498803803,\n",
       " 6234462800,\n",
       " 6843575136,\n",
       " 7363018259,\n",
       " 7793657928,\n",
       " 8419176779,\n",
       " 8961389017,\n",
       " 9393773730,\n",
       " 9777334609,\n",
       " 10334399845,\n",
       " 10715722488]"
      ]
     },
     "execution_count": 26,
     "metadata": {},
     "output_type": "execute_result"
    }
   ],
   "source": [
    "sizes_kingsford_with_N = [os.path.getsize('../big_graph/kingsford/with_N/partitions/graph_kingsford_k19_cols{}.dbg'.format(x))\n",
    "                    for x in num_cols]\n",
    "sizes_kingsford_with_N"
   ]
  },
  {
   "cell_type": "code",
   "execution_count": 27,
   "metadata": {
    "ExecuteTime": {
     "end_time": "2018-09-26T16:06:46.789988Z",
     "start_time": "2018-09-26T16:06:46.758217Z"
    }
   },
   "outputs": [],
   "source": [
    "# width = 3.487 * 1.5\n",
    "# height = width / 1.618\n",
    "\n",
    "# fig, ax = plt.subplots(1, 1, figsize=(width / 1.2, height))\n",
    "# #ax.set_title('RefSeq graph, with replaced \\'N\\'s')\n",
    "# #ax.set_title('RefSeq assembly graph')\n",
    "\n",
    "# #ax1_plot1 = ax.plot(np.array(k_array_refseq),\n",
    "# #                    np.array(sizes_refseq) / 2**20, marker='o', label='RS: size', c='b')\n",
    "# ax1_plot2 = ax.plot(np.array(input_kingsford_with_N) / 2**30,\n",
    "#                     np.array(sizes_kingsford_with_N) / 2**30, marker='o', label='KF: size', c='r')\n",
    "# #ax.set_yscale('log')\n",
    "# ax.set_ylabel('Graph size (fast), Gb')\n",
    "# ax.set_xlabel('Input data size, Gb')\n",
    "# #ax.set_xticks(np.array(k_array))\n",
    "# ax.grid(True)\n",
    "# ax.legend(loc='center right')\n",
    "\n",
    "# plt.title('Usual filtering')\n",
    "# plt.tight_layout()\n",
    "# plt.savefig('graph_input_scalability.pdf', format='pdf', bbox_inches='tight')\n",
    "# plt.show()"
   ]
  },
  {
   "cell_type": "markdown",
   "metadata": {},
   "source": [
    "### Kingsford annotation"
   ]
  },
  {
   "cell_type": "code",
   "execution_count": 28,
   "metadata": {
    "ExecuteTime": {
     "end_time": "2018-09-26T16:06:47.778900Z",
     "start_time": "2018-09-26T16:06:47.759122Z"
    }
   },
   "outputs": [
    {
     "data": {
      "text/plain": [
       "[3535192160,\n",
       " 8253905738,\n",
       " 12134994454,\n",
       " 15654370256,\n",
       " 21366100290,\n",
       " 26136838729,\n",
       " 30499974125,\n",
       " 34710248027,\n",
       " 38608446563]"
      ]
     },
     "execution_count": 28,
     "metadata": {},
     "output_type": "execute_result"
    }
   ],
   "source": [
    "sizes_king_anno = [os.path.getsize('../big_graph/kingsford/with_N/partitions/graph_kingsford_k19_cols_{}.color.annodbg'.format(x))\n",
    "                    for x in num_cols[:9]]\n",
    "sizes_king_anno"
   ]
  },
  {
   "cell_type": "markdown",
   "metadata": {},
   "source": [
    "### Kingsford without small files, $\\geq250$ Mb"
   ]
  },
  {
   "cell_type": "code",
   "execution_count": 29,
   "metadata": {
    "ExecuteTime": {
     "end_time": "2018-09-26T16:07:08.024811Z",
     "start_time": "2018-09-26T16:07:07.629066Z"
    }
   },
   "outputs": [],
   "source": [
    "files = pd.read_csv('~/projects2014-metagenome/scripts/kingsford/'\n",
    "                    'with_N_kingsford_filtered_list_shuffled_filtered.txt', header=None)[0].values"
   ]
  },
  {
   "cell_type": "code",
   "execution_count": 30,
   "metadata": {
    "ExecuteTime": {
     "end_time": "2018-09-26T16:07:08.157396Z",
     "start_time": "2018-09-26T16:07:08.026739Z"
    }
   },
   "outputs": [
    {
     "name": "stdout",
     "output_type": "stream",
     "text": [
      "/cluster/home/mikhaika/big_graph/kingsford/with_N/partitions/graph_kingsford_without_small_k19_cols1035.dbg\r\n",
      "/cluster/home/mikhaika/big_graph/kingsford/with_N/partitions/graph_kingsford_without_small_k19_cols115.dbg\r\n",
      "/cluster/home/mikhaika/big_graph/kingsford/with_N/partitions/graph_kingsford_without_small_k19_cols1150.dbg\r\n",
      "/cluster/home/mikhaika/big_graph/kingsford/with_N/partitions/graph_kingsford_without_small_k19_cols1265.dbg\r\n",
      "/cluster/home/mikhaika/big_graph/kingsford/with_N/partitions/graph_kingsford_without_small_k19_cols1380.dbg\r\n",
      "/cluster/home/mikhaika/big_graph/kingsford/with_N/partitions/graph_kingsford_without_small_k19_cols1495.dbg\r\n",
      "/cluster/home/mikhaika/big_graph/kingsford/with_N/partitions/graph_kingsford_without_small_k19_cols1610.dbg\r\n",
      "/cluster/home/mikhaika/big_graph/kingsford/with_N/partitions/graph_kingsford_without_small_k19_cols1725.dbg\r\n",
      "/cluster/home/mikhaika/big_graph/kingsford/with_N/partitions/graph_kingsford_without_small_k19_cols230.dbg\r\n",
      "/cluster/home/mikhaika/big_graph/kingsford/with_N/partitions/graph_kingsford_without_small_k19_cols345.dbg\r\n",
      "/cluster/home/mikhaika/big_graph/kingsford/with_N/partitions/graph_kingsford_without_small_k19_cols460.dbg\r\n",
      "/cluster/home/mikhaika/big_graph/kingsford/with_N/partitions/graph_kingsford_without_small_k19_cols575.dbg\r\n",
      "/cluster/home/mikhaika/big_graph/kingsford/with_N/partitions/graph_kingsford_without_small_k19_cols690.dbg\r\n",
      "/cluster/home/mikhaika/big_graph/kingsford/with_N/partitions/graph_kingsford_without_small_k19_cols805.dbg\r\n",
      "/cluster/home/mikhaika/big_graph/kingsford/with_N/partitions/graph_kingsford_without_small_k19_cols920.dbg\r\n"
     ]
    }
   ],
   "source": [
    "!ls ~/big_graph/kingsford/with_N/partitions/graph_kingsford_without_small_k19_cols*"
   ]
  },
  {
   "cell_type": "code",
   "execution_count": 31,
   "metadata": {
    "ExecuteTime": {
     "end_time": "2018-09-26T16:07:08.175336Z",
     "start_time": "2018-09-26T16:07:08.160059Z"
    }
   },
   "outputs": [],
   "source": [
    "step = 115\n",
    "num_cols = np.arange(0, len(files) + step - 1, step)[1:]"
   ]
  },
  {
   "cell_type": "code",
   "execution_count": 32,
   "metadata": {
    "ExecuteTime": {
     "end_time": "2018-09-26T16:07:08.649711Z",
     "start_time": "2018-09-26T16:07:08.619417Z"
    }
   },
   "outputs": [
    {
     "ename": "FileNotFoundError",
     "evalue": "[Errno 2] No such file or directory: '/cluster/work/grlab/projects/metagenome/benchmark_kingsford/data_fasta/filtering__0_1__150_3__250_10__500_20__1500_50/SRR1060793.filter_k19_s19_4.fastq.gz'",
     "output_type": "error",
     "traceback": [
      "\u001b[0;31m---------------------------------------------------------------------------\u001b[0m",
      "\u001b[0;31mFileNotFoundError\u001b[0m                         Traceback (most recent call last)",
      "\u001b[0;32m<ipython-input-32-53f8cf2bf1c3>\u001b[0m in \u001b[0;36m<module>\u001b[0;34m()\u001b[0m\n\u001b[0;32m----> 1\u001b[0;31m \u001b[0minput_kingsford_strong\u001b[0m \u001b[0;34m=\u001b[0m \u001b[0;34m[\u001b[0m\u001b[0msum\u001b[0m\u001b[0;34m(\u001b[0m\u001b[0;34m[\u001b[0m\u001b[0mos\u001b[0m\u001b[0;34m.\u001b[0m\u001b[0mpath\u001b[0m\u001b[0;34m.\u001b[0m\u001b[0mgetsize\u001b[0m\u001b[0;34m(\u001b[0m\u001b[0mx\u001b[0m\u001b[0;34m)\u001b[0m \u001b[0;32mfor\u001b[0m \u001b[0mx\u001b[0m \u001b[0;32min\u001b[0m \u001b[0mfiles\u001b[0m\u001b[0;34m[\u001b[0m\u001b[0;34m:\u001b[0m\u001b[0mx\u001b[0m\u001b[0;34m]\u001b[0m\u001b[0;34m]\u001b[0m\u001b[0;34m)\u001b[0m \u001b[0;32mfor\u001b[0m \u001b[0mx\u001b[0m \u001b[0;32min\u001b[0m \u001b[0mnum_cols\u001b[0m\u001b[0;34m]\u001b[0m\u001b[0;34m\u001b[0m\u001b[0m\n\u001b[0m",
      "\u001b[0;32m<ipython-input-32-53f8cf2bf1c3>\u001b[0m in \u001b[0;36m<listcomp>\u001b[0;34m(.0)\u001b[0m\n\u001b[0;32m----> 1\u001b[0;31m \u001b[0minput_kingsford_strong\u001b[0m \u001b[0;34m=\u001b[0m \u001b[0;34m[\u001b[0m\u001b[0msum\u001b[0m\u001b[0;34m(\u001b[0m\u001b[0;34m[\u001b[0m\u001b[0mos\u001b[0m\u001b[0;34m.\u001b[0m\u001b[0mpath\u001b[0m\u001b[0;34m.\u001b[0m\u001b[0mgetsize\u001b[0m\u001b[0;34m(\u001b[0m\u001b[0mx\u001b[0m\u001b[0;34m)\u001b[0m \u001b[0;32mfor\u001b[0m \u001b[0mx\u001b[0m \u001b[0;32min\u001b[0m \u001b[0mfiles\u001b[0m\u001b[0;34m[\u001b[0m\u001b[0;34m:\u001b[0m\u001b[0mx\u001b[0m\u001b[0;34m]\u001b[0m\u001b[0;34m]\u001b[0m\u001b[0;34m)\u001b[0m \u001b[0;32mfor\u001b[0m \u001b[0mx\u001b[0m \u001b[0;32min\u001b[0m \u001b[0mnum_cols\u001b[0m\u001b[0;34m]\u001b[0m\u001b[0;34m\u001b[0m\u001b[0m\n\u001b[0m",
      "\u001b[0;32m<ipython-input-32-53f8cf2bf1c3>\u001b[0m in \u001b[0;36m<listcomp>\u001b[0;34m(.0)\u001b[0m\n\u001b[0;32m----> 1\u001b[0;31m \u001b[0minput_kingsford_strong\u001b[0m \u001b[0;34m=\u001b[0m \u001b[0;34m[\u001b[0m\u001b[0msum\u001b[0m\u001b[0;34m(\u001b[0m\u001b[0;34m[\u001b[0m\u001b[0mos\u001b[0m\u001b[0;34m.\u001b[0m\u001b[0mpath\u001b[0m\u001b[0;34m.\u001b[0m\u001b[0mgetsize\u001b[0m\u001b[0;34m(\u001b[0m\u001b[0mx\u001b[0m\u001b[0;34m)\u001b[0m \u001b[0;32mfor\u001b[0m \u001b[0mx\u001b[0m \u001b[0;32min\u001b[0m \u001b[0mfiles\u001b[0m\u001b[0;34m[\u001b[0m\u001b[0;34m:\u001b[0m\u001b[0mx\u001b[0m\u001b[0;34m]\u001b[0m\u001b[0;34m]\u001b[0m\u001b[0;34m)\u001b[0m \u001b[0;32mfor\u001b[0m \u001b[0mx\u001b[0m \u001b[0;32min\u001b[0m \u001b[0mnum_cols\u001b[0m\u001b[0;34m]\u001b[0m\u001b[0;34m\u001b[0m\u001b[0m\n\u001b[0m",
      "\u001b[0;32m~/anaconda3/lib/python3.6/genericpath.py\u001b[0m in \u001b[0;36mgetsize\u001b[0;34m(filename)\u001b[0m\n\u001b[1;32m     48\u001b[0m \u001b[0;32mdef\u001b[0m \u001b[0mgetsize\u001b[0m\u001b[0;34m(\u001b[0m\u001b[0mfilename\u001b[0m\u001b[0;34m)\u001b[0m\u001b[0;34m:\u001b[0m\u001b[0;34m\u001b[0m\u001b[0m\n\u001b[1;32m     49\u001b[0m     \u001b[0;34m\"\"\"Return the size of a file, reported by os.stat().\"\"\"\u001b[0m\u001b[0;34m\u001b[0m\u001b[0m\n\u001b[0;32m---> 50\u001b[0;31m     \u001b[0;32mreturn\u001b[0m \u001b[0mos\u001b[0m\u001b[0;34m.\u001b[0m\u001b[0mstat\u001b[0m\u001b[0;34m(\u001b[0m\u001b[0mfilename\u001b[0m\u001b[0;34m)\u001b[0m\u001b[0;34m.\u001b[0m\u001b[0mst_size\u001b[0m\u001b[0;34m\u001b[0m\u001b[0m\n\u001b[0m\u001b[1;32m     51\u001b[0m \u001b[0;34m\u001b[0m\u001b[0m\n\u001b[1;32m     52\u001b[0m \u001b[0;34m\u001b[0m\u001b[0m\n",
      "\u001b[0;31mFileNotFoundError\u001b[0m: [Errno 2] No such file or directory: '/cluster/work/grlab/projects/metagenome/benchmark_kingsford/data_fasta/filtering__0_1__150_3__250_10__500_20__1500_50/SRR1060793.filter_k19_s19_4.fastq.gz'"
     ]
    }
   ],
   "source": [
    "input_kingsford_strong = [sum([os.path.getsize(x) for x in files[:x]]) for x in num_cols]"
   ]
  },
  {
   "cell_type": "code",
   "execution_count": 33,
   "metadata": {
    "ExecuteTime": {
     "end_time": "2018-09-26T16:07:09.170781Z",
     "start_time": "2018-09-26T16:07:09.152408Z"
    },
    "scrolled": true
   },
   "outputs": [
    {
     "data": {
      "text/plain": [
       "[1227026378,\n",
       " 1911213924,\n",
       " 2610725129,\n",
       " 3273616932,\n",
       " 3733901830,\n",
       " 4159863783,\n",
       " 4498350506,\n",
       " 4831177003,\n",
       " 5161836752,\n",
       " 5510172893,\n",
       " 5773939953,\n",
       " 6133990417,\n",
       " 6409705251,\n",
       " 6693444324,\n",
       " 7048497247]"
      ]
     },
     "execution_count": 33,
     "metadata": {},
     "output_type": "execute_result"
    }
   ],
   "source": [
    "sizes_kingsford_strong = [os.path.getsize('../big_graph/kingsford/with_N/partitions/'\n",
    "                                          'graph_kingsford_without_small_k19_cols{}.dbg'.format(x))\n",
    "                            for x in num_cols]\n",
    "sizes_kingsford_strong"
   ]
  },
  {
   "cell_type": "code",
   "execution_count": 34,
   "metadata": {
    "ExecuteTime": {
     "end_time": "2018-09-26T16:07:09.960522Z",
     "start_time": "2018-09-26T16:07:09.944598Z"
    }
   },
   "outputs": [],
   "source": [
    "# width = 3.487 * 1.5\n",
    "# height = width / 1.618\n",
    "\n",
    "# fig, ax = plt.subplots(1, 1, figsize=(width / 1.2, height))\n",
    "# #ax.set_title('RefSeq graph, with replaced \\'N\\'s')\n",
    "# #ax.set_title('RefSeq assembly graph')\n",
    "\n",
    "# #ax1_plot1 = ax.plot(np.array(k_array_refseq),\n",
    "# #                    np.array(sizes_refseq) / 2**20, marker='o', label='RS: size', c='b')\n",
    "# ax1_plot2 = ax.plot(np.array(input_kingsford) / 2**30,\n",
    "#                     np.array(sizes_kingsford) / 2**30, marker='o', label='KF: size', c='r')\n",
    "# #ax.set_yscale('log')\n",
    "# ax.set_ylabel('Graph size (fast), Gb')\n",
    "# ax.set_xlabel('Input data size, Gb')\n",
    "# #ax.set_xticks(np.array(k_array))\n",
    "# ax.grid(True)\n",
    "# ax.legend(loc='center right')\n",
    "\n",
    "# plt.title('Aggressive filtering, 10+')\n",
    "# plt.tight_layout()\n",
    "# plt.savefig('graph_input_scalability.pdf', format='pdf', bbox_inches='tight')\n",
    "# plt.show()"
   ]
  },
  {
   "cell_type": "markdown",
   "metadata": {},
   "source": [
    "### TCGA"
   ]
  },
  {
   "cell_type": "code",
   "execution_count": 35,
   "metadata": {
    "ExecuteTime": {
     "end_time": "2018-09-26T16:07:11.114247Z",
     "start_time": "2018-09-26T16:07:11.098209Z"
    }
   },
   "outputs": [],
   "source": [
    "# files = pd.read_csv('~/projects2014-metagenome/scripts/TCGA/files.txt', header=None)[0].values"
   ]
  },
  {
   "cell_type": "code",
   "execution_count": 36,
   "metadata": {
    "ExecuteTime": {
     "end_time": "2018-09-26T16:07:11.458869Z",
     "start_time": "2018-09-26T16:07:11.443577Z"
    }
   },
   "outputs": [],
   "source": [
    "# np.random.seed(42)\n",
    "# np.random.shuffle(files)"
   ]
  },
  {
   "cell_type": "code",
   "execution_count": 37,
   "metadata": {
    "ExecuteTime": {
     "end_time": "2018-09-26T16:07:12.054782Z",
     "start_time": "2018-09-26T16:07:12.039296Z"
    }
   },
   "outputs": [],
   "source": [
    "# with open('TCGA_shuffled.txt', 'w') as f:\n",
    "#     for fname in files:\n",
    "#         f.write(fname)\n",
    "#         f.write('\\n')\n",
    "# !mv TCGA_shuffled.txt ~/projects2014-metagenome/scripts/TCGA/TCGA_shuffled.txt"
   ]
  },
  {
   "cell_type": "code",
   "execution_count": 38,
   "metadata": {
    "ExecuteTime": {
     "end_time": "2018-09-26T16:07:17.709151Z",
     "start_time": "2018-09-26T16:07:17.681463Z"
    }
   },
   "outputs": [],
   "source": [
    "files = pd.read_csv('~/projects2014-metagenome/scripts/TCGA/TCGA_shuffled.txt', header=None)[0].values"
   ]
  },
  {
   "cell_type": "code",
   "execution_count": 39,
   "metadata": {
    "ExecuteTime": {
     "end_time": "2018-09-26T16:07:21.513892Z",
     "start_time": "2018-09-26T16:07:18.654250Z"
    }
   },
   "outputs": [],
   "source": [
    "sizes = np.array([os.path.getsize(x) for x in files])"
   ]
  },
  {
   "cell_type": "code",
   "execution_count": 40,
   "metadata": {
    "ExecuteTime": {
     "end_time": "2018-09-26T16:07:21.540562Z",
     "start_time": "2018-09-26T16:07:21.515697Z"
    }
   },
   "outputs": [],
   "source": [
    "sizes = sizes * pd.read_csv('~/projects2014-metagenome/scripts/TCGA/TCGA_shuffled_filter_stats.txt', sep='\\s+').RemainingRatio.values"
   ]
  },
  {
   "cell_type": "code",
   "execution_count": 41,
   "metadata": {
    "ExecuteTime": {
     "end_time": "2018-09-26T16:07:21.700280Z",
     "start_time": "2018-09-26T16:07:21.542351Z"
    },
    "scrolled": false
   },
   "outputs": [
    {
     "name": "stdout",
     "output_type": "stream",
     "text": [
      "/cluster/home/mikhaika/big_graph/TCGA/input_size/graph_TCGA_k20_cols1015.dbg\r\n",
      "/cluster/home/mikhaika/big_graph/TCGA/input_size/graph_TCGA_k20_cols1160.dbg\r\n",
      "/cluster/home/mikhaika/big_graph/TCGA/input_size/graph_TCGA_k20_cols1305.dbg\r\n",
      "/cluster/home/mikhaika/big_graph/TCGA/input_size/graph_TCGA_k20_cols145.dbg\r\n",
      "/cluster/home/mikhaika/big_graph/TCGA/input_size/graph_TCGA_k20_cols1450.dbg\r\n",
      "/cluster/home/mikhaika/big_graph/TCGA/input_size/graph_TCGA_k20_cols1595.dbg\r\n",
      "/cluster/home/mikhaika/big_graph/TCGA/input_size/graph_TCGA_k20_cols1740.dbg\r\n",
      "/cluster/home/mikhaika/big_graph/TCGA/input_size/graph_TCGA_k20_cols1885.dbg\r\n",
      "/cluster/home/mikhaika/big_graph/TCGA/input_size/graph_TCGA_k20_cols2030.dbg\r\n",
      "/cluster/home/mikhaika/big_graph/TCGA/input_size/graph_TCGA_k20_cols290.dbg\r\n",
      "/cluster/home/mikhaika/big_graph/TCGA/input_size/graph_TCGA_k20_cols435.dbg\r\n",
      "/cluster/home/mikhaika/big_graph/TCGA/input_size/graph_TCGA_k20_cols580.dbg\r\n",
      "/cluster/home/mikhaika/big_graph/TCGA/input_size/graph_TCGA_k20_cols725.dbg\r\n",
      "/cluster/home/mikhaika/big_graph/TCGA/input_size/graph_TCGA_k20_cols870.dbg\r\n"
     ]
    }
   ],
   "source": [
    "!ls ~/big_graph/TCGA/input_size/graph_TCGA_k20_cols*"
   ]
  },
  {
   "cell_type": "code",
   "execution_count": 42,
   "metadata": {
    "ExecuteTime": {
     "end_time": "2018-09-26T16:07:21.716527Z",
     "start_time": "2018-09-26T16:07:21.702118Z"
    }
   },
   "outputs": [],
   "source": [
    "step = 145\n",
    "num_cols = np.arange(0, len(files) + step - 1, step)[1:]"
   ]
  },
  {
   "cell_type": "code",
   "execution_count": 43,
   "metadata": {
    "ExecuteTime": {
     "end_time": "2018-09-26T16:07:21.732589Z",
     "start_time": "2018-09-26T16:07:21.719007Z"
    }
   },
   "outputs": [],
   "source": [
    "input_TCGA = np.array([sum(sizes[:x]) for x in num_cols])"
   ]
  },
  {
   "cell_type": "code",
   "execution_count": 44,
   "metadata": {
    "ExecuteTime": {
     "end_time": "2018-09-26T16:07:21.746860Z",
     "start_time": "2018-09-26T16:07:21.734587Z"
    }
   },
   "outputs": [],
   "source": [
    "num_cols_TCGA = np.arange(145, len(files) + 145 - 1, 145)"
   ]
  },
  {
   "cell_type": "code",
   "execution_count": 45,
   "metadata": {
    "ExecuteTime": {
     "end_time": "2018-09-26T16:07:21.764525Z",
     "start_time": "2018-09-26T16:07:21.748760Z"
    },
    "scrolled": true
   },
   "outputs": [
    {
     "data": {
      "text/plain": [
       "[309897890,\n",
       " 489068154,\n",
       " 550313521,\n",
       " 641369930,\n",
       " 707272429,\n",
       " 780755348,\n",
       " 845768239,\n",
       " 994762616,\n",
       " 1047218383,\n",
       " 1088947726,\n",
       " 1121641066,\n",
       " 1164583527,\n",
       " 1192613801,\n",
       " 1270353356]"
      ]
     },
     "execution_count": 45,
     "metadata": {},
     "output_type": "execute_result"
    }
   ],
   "source": [
    "sizes_TCGA = [os.path.getsize('../big_graph/TCGA/input_size/graph_TCGA_k20_cols{}.dbg'.format(x))\n",
    "                    for x in num_cols_TCGA]\n",
    "sizes_TCGA"
   ]
  },
  {
   "cell_type": "code",
   "execution_count": 46,
   "metadata": {
    "ExecuteTime": {
     "end_time": "2018-09-26T16:07:21.778655Z",
     "start_time": "2018-09-26T16:07:21.765978Z"
    }
   },
   "outputs": [],
   "source": [
    "# width = 3.487 * 1.5\n",
    "# height = width / 1.618\n",
    "\n",
    "# fig, ax = plt.subplots(1, 1, figsize=(width / 1.2, height))\n",
    "# #ax.set_title('RefSeq graph, with replaced \\'N\\'s')\n",
    "# #ax.set_title('RefSeq assembly graph')\n",
    "\n",
    "# ax1_plot2 = ax.plot(np.array(input_TCGA[:len(sizes_TCGA)]) / 2**30,\n",
    "#                     np.array(sizes_TCGA) / 2**30, marker='o', label='TCGA', c='r')\n",
    "# #ax.set_yscale('log')\n",
    "# ax.set_ylabel('Graph size (fast), Gb')\n",
    "# ax.set_xlabel('Input data size, Gb')\n",
    "# #ax.set_xticks(np.array(k_array))\n",
    "# ax.grid(True)\n",
    "# ax.legend(loc='center right')\n",
    "\n",
    "# plt.title('TCGA')\n",
    "# plt.tight_layout()\n",
    "# plt.savefig('graph_input_scalability.pdf', format='pdf', bbox_inches='tight')\n",
    "# plt.show()"
   ]
  },
  {
   "cell_type": "markdown",
   "metadata": {},
   "source": [
    "### TCGA from forward and reverse complement reads"
   ]
  },
  {
   "cell_type": "code",
   "execution_count": 47,
   "metadata": {
    "ExecuteTime": {
     "end_time": "2018-09-26T16:07:21.905291Z",
     "start_time": "2018-09-26T16:07:21.781219Z"
    }
   },
   "outputs": [
    {
     "name": "stdout",
     "output_type": "stream",
     "text": [
      "/cluster/home/mikhaika/big_graph/TCGA/input_size/graph_TCGA_BS_k20_cols1015.dbg\r\n",
      "/cluster/home/mikhaika/big_graph/TCGA/input_size/graph_TCGA_BS_k20_cols1160.dbg\r\n",
      "/cluster/home/mikhaika/big_graph/TCGA/input_size/graph_TCGA_BS_k20_cols1305.dbg\r\n",
      "/cluster/home/mikhaika/big_graph/TCGA/input_size/graph_TCGA_BS_k20_cols145.dbg\r\n",
      "/cluster/home/mikhaika/big_graph/TCGA/input_size/graph_TCGA_BS_k20_cols1450.dbg\r\n",
      "/cluster/home/mikhaika/big_graph/TCGA/input_size/graph_TCGA_BS_k20_cols1595.dbg\r\n",
      "/cluster/home/mikhaika/big_graph/TCGA/input_size/graph_TCGA_BS_k20_cols1740.dbg\r\n",
      "/cluster/home/mikhaika/big_graph/TCGA/input_size/graph_TCGA_BS_k20_cols1885.dbg\r\n",
      "/cluster/home/mikhaika/big_graph/TCGA/input_size/graph_TCGA_BS_k20_cols2030.dbg\r\n",
      "/cluster/home/mikhaika/big_graph/TCGA/input_size/graph_TCGA_BS_k20_cols290.dbg\r\n",
      "/cluster/home/mikhaika/big_graph/TCGA/input_size/graph_TCGA_BS_k20_cols435.dbg\r\n",
      "/cluster/home/mikhaika/big_graph/TCGA/input_size/graph_TCGA_BS_k20_cols580.dbg\r\n",
      "/cluster/home/mikhaika/big_graph/TCGA/input_size/graph_TCGA_BS_k20_cols725.dbg\r\n",
      "/cluster/home/mikhaika/big_graph/TCGA/input_size/graph_TCGA_BS_k20_cols870.dbg\r\n"
     ]
    }
   ],
   "source": [
    "!ls ~/big_graph/TCGA/input_size/graph_TCGA_BS_k20_cols*"
   ]
  },
  {
   "cell_type": "code",
   "execution_count": 48,
   "metadata": {
    "ExecuteTime": {
     "end_time": "2018-09-26T16:07:21.923675Z",
     "start_time": "2018-09-26T16:07:21.907372Z"
    },
    "scrolled": true
   },
   "outputs": [
    {
     "data": {
      "text/plain": [
       "[560779845,\n",
       " 891541803,\n",
       " 999538107,\n",
       " 1167266356,\n",
       " 1283829676,\n",
       " 1418183268,\n",
       " 1537948704,\n",
       " 1818565923,\n",
       " 1912502773,\n",
       " 1989549005,\n",
       " 2045789143,\n",
       " 2124978407,\n",
       " 2173944079,\n",
       " 2319800297]"
      ]
     },
     "execution_count": 48,
     "metadata": {},
     "output_type": "execute_result"
    }
   ],
   "source": [
    "sizes_TCGA_both = [os.path.getsize('../big_graph/TCGA/input_size/graph_TCGA_BS_k20_cols{}.dbg'.format(x))\n",
    "                    for x in num_cols_TCGA]\n",
    "sizes_TCGA_both"
   ]
  },
  {
   "cell_type": "code",
   "execution_count": 49,
   "metadata": {
    "ExecuteTime": {
     "end_time": "2018-09-26T16:07:22.114549Z",
     "start_time": "2018-09-26T16:07:22.100837Z"
    }
   },
   "outputs": [],
   "source": [
    "# width = 3.487 * 1.5\n",
    "# height = width / 1.618\n",
    "\n",
    "# fig, ax = plt.subplots(1, 1, figsize=(width / 1.2, height))\n",
    "# #ax.set_title('RefSeq graph, with replaced \\'N\\'s')\n",
    "# #ax.set_title('RefSeq assembly graph')\n",
    "\n",
    "# ax1_plot2 = ax.plot(np.array(input_TCGA[:len(sizes_TCGA_both)]) / 2**30,\n",
    "#                     np.array(sizes_TCGA_both) / 2**30, marker='o', label='TCGA: both strands', c='r')\n",
    "# #ax.set_yscale('log')\n",
    "# ax.set_ylabel('Graph size (fast), Gb')\n",
    "# ax.set_xlabel('Input data size, Gb')\n",
    "# #ax.set_xticks(np.array(k_array))\n",
    "# ax.grid(True)\n",
    "# ax.legend(loc='center right')\n",
    "\n",
    "# plt.title('TCGA')\n",
    "# plt.tight_layout()\n",
    "# plt.savefig('graph_input_scalability.pdf', format='pdf', bbox_inches='tight')\n",
    "# plt.show()"
   ]
  },
  {
   "cell_type": "code",
   "execution_count": 55,
   "metadata": {
    "ExecuteTime": {
     "end_time": "2018-09-26T16:12:05.899458Z",
     "start_time": "2018-09-26T16:12:02.289497Z"
    }
   },
   "outputs": [
    {
     "data": {
      "application/pdf": "[encoded data removed]",
      "image/png": "[encoded data removed]",
      "text/plain": [
       "<Figure size 435.875x323.269 with 1 Axes>"
      ]
     },
     "metadata": {},
     "output_type": "display_data"
    }
   ],
   "source": [
    "width = 3.487 * 1.5\n",
    "height = width / 1.618\n",
    "\n",
    "fig, ax = plt.subplots(1, 1, figsize=(width / 1.2, height))\n",
    "#ax.set_title('RefSeq graph, with replaced \\'N\\'s')\n",
    "#ax.set_title('RefSeq assembly graph')\n",
    "\n",
    "ax.plot(np.array(input_kingsford) / 2**30,\n",
    "        np.array(sizes_kingsford) / 2**30, marker='o', label='KF')\n",
    "ax.plot(np.array(input_kingsford) / 2**30,\n",
    "        np.array(sizes_kingsford_both) / 2**30, marker='o', label='KF, both reads')\n",
    "#ax.plot(np.array(input_kingsford)[:len(sizes_king_anno)] / 2**30,\n",
    "#        np.array(sizes_king_anno) / 2**30, marker='x', label='KF: annotation')\n",
    "ax.plot(np.array(input_TCGA) / 2**30,\n",
    "        np.array(sizes_TCGA) / 2**30, marker='o', label='TCGA')\n",
    "ax.plot(np.array(input_TCGA[:len(sizes_TCGA_both)]) / 2**30,\n",
    "        np.array(sizes_TCGA_both) / 2**30, marker='o', label='TCGA, both reads')\n",
    "#ax.set_yscale('log')\n",
    "ax.set_ylabel('Graph size (fast), Gb')\n",
    "ax.set_xlabel('Input data size, Gb')\n",
    "#ax.set_xticks(np.array(k_array))\n",
    "ax.grid(True)\n",
    "ax.legend(loc='best')\n",
    "\n",
    "#plt.title('Aggressive filtering, 10+')\n",
    "plt.tight_layout()\n",
    "plt.savefig('graph_input_scalability.pdf', format='pdf', bbox_inches='tight')\n",
    "plt.show()"
   ]
  },
  {
   "cell_type": "markdown",
   "metadata": {},
   "source": [
    "## Num of k-mers"
   ]
  },
  {
   "cell_type": "markdown",
   "metadata": {},
   "source": [
    "### Full Kingsford"
   ]
  },
  {
   "cell_type": "code",
   "execution_count": 19,
   "metadata": {
    "ExecuteTime": {
     "end_time": "2018-09-12T13:04:19.670629Z",
     "start_time": "2018-09-12T13:04:19.302683Z"
    }
   },
   "outputs": [],
   "source": [
    "num_cols_kingsford = np.arange(175, 2600, 175)"
   ]
  },
  {
   "cell_type": "code",
   "execution_count": 20,
   "metadata": {
    "ExecuteTime": {
     "end_time": "2018-09-12T13:04:42.167997Z",
     "start_time": "2018-09-12T13:04:42.128164Z"
    }
   },
   "outputs": [],
   "source": [
    "files = pd.read_csv('~/projects2014-metagenome/scripts/kingsford/kingsford_filtered_list_shuffled.txt', header=None)[0].values"
   ]
  },
  {
   "cell_type": "code",
   "execution_count": 21,
   "metadata": {
    "ExecuteTime": {
     "end_time": "2018-09-12T13:04:51.585918Z",
     "start_time": "2018-09-12T13:04:47.840678Z"
    }
   },
   "outputs": [],
   "source": [
    "input_kingsford = [sum([os.path.getsize(x) for x in files[:x]]) for x in num_cols_kingsford]"
   ]
  },
  {
   "cell_type": "code",
   "execution_count": 22,
   "metadata": {
    "ExecuteTime": {
     "end_time": "2018-09-12T13:04:51.828729Z",
     "start_time": "2018-09-12T13:04:51.596001Z"
    }
   },
   "outputs": [
    {
     "name": "stdout",
     "output_type": "stream",
     "text": [
      "/cluster/home/mikhaika/big_graph/kingsford/partitions/graph_kingsford_k19_cols1050.dbg\r\n",
      "/cluster/home/mikhaika/big_graph/kingsford/partitions/graph_kingsford_k19_cols1225.dbg\r\n",
      "/cluster/home/mikhaika/big_graph/kingsford/partitions/graph_kingsford_k19_cols1400.dbg\r\n",
      "/cluster/home/mikhaika/big_graph/kingsford/partitions/graph_kingsford_k19_cols1575.dbg\r\n",
      "/cluster/home/mikhaika/big_graph/kingsford/partitions/graph_kingsford_k19_cols175.dbg\r\n",
      "/cluster/home/mikhaika/big_graph/kingsford/partitions/graph_kingsford_k19_cols1750.dbg\r\n",
      "/cluster/home/mikhaika/big_graph/kingsford/partitions/graph_kingsford_k19_cols1925.dbg\r\n",
      "/cluster/home/mikhaika/big_graph/kingsford/partitions/graph_kingsford_k19_cols2100.dbg\r\n",
      "/cluster/home/mikhaika/big_graph/kingsford/partitions/graph_kingsford_k19_cols2275.dbg\r\n",
      "/cluster/home/mikhaika/big_graph/kingsford/partitions/graph_kingsford_k19_cols2450.dbg\r\n",
      "/cluster/home/mikhaika/big_graph/kingsford/partitions/graph_kingsford_k19_cols2625.dbg\r\n",
      "/cluster/home/mikhaika/big_graph/kingsford/partitions/graph_kingsford_k19_cols350.dbg\r\n",
      "/cluster/home/mikhaika/big_graph/kingsford/partitions/graph_kingsford_k19_cols525.dbg\r\n",
      "/cluster/home/mikhaika/big_graph/kingsford/partitions/graph_kingsford_k19_cols700.dbg\r\n",
      "/cluster/home/mikhaika/big_graph/kingsford/partitions/graph_kingsford_k19_cols875.dbg\r\n"
     ]
    }
   ],
   "source": [
    "!ls ~/big_graph/kingsford/partitions/graph_kingsford_k19_cols*"
   ]
  },
  {
   "cell_type": "code",
   "execution_count": 31,
   "metadata": {
    "ExecuteTime": {
     "end_time": "2018-09-12T13:11:33.010822Z",
     "start_time": "2018-09-12T13:11:32.793821Z"
    },
    "scrolled": true
   },
   "outputs": [
    {
     "data": {
      "text/plain": [
       "([1433363817,\n",
       "  2603810427,\n",
       "  3441110196,\n",
       "  4161363078,\n",
       "  4771501571,\n",
       "  5407397310,\n",
       "  5928391829,\n",
       "  6373328114,\n",
       "  6742490840,\n",
       "  7274621208,\n",
       "  7738324042,\n",
       "  8103224880,\n",
       "  8430427253,\n",
       "  8901671629],\n",
       " [537814971,\n",
       "  850358840,\n",
       "  1135023786,\n",
       "  1396633009,\n",
       "  1587435253,\n",
       "  1753576469,\n",
       "  1876850409,\n",
       "  2004625071,\n",
       "  2131388305,\n",
       "  2260006747,\n",
       "  2392243543,\n",
       "  2485831561,\n",
       "  2594055167,\n",
       "  2700906034])"
      ]
     },
     "execution_count": 31,
     "metadata": {},
     "output_type": "execute_result"
    }
   ],
   "source": [
    "import re\n",
    "\n",
    "num_kmers = []\n",
    "num_dummy_kmers = []\n",
    "\n",
    "for x in num_cols_kingsford:\n",
    "    with open('../big_graph/kingsford/partitions/log_assemble_kingsford_k19_cols{}.txt'.format(x), 'r') as f:\n",
    "        text = f.readlines()\n",
    "    dummy_kmers = []\n",
    "    for line in text:\n",
    "        line.strip()\n",
    "        if re.match('.*Number of dummy k-mers with dummy prefix of length.*', line):\n",
    "            dummy_kmers.append(int(line.split(' ')[-1]))\n",
    "        if re.match('Graph chunk with .* k-mers was built in.*', line):\n",
    "            num_kmers.append(int(line.split(' ')[3]))\n",
    "    num_dummy_kmers.append(sum(dummy_kmers) + 1)\n",
    "num_kmers, num_dummy_kmers"
   ]
  },
  {
   "cell_type": "code",
   "execution_count": 36,
   "metadata": {
    "ExecuteTime": {
     "end_time": "2018-09-12T13:14:16.783622Z",
     "start_time": "2018-09-12T13:14:14.367631Z"
    }
   },
   "outputs": [
    {
     "data": {
      "image/png": "[encoded data removed]",
      "text/plain": [
       "<Figure size 435.875x323.269 with 1 Axes>"
      ]
     },
     "metadata": {},
     "output_type": "display_data"
    }
   ],
   "source": [
    "width = 3.487 * 1.5\n",
    "height = width / 1.618\n",
    "\n",
    "fig, ax = plt.subplots(1, 1, figsize=(width / 1.2, height))\n",
    "#ax.set_title('RefSeq graph, with replaced \\'N\\'s')\n",
    "#ax.set_title('RefSeq assembly graph')\n",
    "\n",
    "#ax1_plot1 = ax.plot(np.array(k_array_refseq),\n",
    "#                    np.array(sizes_refseq) / 2**20, marker='o', label='RS: size', c='b')\n",
    "ax.plot(np.array(input_kingsford) / 2**30, num_kmers, marker='x', label='KF: all $k$-mers', c='r')\n",
    "ax.plot(np.array(input_kingsford) / 2**30,\n",
    "                 np.array(num_kmers) - np.array(num_dummy_kmers),\n",
    "                 marker='o', label='KF: real $k$-mers', c='r')\n",
    "#ax.set_yscale('log')\n",
    "ax.set_ylabel('Number of $20$-mers')\n",
    "ax.set_xlabel('Input data size, Gb')\n",
    "#ax.set_xticks(np.array(k_array))\n",
    "ax.grid(True)\n",
    "ax.legend(loc='lower right')\n",
    "\n",
    "plt.title('Usual filtering')\n",
    "plt.tight_layout()\n",
    "plt.savefig('graph_input_scalability.pdf', format='pdf', bbox_inches='tight')\n",
    "plt.show()"
   ]
  },
  {
   "cell_type": "markdown",
   "metadata": {},
   "source": [
    "### Kingsford without small files, $\\geq250$ Mb"
   ]
  },
  {
   "cell_type": "code",
   "execution_count": 37,
   "metadata": {
    "ExecuteTime": {
     "end_time": "2018-09-12T13:14:33.838125Z",
     "start_time": "2018-09-12T13:14:33.807521Z"
    }
   },
   "outputs": [],
   "source": [
    "files = pd.read_csv('~/projects2014-metagenome/scripts/kingsford/kingsford_filtered_list_shuffled_filtered.txt', header=None)[0].values"
   ]
  },
  {
   "cell_type": "code",
   "execution_count": 38,
   "metadata": {
    "ExecuteTime": {
     "end_time": "2018-09-12T13:14:35.694220Z",
     "start_time": "2018-09-12T13:14:35.678035Z"
    }
   },
   "outputs": [],
   "source": [
    "num_cols_kingsford = np.arange(115, 1800, 115)"
   ]
  },
  {
   "cell_type": "code",
   "execution_count": 39,
   "metadata": {
    "ExecuteTime": {
     "end_time": "2018-09-12T13:14:36.847159Z",
     "start_time": "2018-09-12T13:14:36.332418Z"
    }
   },
   "outputs": [],
   "source": [
    "input_kingsford = [sum([os.path.getsize(x) for x in files[:x]]) for x in num_cols_kingsford]"
   ]
  },
  {
   "cell_type": "code",
   "execution_count": 40,
   "metadata": {
    "ExecuteTime": {
     "end_time": "2018-09-12T13:14:37.458707Z",
     "start_time": "2018-09-12T13:14:37.320728Z"
    }
   },
   "outputs": [
    {
     "name": "stdout",
     "output_type": "stream",
     "text": [
      "/cluster/home/mikhaika/big_graph/kingsford/partitions/graph_kingsford_without_small_k19_cols1035.dbg\r\n",
      "/cluster/home/mikhaika/big_graph/kingsford/partitions/graph_kingsford_without_small_k19_cols115.dbg\r\n",
      "/cluster/home/mikhaika/big_graph/kingsford/partitions/graph_kingsford_without_small_k19_cols1150.dbg\r\n",
      "/cluster/home/mikhaika/big_graph/kingsford/partitions/graph_kingsford_without_small_k19_cols1265.dbg\r\n",
      "/cluster/home/mikhaika/big_graph/kingsford/partitions/graph_kingsford_without_small_k19_cols1380.dbg\r\n",
      "/cluster/home/mikhaika/big_graph/kingsford/partitions/graph_kingsford_without_small_k19_cols1495.dbg\r\n",
      "/cluster/home/mikhaika/big_graph/kingsford/partitions/graph_kingsford_without_small_k19_cols1610.dbg\r\n",
      "/cluster/home/mikhaika/big_graph/kingsford/partitions/graph_kingsford_without_small_k19_cols1725.dbg\r\n",
      "/cluster/home/mikhaika/big_graph/kingsford/partitions/graph_kingsford_without_small_k19_cols230.dbg\r\n",
      "/cluster/home/mikhaika/big_graph/kingsford/partitions/graph_kingsford_without_small_k19_cols345.dbg\r\n",
      "/cluster/home/mikhaika/big_graph/kingsford/partitions/graph_kingsford_without_small_k19_cols460.dbg\r\n",
      "/cluster/home/mikhaika/big_graph/kingsford/partitions/graph_kingsford_without_small_k19_cols575.dbg\r\n",
      "/cluster/home/mikhaika/big_graph/kingsford/partitions/graph_kingsford_without_small_k19_cols690.dbg\r\n",
      "/cluster/home/mikhaika/big_graph/kingsford/partitions/graph_kingsford_without_small_k19_cols805.dbg\r\n",
      "/cluster/home/mikhaika/big_graph/kingsford/partitions/graph_kingsford_without_small_k19_cols920.dbg\r\n"
     ]
    }
   ],
   "source": [
    "!ls ~/big_graph/kingsford/partitions/graph_kingsford_without_small_k19_cols*"
   ]
  },
  {
   "cell_type": "code",
   "execution_count": 41,
   "metadata": {
    "ExecuteTime": {
     "end_time": "2018-09-12T13:15:06.600718Z",
     "start_time": "2018-09-12T13:15:05.829908Z"
    },
    "scrolled": true
   },
   "outputs": [
    {
     "data": {
      "text/plain": [
       "([1065475424,\n",
       "  1657454528,\n",
       "  2262181969,\n",
       "  2835966619,\n",
       "  3227608504,\n",
       "  3593070378,\n",
       "  3884500806,\n",
       "  4168056950,\n",
       "  4452689438,\n",
       "  4748917448,\n",
       "  4975241768,\n",
       "  5280522961,\n",
       "  5514891191,\n",
       "  5755253634,\n",
       "  6059724057],\n",
       " [471727388,\n",
       "  741686900,\n",
       "  1005068033,\n",
       "  1237434638,\n",
       "  1404626091,\n",
       "  1546681692,\n",
       "  1664272952,\n",
       "  1781597085,\n",
       "  1904524783,\n",
       "  2025489585,\n",
       "  2117081904,\n",
       "  2223821772,\n",
       "  2325681739,\n",
       "  2412431905,\n",
       "  2546020726])"
      ]
     },
     "execution_count": 41,
     "metadata": {},
     "output_type": "execute_result"
    }
   ],
   "source": [
    "import re\n",
    "\n",
    "num_kmers = []\n",
    "num_dummy_kmers = []\n",
    "\n",
    "for x in num_cols_kingsford:\n",
    "    with open('../big_graph/kingsford/partitions/log_assemble_kingsford_without_small_k19_cols{}.txt'.format(x), 'r') as f:\n",
    "        text = f.readlines()\n",
    "    dummy_kmers = []\n",
    "    for line in text:\n",
    "        line.strip()\n",
    "        if re.match('.*Number of dummy k-mers with dummy prefix of length.*', line):\n",
    "            dummy_kmers.append(int(line.split(' ')[-1]))\n",
    "        if re.match('Graph chunk with .* k-mers was built in.*', line):\n",
    "            num_kmers.append(int(line.split(' ')[3]))\n",
    "    num_dummy_kmers.append(sum(dummy_kmers) + 1)\n",
    "num_kmers, num_dummy_kmers"
   ]
  },
  {
   "cell_type": "code",
   "execution_count": 42,
   "metadata": {
    "ExecuteTime": {
     "end_time": "2018-09-12T13:15:19.623979Z",
     "start_time": "2018-09-12T13:15:16.955913Z"
    }
   },
   "outputs": [
    {
     "data": {
      "image/png": "[encoded data removed]",
      "text/plain": [
       "<Figure size 435.875x323.269 with 1 Axes>"
      ]
     },
     "metadata": {},
     "output_type": "display_data"
    }
   ],
   "source": [
    "width = 3.487 * 1.5\n",
    "height = width / 1.618\n",
    "\n",
    "fig, ax = plt.subplots(1, 1, figsize=(width / 1.2, height))\n",
    "#ax.set_title('RefSeq graph, with replaced \\'N\\'s')\n",
    "#ax.set_title('RefSeq assembly graph')\n",
    "\n",
    "#ax1_plot1 = ax.plot(np.array(k_array_refseq),\n",
    "#                    np.array(sizes_refseq) / 2**20, marker='o', label='RS: size', c='b')\n",
    "ax.plot(np.array(input_kingsford) / 2**30, num_kmers, marker='x', label='KF: all $k$-mers', c='r')\n",
    "ax.plot(np.array(input_kingsford) / 2**30,\n",
    "                 np.array(num_kmers) - np.array(num_dummy_kmers),\n",
    "                 marker='o', label='KF: real $k$-mers', c='r')\n",
    "#ax.set_yscale('log')\n",
    "ax.set_ylabel('Number of $20$-mers')\n",
    "ax.set_xlabel('Input data size, Gb')\n",
    "#ax.set_xticks(np.array(k_array))\n",
    "ax.grid(True)\n",
    "ax.legend(loc='lower right')\n",
    "\n",
    "plt.title('Aggressive filtering, 10+')\n",
    "plt.tight_layout()\n",
    "plt.savefig('graph_input_scalability.pdf', format='pdf', bbox_inches='tight')\n",
    "plt.show()"
   ]
  }
 ],
 "metadata": {
  "kernelspec": {
   "display_name": "Python 3",
   "language": "python",
   "name": "python3"
  },
  "language_info": {
   "codemirror_mode": {
    "name": "ipython",
    "version": 3
   },
   "file_extension": ".py",
   "mimetype": "text/x-python",
   "name": "python",
   "nbconvert_exporter": "python",
   "pygments_lexer": "ipython3",
   "version": "3.6.6"
  },
  "toc": {
   "nav_menu": {},
   "number_sections": true,
   "sideBar": true,
   "skip_h1_title": true,
   "toc_cell": false,
   "toc_position": {
    "height": "1232px",
    "left": "0px",
    "right": "1228px",
    "top": "111px",
    "width": "212px"
   },
   "toc_section_display": "block",
   "toc_window_display": true
  }
 },
 "nbformat": 4,
 "nbformat_minor": 2
}
